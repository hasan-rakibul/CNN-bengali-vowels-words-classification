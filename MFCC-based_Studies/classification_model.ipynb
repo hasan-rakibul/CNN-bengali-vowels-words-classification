{
 "cells": [
  {
   "cell_type": "code",
   "execution_count": 1,
   "metadata": {},
   "outputs": [
    {
     "name": "stderr",
     "output_type": "stream",
     "text": [
      "Using TensorFlow backend.\n"
     ]
    }
   ],
   "source": [
    "import librosa\n",
    "import os\n",
    "from sklearn.model_selection import train_test_split\n",
    "from keras.utils import to_categorical\n",
    "import numpy as np\n",
    "from tqdm import tqdm\n",
    "import matplotlib.pyplot as plt\n",
    "import keras\n",
    "from keras.models import Sequential\n",
    "from keras.layers import Dense, Dropout, Flatten, Conv2D, MaxPooling2D"
   ]
  },
  {
   "cell_type": "code",
   "execution_count": 2,
   "metadata": {},
   "outputs": [],
   "source": [
    "DATA_PATH=\"./data_init/\"\n",
    "\n",
    "def get_labels(path=DATA_PATH):\n",
    "    labels=os.listdir(path)\n",
    "    label_indices=np.arange(0,len(labels))\n",
    "    return labels, label_indices, to_categorical(label_indices)"
   ]
  },
  {
   "cell_type": "code",
   "execution_count": 3,
   "metadata": {},
   "outputs": [],
   "source": [
    "def speech2mfcc(file_path,max_len=11):\n",
    "    wave, sr= librosa.load(file_path, mono=True, sr=None)\n",
    "    wave=wave[::5]\n",
    "    mfcc=librosa.feature.mfcc(wave,sr=16000)\n",
    "    if (max_len > mfcc.shape[1]): #.shape[1], 1-->column\n",
    "        pad_width=max_len-mfcc.shape[1]\n",
    "        mfcc=np.pad(mfcc,pad_width=((0,0),(0,pad_width)),mode='constant')\n",
    "    else:\n",
    "        mfcc=mfcc[:,:max_len]\n",
    "    return mfcc"
   ]
  },
  {
   "cell_type": "code",
   "execution_count": 4,
   "metadata": {},
   "outputs": [],
   "source": [
    "def save_data_to_array(path=DATA_PATH, max_len=11):\n",
    "    labels,_,_=get_labels(path)\n",
    "\n",
    "    for label in labels:\n",
    "        mfcc_vectors=[]\n",
    "\n",
    "        speechfiles=[path + label + '/' + speech for speech in os.listdir(path+'/'+label)]\n",
    "        for speech in tqdm(speechfiles,\"Saving vectors to label -'{}'\".format(label)):\n",
    "            mfcc=speech2mfcc(speech,max_len=max_len)\n",
    "            mfcc_vectors.append(mfcc)\n",
    "            \n",
    "        np.save(label+'.npy',mfcc_vectors)"
   ]
  },
  {
   "cell_type": "code",
   "execution_count": 5,
   "metadata": {},
   "outputs": [
    {
     "name": "stderr",
     "output_type": "stream",
     "text": [
      "Saving vectors to label -'1': 100%|██████████| 26/26 [00:00<00:00, 26.79it/s]\n",
      "Saving vectors to label -'10': 100%|██████████| 26/26 [00:00<00:00, 49.88it/s]\n",
      "Saving vectors to label -'2': 100%|██████████| 26/26 [00:00<00:00, 36.44it/s]\n",
      "Saving vectors to label -'3': 100%|██████████| 26/26 [00:00<00:00, 37.67it/s]\n",
      "Saving vectors to label -'4': 100%|██████████| 26/26 [00:00<00:00, 60.68it/s]\n",
      "Saving vectors to label -'5': 100%|██████████| 26/26 [00:00<00:00, 38.75it/s]\n",
      "Saving vectors to label -'6': 100%|██████████| 26/26 [00:00<00:00, 48.07it/s]\n",
      "Saving vectors to label -'7': 100%|██████████| 26/26 [00:00<00:00, 52.47it/s]\n",
      "Saving vectors to label -'8': 100%|██████████| 26/26 [00:00<00:00, 27.36it/s]\n",
      "Saving vectors to label -'9': 100%|██████████| 26/26 [00:00<00:00, 39.15it/s]\n"
     ]
    }
   ],
   "source": [
    "save_data_to_array()"
   ]
  },
  {
   "cell_type": "code",
   "execution_count": 8,
   "metadata": {},
   "outputs": [],
   "source": [
    "def get_train_test(split_ratio=0.8,random_state=42):\n",
    "    labels,indices,_=get_labels(DATA_PATH)\n",
    "\n",
    "    X=np.load(labels[0]+'.npy')\n",
    "    y=np.zeros(X.shape[0])\n",
    "\n",
    "    for i,label in enumerate(labels[1:]):\n",
    "        x=np.load(label+'.npy')\n",
    "        X=np.vstack((X,x))\n",
    "        y=np.append(y,np.full(x.shape[0],fill_value=(i+1)))\n",
    "    assert X.shape[0] == len(y)\n",
    "    return train_test_split(X,y,test_size=(1-split_ratio),random_state=random_state,shuffle=True)"
   ]
  },
  {
   "cell_type": "code",
   "execution_count": 12,
   "metadata": {},
   "outputs": [],
   "source": [
    "X_train, X_test, y_train, y_test=get_train_test()\n",
    "#print(X_train.shape)\n",
    "X_train=X_train.reshape(X_train.shape[0],20,11,1)\n",
    "X_test=X_test.reshape(X_test.shape[0],20,11,1)\n",
    "y_train_hot=to_categorical(y_train)\n",
    "y_test_hot=to_categorical(y_test)"
   ]
  },
  {
   "cell_type": "code",
   "execution_count": 21,
   "metadata": {},
   "outputs": [
    {
     "data": {
      "text/plain": [
       "(303, 20, 11, 1)"
      ]
     },
     "execution_count": 21,
     "metadata": {},
     "output_type": "execute_result"
    }
   ],
   "source": [
    "X_train.shape"
   ]
  },
  {
   "cell_type": "code",
   "execution_count": 14,
   "metadata": {},
   "outputs": [],
   "source": [
    "model=Sequential()\n",
    "model.add(Conv2D(64,kernel_size=(2,2),activation='tanh',input_shape=(20,11,1)))\n",
    "model.add(MaxPooling2D(pool_size=(2,2)))\n",
    "model.add(Dropout(0.4))\n",
    "model.add(Flatten())\n",
    "model.add(Dense(128,activation='relu'))\n",
    "model.add(Dropout(0.4))\n",
    "model.add(Dense(10,activation='softmax'))"
   ]
  },
  {
   "cell_type": "code",
   "execution_count": 15,
   "metadata": {
    "scrolled": true
   },
   "outputs": [
    {
     "name": "stdout",
     "output_type": "stream",
     "text": [
      "Train on 208 samples, validate on 52 samples\n",
      "Epoch 1/20\n",
      "208/208 [==============================] - 1s 7ms/step - loss: 3.2237 - acc: 0.1202 - val_loss: 2.3762 - val_acc: 0.1346\n",
      "Epoch 2/20\n",
      "208/208 [==============================] - 0s 606us/step - loss: 2.7501 - acc: 0.2356 - val_loss: 2.1402 - val_acc: 0.1731\n",
      "Epoch 3/20\n",
      "208/208 [==============================] - 0s 617us/step - loss: 1.9728 - acc: 0.2981 - val_loss: 2.0188 - val_acc: 0.2500\n",
      "Epoch 4/20\n",
      "208/208 [==============================] - 0s 590us/step - loss: 1.8134 - acc: 0.3221 - val_loss: 1.8252 - val_acc: 0.3462\n",
      "Epoch 5/20\n",
      "208/208 [==============================] - 0s 579us/step - loss: 1.5020 - acc: 0.4279 - val_loss: 1.5836 - val_acc: 0.4808\n",
      "Epoch 6/20\n",
      "208/208 [==============================] - 0s 626us/step - loss: 1.4073 - acc: 0.5048 - val_loss: 1.4600 - val_acc: 0.5000\n",
      "Epoch 7/20\n",
      "208/208 [==============================] - 0s 599us/step - loss: 1.2173 - acc: 0.5529 - val_loss: 1.2019 - val_acc: 0.5962\n",
      "Epoch 8/20\n",
      "208/208 [==============================] - 0s 691us/step - loss: 0.9965 - acc: 0.6683 - val_loss: 1.3022 - val_acc: 0.5192\n",
      "Epoch 9/20\n",
      "208/208 [==============================] - 0s 655us/step - loss: 0.8366 - acc: 0.6779 - val_loss: 1.3182 - val_acc: 0.5385\n",
      "Epoch 10/20\n",
      "208/208 [==============================] - 0s 690us/step - loss: 0.8823 - acc: 0.6875 - val_loss: 1.4479 - val_acc: 0.6154\n",
      "Epoch 11/20\n",
      "208/208 [==============================] - 0s 625us/step - loss: 0.8835 - acc: 0.6923 - val_loss: 1.1462 - val_acc: 0.5769\n",
      "Epoch 12/20\n",
      "208/208 [==============================] - 0s 587us/step - loss: 0.6403 - acc: 0.7596 - val_loss: 1.2330 - val_acc: 0.5577\n",
      "Epoch 13/20\n",
      "208/208 [==============================] - 0s 591us/step - loss: 0.7230 - acc: 0.7163 - val_loss: 1.1043 - val_acc: 0.5769\n",
      "Epoch 14/20\n",
      "208/208 [==============================] - 0s 579us/step - loss: 0.6767 - acc: 0.7788 - val_loss: 1.0376 - val_acc: 0.6154\n",
      "Epoch 15/20\n",
      "208/208 [==============================] - 0s 659us/step - loss: 0.5783 - acc: 0.7933 - val_loss: 1.0439 - val_acc: 0.6538\n",
      "Epoch 16/20\n",
      "208/208 [==============================] - 0s 575us/step - loss: 0.5224 - acc: 0.8462 - val_loss: 1.0796 - val_acc: 0.6154\n",
      "Epoch 17/20\n",
      "208/208 [==============================] - 0s 682us/step - loss: 0.4704 - acc: 0.8558 - val_loss: 1.0553 - val_acc: 0.6923\n",
      "Epoch 18/20\n",
      "208/208 [==============================] - 0s 601us/step - loss: 0.4731 - acc: 0.8221 - val_loss: 0.9858 - val_acc: 0.6731\n",
      "Epoch 19/20\n",
      "208/208 [==============================] - 0s 616us/step - loss: 0.4124 - acc: 0.8942 - val_loss: 1.0565 - val_acc: 0.6154\n",
      "Epoch 20/20\n",
      "208/208 [==============================] - 0s 668us/step - loss: 0.4114 - acc: 0.8702 - val_loss: 1.0648 - val_acc: 0.6154\n"
     ]
    }
   ],
   "source": [
    "model.compile(loss=keras.losses.categorical_crossentropy,optimizer=keras.optimizers.Adadelta(),metrics=['accuracy'])\n",
    "history=model.fit(X_train,y_train_hot,batch_size=128,epochs=20,verbose=1,validation_data=(X_test,y_test_hot))\n",
    "#history=model.fit(X_train,y_train_hot,batch_size=128,epochs=20,verbose=1)"
   ]
  },
  {
   "cell_type": "code",
   "execution_count": 24,
   "metadata": {},
   "outputs": [],
   "source": [
    "history_dict=history.history\n",
    "final_loss=history_dict['loss'][-1]\n",
    "final_acc=history_dict['acc'][-1]"
   ]
  },
  {
   "cell_type": "code",
   "execution_count": 25,
   "metadata": {},
   "outputs": [
    {
     "data": {
      "text/plain": [
       "0.9042904298297643"
      ]
     },
     "execution_count": 25,
     "metadata": {},
     "output_type": "execute_result"
    }
   ],
   "source": [
    "final_acc"
   ]
  },
  {
   "cell_type": "code",
   "execution_count": 26,
   "metadata": {},
   "outputs": [],
   "source": [
    "np.save('./Result/Training_trial7.npy',[final_loss, final_acc])"
   ]
  },
  {
   "cell_type": "code",
   "execution_count": 16,
   "metadata": {},
   "outputs": [],
   "source": [
    "history_dict=history.history\n",
    "loss_values=history_dict['loss']\n",
    "val_loss_values=history_dict['val_loss']\n",
    "epochs=range(1,len(loss_values)+1)"
   ]
  },
  {
   "cell_type": "code",
   "execution_count": 59,
   "metadata": {
    "scrolled": true
   },
   "outputs": [
    {
     "data": {
      "text/plain": [
       "array([0.17341404, 0.93333334])"
      ]
     },
     "execution_count": 59,
     "metadata": {},
     "output_type": "execute_result"
    }
   ],
   "source": [
    "np.load('./Result/Training_trial5.npy')"
   ]
  },
  {
   "cell_type": "code",
   "execution_count": 17,
   "metadata": {},
   "outputs": [
    {
     "data": {
      "image/png": "[encoded data removed]",
      "text/plain": [
       "<Figure size 720x288 with 1 Axes>"
      ]
     },
     "metadata": {
      "needs_background": "light"
     },
     "output_type": "display_data"
    }
   ],
   "source": [
    "plt.figure(figsize=(10,4))\n",
    "plt.plot(epochs,loss_values,'bo',label='Training loss')\n",
    "plt.plot(epochs,val_loss_values,'b',label='Validation loss')\n",
    "plt.title('Training and validation loss')\n",
    "plt.xticks(epochs)\n",
    "plt.xlabel('Epochs')\n",
    "plt.ylabel('Loss')\n",
    "plt.legend()\n",
    "#plt.show()\n",
    "plt.savefig('loss_20_epochs.svg',format='svg', dpi=1200)"
   ]
  },
  {
   "cell_type": "code",
   "execution_count": 19,
   "metadata": {},
   "outputs": [
    {
     "data": {
      "text/plain": [
       "<Figure size 432x288 with 0 Axes>"
      ]
     },
     "metadata": {},
     "output_type": "display_data"
    }
   ],
   "source": [
    "plt.clf()\n",
    "acc_values=history_dict['acc']\n",
    "val_acc_values=history_dict['val_acc']"
   ]
  },
  {
   "cell_type": "code",
   "execution_count": 20,
   "metadata": {},
   "outputs": [
    {
     "data": {
      "image/png": "[encoded data removed]",
      "text/plain": [
       "<Figure size 720x288 with 1 Axes>"
      ]
     },
     "metadata": {
      "needs_background": "light"
     },
     "output_type": "display_data"
    }
   ],
   "source": [
    "plt.figure(figsize=(10,4))\n",
    "plt.plot(epochs,acc_values,'bo',label='Training acc')\n",
    "plt.plot(epochs,val_acc_values,'b',label='Validation acc')\n",
    "plt.title('Training and validation accuracy')\n",
    "plt.xticks(epochs)\n",
    "plt.xlabel('Epochs')\n",
    "plt.ylabel('Accuracy')\n",
    "plt.legend()\n",
    "#plt.show()\n",
    "plt.savefig('accuracy_20_epochs.svg',format='svg', dpi=1200)"
   ]
  },
  {
   "cell_type": "code",
   "execution_count": 21,
   "metadata": {},
   "outputs": [
    {
     "name": "stdout",
     "output_type": "stream",
     "text": [
      "_________________________________________________________________\n",
      "Layer (type)                 Output Shape              Param #   \n",
      "=================================================================\n",
      "conv2d_2 (Conv2D)            (None, 19, 10, 64)        320       \n",
      "_________________________________________________________________\n",
      "max_pooling2d_2 (MaxPooling2 (None, 9, 5, 64)          0         \n",
      "_________________________________________________________________\n",
      "dropout_3 (Dropout)          (None, 9, 5, 64)          0         \n",
      "_________________________________________________________________\n",
      "flatten_2 (Flatten)          (None, 2880)              0         \n",
      "_________________________________________________________________\n",
      "dense_3 (Dense)              (None, 128)               368768    \n",
      "_________________________________________________________________\n",
      "dropout_4 (Dropout)          (None, 128)               0         \n",
      "_________________________________________________________________\n",
      "dense_4 (Dense)              (None, 10)                1290      \n",
      "=================================================================\n",
      "Total params: 370,378\n",
      "Trainable params: 370,378\n",
      "Non-trainable params: 0\n",
      "_________________________________________________________________\n"
     ]
    }
   ],
   "source": [
    "model.summary()"
   ]
  },
  {
   "cell_type": "code",
   "execution_count": null,
   "metadata": {},
   "outputs": [],
   "source": []
  }
 ],
 "metadata": {
  "kernelspec": {
   "display_name": "Python 3",
   "language": "python",
   "name": "python3"
  },
  "language_info": {
   "codemirror_mode": {
    "name": "ipython",
    "version": 3
   },
   "file_extension": ".py",
   "mimetype": "text/x-python",
   "name": "python",
   "nbconvert_exporter": "python",
   "pygments_lexer": "ipython3",
   "version": "3.6.6"
  }
 },
 "nbformat": 4,
 "nbformat_minor": 2
}
