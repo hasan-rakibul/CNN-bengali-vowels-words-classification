{
 "cells": [
  {
   "cell_type": "code",
   "execution_count": 1,
   "metadata": {},
   "outputs": [
    {
     "name": "stderr",
     "output_type": "stream",
     "text": [
      "Using TensorFlow backend.\n"
     ]
    }
   ],
   "source": [
    "import librosa\n",
    "import numpy as np\n",
    "import matplotlib.pyplot as plt\n",
    "import os\n",
    "from code import *\n",
    "import keras\n",
    "from keras.models import Sequential\n",
    "from keras.layers import Dense, Dropout, Flatten, Conv2D, MaxPooling2D\n",
    "from keras.utils import to_categorical\n",
    "from sklearn.model_selection import train_test_split\n",
    "from tqdm import tqdm"
   ]
  },
  {
   "cell_type": "code",
   "execution_count": 2,
   "metadata": {},
   "outputs": [],
   "source": [
    "DATA_PATH=\"./data_init/\"\n",
    "\n",
    "def get_labels(path=DATA_PATH):\n",
    "    labels=os.listdir(path)\n",
    "    label_indices=np.arange(0,len(labels))\n",
    "    return labels, label_indices, to_categorical(label_indices)"
   ]
  },
  {
   "cell_type": "code",
   "execution_count": 3,
   "metadata": {},
   "outputs": [],
   "source": [
    "def speech2mfcc(file_path,max_len=11):\n",
    "    wave, sr= librosa.load(file_path, mono=True, sr=None)\n",
    "    wave=wave[::5]\n",
    "    mfcc=librosa.feature.mfcc(wave,sr=16000)\n",
    "    if (max_len > mfcc.shape[1]): #.shape[1], 1-->column\n",
    "        pad_width=max_len-mfcc.shape[1]\n",
    "        mfcc=np.pad(mfcc,pad_width=((0,0),(0,pad_width)),mode='constant')\n",
    "    else:\n",
    "        mfcc=mfcc[:,:max_len]\n",
    "    return mfcc"
   ]
  },
  {
   "cell_type": "code",
   "execution_count": 4,
   "metadata": {},
   "outputs": [],
   "source": [
    "def save_data_to_array(path=DATA_PATH, max_len=11):\n",
    "    labels,_,_=get_labels(path)\n",
    "\n",
    "    for label in labels:\n",
    "        mfcc_vectors=[]\n",
    "\n",
    "        speechfiles=[path + label + '/' + speech for speech in os.listdir(path+'/'+label)]\n",
    "        for speech in tqdm(speechfiles,\"Saving vectors to label -'{}'\".format(label)):\n",
    "            mfcc=speech2mfcc(speech,max_len=max_len)\n",
    "            print(mfcc.shape)\n",
    "            mfcc_vectors.append(mfcc)\n",
    "            \n",
    "        np.save(label+'.npy',mfcc_vectors)"
   ]
  },
  {
   "cell_type": "code",
   "execution_count": 5,
   "metadata": {},
   "outputs": [],
   "source": [
    "def get_train_test(split_ratio=1,random_state=42):\n",
    "    labels,indices,_=get_labels(DATA_PATH)\n",
    "\n",
    "    X=np.load(labels[0]+'.npy')\n",
    "    y=np.zeros(X.shape[0])\n",
    "\n",
    "    for i,label in enumerate(labels[1:]):\n",
    "        x=np.load(label+'.npy')\n",
    "        X=np.vstack((X,x))\n",
    "        y=np.append(y,np.full(x.shape[0],fill_value=(i+1)))\n",
    "    assert X.shape[0] == len(y)\n",
    "    return train_test_split(X,y,test_size=(1-split_ratio),random_state=random_state,shuffle=True)"
   ]
  },
  {
   "cell_type": "code",
   "execution_count": 57,
   "metadata": {
    "collapsed": true
   },
   "outputs": [
    {
     "name": "stderr",
     "output_type": "stream",
     "text": [
      "Saving vectors to label -'1':  85%|████████▍ | 22/26 [00:00<00:00, 97.05it/s]"
     ]
    },
    {
     "name": "stdout",
     "output_type": "stream",
     "text": [
      "(20, 11)\n",
      "(20, 11)\n",
      "(20, 11)\n",
      "(20, 11)\n",
      "(20, 11)\n",
      "(20, 11)\n",
      "(20, 11)\n",
      "(20, 11)\n",
      "(20, 11)\n",
      "(20, 11)\n",
      "(20, 11)\n",
      "(20, 11)\n",
      "(20, 11)\n",
      "(20, 11)\n",
      "(20, 11)\n",
      "(20, 11)\n",
      "(20, 11)\n",
      "(20, 11)\n",
      "(20, 11)\n",
      "(20, 11)\n",
      "(20, 11)\n",
      "(20, 11)\n"
     ]
    },
    {
     "name": "stderr",
     "output_type": "stream",
     "text": [
      "Saving vectors to label -'1': 100%|██████████| 26/26 [00:00<00:00, 104.98it/s]\n",
      "Saving vectors to label -'10':   8%|▊         | 2/26 [00:00<00:01, 17.46it/s]"
     ]
    },
    {
     "name": "stdout",
     "output_type": "stream",
     "text": [
      "(20, 11)\n",
      "(20, 11)\n",
      "(20, 11)\n",
      "(20, 11)\n",
      "(20, 11)\n",
      "(20, 11)\n"
     ]
    },
    {
     "name": "stderr",
     "output_type": "stream",
     "text": [
      "Saving vectors to label -'10':  35%|███▍      | 9/26 [00:00<00:00, 22.63it/s]"
     ]
    },
    {
     "name": "stdout",
     "output_type": "stream",
     "text": [
      "(20, 11)\n",
      "(20, 11)\n",
      "(20, 11)\n",
      "(20, 11)\n",
      "(20, 11)\n",
      "(20, 11)\n",
      "(20, 11)\n"
     ]
    },
    {
     "name": "stderr",
     "output_type": "stream",
     "text": [
      "Saving vectors to label -'10':  69%|██████▉   | 18/26 [00:00<00:00, 28.94it/s]"
     ]
    },
    {
     "name": "stdout",
     "output_type": "stream",
     "text": [
      "(20, 11)\n",
      "(20, 11)\n",
      "(20, 11)\n",
      "(20, 11)\n",
      "(20, 11)\n",
      "(20, 11)\n",
      "(20, 11)\n",
      "(20, 11)\n",
      "(20, 11)\n"
     ]
    },
    {
     "name": "stderr",
     "output_type": "stream",
     "text": [
      "Saving vectors to label -'10': 100%|██████████| 26/26 [00:00<00:00, 31.14it/s]"
     ]
    },
    {
     "name": "stdout",
     "output_type": "stream",
     "text": [
      "(20, 11)\n",
      "(20, 11)\n",
      "(20, 11)\n",
      "(20, 11)\n",
      "(20, 11)\n",
      "(20, 11)\n",
      "(20, 11)\n",
      "(20, 11)\n"
     ]
    },
    {
     "name": "stderr",
     "output_type": "stream",
     "text": [
      "\n",
      "Saving vectors to label -'2':  31%|███       | 8/26 [00:00<00:00, 31.68it/s]"
     ]
    },
    {
     "name": "stdout",
     "output_type": "stream",
     "text": [
      "(20, 11)\n",
      "(20, 11)\n",
      "(20, 11)\n",
      "(20, 11)\n",
      "(20, 11)\n",
      "(20, 11)\n",
      "(20, 11)\n",
      "(20, 11)\n"
     ]
    },
    {
     "name": "stderr",
     "output_type": "stream",
     "text": [
      "\r",
      "Saving vectors to label -'2':  46%|████▌     | 12/26 [00:00<00:00, 32.69it/s]"
     ]
    },
    {
     "name": "stdout",
     "output_type": "stream",
     "text": [
      "(20, 11)\n",
      "(20, 11)\n",
      "(20, 11)\n",
      "(20, 11)\n",
      "(20, 11)\n",
      "(20, 11)\n",
      "(20, 11)\n"
     ]
    },
    {
     "name": "stderr",
     "output_type": "stream",
     "text": [
      "Saving vectors to label -'2':  85%|████████▍ | 22/26 [00:00<00:00, 36.72it/s]"
     ]
    },
    {
     "name": "stdout",
     "output_type": "stream",
     "text": [
      "(20, 11)\n",
      "(20, 11)\n",
      "(20, 11)\n",
      "(20, 11)\n",
      "(20, 11)\n",
      "(20, 11)\n",
      "(20, 11)\n",
      "(20, 11)\n",
      "(20, 11)\n"
     ]
    },
    {
     "name": "stderr",
     "output_type": "stream",
     "text": [
      "Saving vectors to label -'2': 100%|██████████| 26/26 [00:00<00:00, 30.03it/s]\n",
      "Saving vectors to label -'3':  12%|█▏        | 3/26 [00:00<00:00, 28.26it/s]"
     ]
    },
    {
     "name": "stdout",
     "output_type": "stream",
     "text": [
      "(20, 11)\n",
      "(20, 11)\n",
      "(20, 11)\n",
      "(20, 11)\n",
      "(20, 11)\n"
     ]
    },
    {
     "name": "stderr",
     "output_type": "stream",
     "text": [
      "Saving vectors to label -'3':  38%|███▊      | 10/26 [00:00<00:00, 31.16it/s]"
     ]
    },
    {
     "name": "stdout",
     "output_type": "stream",
     "text": [
      "(20, 11)\n",
      "(20, 11)\n",
      "(20, 11)\n",
      "(20, 11)\n",
      "(20, 11)\n",
      "(20, 11)\n",
      "(20, 11)\n",
      "(20, 11)\n"
     ]
    },
    {
     "name": "stderr",
     "output_type": "stream",
     "text": [
      "Saving vectors to label -'3':  69%|██████▉   | 18/26 [00:00<00:00, 33.59it/s]"
     ]
    },
    {
     "name": "stdout",
     "output_type": "stream",
     "text": [
      "(20, 11)\n",
      "(20, 11)\n",
      "(20, 11)\n",
      "(20, 11)\n",
      "(20, 11)\n",
      "(20, 11)\n",
      "(20, 11)\n"
     ]
    },
    {
     "name": "stderr",
     "output_type": "stream",
     "text": [
      "\r",
      "Saving vectors to label -'3':  81%|████████  | 21/26 [00:00<00:00, 24.87it/s]"
     ]
    },
    {
     "name": "stdout",
     "output_type": "stream",
     "text": [
      "(20, 11)\n",
      "(20, 11)\n",
      "(20, 11)\n"
     ]
    },
    {
     "name": "stderr",
     "output_type": "stream",
     "text": [
      "Saving vectors to label -'3': 100%|██████████| 26/26 [00:00<00:00, 26.35it/s]\n",
      "Saving vectors to label -'4':   0%|          | 0/26 [00:00<?, ?it/s]"
     ]
    },
    {
     "name": "stdout",
     "output_type": "stream",
     "text": [
      "(20, 11)\n",
      "(20, 11)\n",
      "(20, 11)\n",
      "(20, 11)\n",
      "(20, 11)\n"
     ]
    },
    {
     "name": "stderr",
     "output_type": "stream",
     "text": [
      "Saving vectors to label -'4':  23%|██▎       | 6/26 [00:00<00:00, 25.98it/s]"
     ]
    },
    {
     "name": "stdout",
     "output_type": "stream",
     "text": [
      "(20, 11)\n",
      "(20, 11)\n",
      "(20, 11)\n",
      "(20, 11)\n",
      "(20, 11)\n",
      "(20, 11)\n",
      "(20, 11)\n",
      "(20, 11)\n"
     ]
    },
    {
     "name": "stderr",
     "output_type": "stream",
     "text": [
      "Saving vectors to label -'4':  65%|██████▌   | 17/26 [00:00<00:00, 32.80it/s]"
     ]
    },
    {
     "name": "stdout",
     "output_type": "stream",
     "text": [
      "(20, 11)\n",
      "(20, 11)\n",
      "(20, 11)\n",
      "(20, 11)\n",
      "(20, 11)\n",
      "(20, 11)\n",
      "(20, 11)\n",
      "(20, 11)\n",
      "(20, 11)\n"
     ]
    },
    {
     "name": "stderr",
     "output_type": "stream",
     "text": [
      "\r",
      "Saving vectors to label -'4':  81%|████████  | 21/26 [00:00<00:00, 33.80it/s]"
     ]
    },
    {
     "name": "stdout",
     "output_type": "stream",
     "text": [
      "(20, 11)\n",
      "(20, 11)\n",
      "(20, 11)\n",
      "(20, 11)\n",
      "(20, 11)\n",
      "(20, 11)\n",
      "(20, 11)\n",
      "(20, 11)\n"
     ]
    },
    {
     "name": "stderr",
     "output_type": "stream",
     "text": [
      "Saving vectors to label -'4': 100%|██████████| 26/26 [00:00<00:00, 36.31it/s]\n",
      "Saving vectors to label -'5':  12%|█▏        | 3/26 [00:00<00:01, 22.76it/s]"
     ]
    },
    {
     "name": "stdout",
     "output_type": "stream",
     "text": [
      "(20, 11)\n",
      "(20, 11)\n",
      "(20, 11)\n",
      "(20, 11)\n"
     ]
    },
    {
     "name": "stderr",
     "output_type": "stream",
     "text": [
      "Saving vectors to label -'5':  38%|███▊      | 10/26 [00:00<00:00, 26.62it/s]"
     ]
    },
    {
     "name": "stdout",
     "output_type": "stream",
     "text": [
      "(20, 11)\n",
      "(20, 11)\n",
      "(20, 11)\n",
      "(20, 11)\n",
      "(20, 11)\n",
      "(20, 11)\n",
      "(20, 11)\n",
      "(20, 11)\n"
     ]
    },
    {
     "name": "stderr",
     "output_type": "stream",
     "text": [
      "Saving vectors to label -'5':  73%|███████▎  | 19/26 [00:00<00:00, 31.88it/s]"
     ]
    },
    {
     "name": "stdout",
     "output_type": "stream",
     "text": [
      "(20, 11)\n",
      "(20, 11)\n",
      "(20, 11)\n",
      "(20, 11)\n",
      "(20, 11)\n",
      "(20, 11)\n",
      "(20, 11)\n",
      "(20, 11)\n",
      "(20, 11)\n"
     ]
    },
    {
     "name": "stderr",
     "output_type": "stream",
     "text": [
      "Saving vectors to label -'5': 100%|██████████| 26/26 [00:00<00:00, 34.82it/s]\n",
      "Saving vectors to label -'6':   0%|          | 0/26 [00:00<?, ?it/s]"
     ]
    },
    {
     "name": "stdout",
     "output_type": "stream",
     "text": [
      "(20, 11)\n",
      "(20, 11)\n",
      "(20, 11)\n",
      "(20, 11)\n",
      "(20, 11)\n",
      "(20, 11)\n",
      "(20, 11)\n"
     ]
    },
    {
     "name": "stderr",
     "output_type": "stream",
     "text": [
      "Saving vectors to label -'6':  35%|███▍      | 9/26 [00:00<00:00, 31.56it/s]"
     ]
    },
    {
     "name": "stdout",
     "output_type": "stream",
     "text": [
      "(20, 11)\n",
      "(20, 11)\n",
      "(20, 11)\n",
      "(20, 11)\n",
      "(20, 11)\n",
      "(20, 11)\n",
      "(20, 11)\n",
      "(20, 11)\n"
     ]
    },
    {
     "name": "stderr",
     "output_type": "stream",
     "text": [
      "\r",
      "Saving vectors to label -'6':  58%|█████▊    | 15/26 [00:00<00:00, 33.91it/s]"
     ]
    },
    {
     "name": "stdout",
     "output_type": "stream",
     "text": [
      "(20, 11)\n",
      "(20, 11)\n",
      "(20, 11)\n",
      "(20, 11)\n",
      "(20, 11)\n",
      "(20, 11)\n",
      "(20, 11)\n",
      "(20, 11)\n"
     ]
    },
    {
     "name": "stderr",
     "output_type": "stream",
     "text": [
      "Saving vectors to label -'6':  92%|█████████▏| 24/26 [00:00<00:00, 33.67it/s]"
     ]
    },
    {
     "name": "stdout",
     "output_type": "stream",
     "text": [
      "(20, 11)\n",
      "(20, 11)\n",
      "(20, 11)\n",
      "(20, 11)\n",
      "(20, 11)\n",
      "(20, 11)\n",
      "(20, 11)\n"
     ]
    },
    {
     "name": "stderr",
     "output_type": "stream",
     "text": [
      "Saving vectors to label -'6': 100%|██████████| 26/26 [00:00<00:00, 36.72it/s]\n",
      "Saving vectors to label -'7':  12%|█▏        | 3/26 [00:00<00:00, 24.73it/s]"
     ]
    },
    {
     "name": "stdout",
     "output_type": "stream",
     "text": [
      "(20, 11)\n",
      "(20, 11)\n",
      "(20, 11)\n",
      "(20, 11)\n",
      "(20, 11)\n"
     ]
    },
    {
     "name": "stderr",
     "output_type": "stream",
     "text": [
      "\r",
      "Saving vectors to label -'7':  23%|██▎       | 6/26 [00:00<00:00, 24.16it/s]"
     ]
    },
    {
     "name": "stdout",
     "output_type": "stream",
     "text": [
      "(20, 11)\n",
      "(20, 11)\n",
      "(20, 11)\n",
      "(20, 11)\n",
      "(20, 11)\n",
      "(20, 11)\n",
      "(20, 11)\n",
      "(20, 11)\n"
     ]
    },
    {
     "name": "stderr",
     "output_type": "stream",
     "text": [
      "Saving vectors to label -'7':  62%|██████▏   | 16/26 [00:00<00:00, 30.85it/s]"
     ]
    },
    {
     "name": "stdout",
     "output_type": "stream",
     "text": [
      "(20, 11)\n",
      "(20, 11)\n",
      "(20, 11)\n",
      "(20, 11)\n",
      "(20, 11)\n",
      "(20, 11)\n",
      "(20, 11)\n",
      "(20, 11)\n",
      "(20, 11)\n"
     ]
    },
    {
     "name": "stderr",
     "output_type": "stream",
     "text": [
      "Saving vectors to label -'7': 100%|██████████| 26/26 [00:00<00:00, 34.75it/s]\n",
      "Saving vectors to label -'8':   0%|          | 0/26 [00:00<?, ?it/s]"
     ]
    },
    {
     "name": "stdout",
     "output_type": "stream",
     "text": [
      "(20, 11)\n",
      "(20, 11)\n",
      "(20, 11)\n",
      "(20, 11)\n",
      "(20, 11)\n",
      "(20, 11)\n"
     ]
    },
    {
     "name": "stderr",
     "output_type": "stream",
     "text": [
      "Saving vectors to label -'8':  23%|██▎       | 6/26 [00:00<00:00, 21.33it/s]"
     ]
    },
    {
     "name": "stdout",
     "output_type": "stream",
     "text": [
      "(20, 11)\n",
      "(20, 11)\n",
      "(20, 11)\n",
      "(20, 11)\n",
      "(20, 11)\n",
      "(20, 11)\n",
      "(20, 11)\n",
      "(20, 11)\n"
     ]
    },
    {
     "name": "stderr",
     "output_type": "stream",
     "text": [
      "Saving vectors to label -'8':  58%|█████▊    | 15/26 [00:00<00:00, 27.69it/s]"
     ]
    },
    {
     "name": "stdout",
     "output_type": "stream",
     "text": [
      "(20, 11)\n",
      "(20, 11)\n",
      "(20, 11)\n",
      "(20, 11)\n",
      "(20, 11)\n",
      "(20, 11)\n",
      "(20, 11)\n",
      "(20, 11)\n"
     ]
    },
    {
     "name": "stderr",
     "output_type": "stream",
     "text": [
      "Saving vectors to label -'8':  92%|█████████▏| 24/26 [00:00<00:00, 32.39it/s]"
     ]
    },
    {
     "name": "stdout",
     "output_type": "stream",
     "text": [
      "(20, 11)\n",
      "(20, 11)\n",
      "(20, 11)\n",
      "(20, 11)\n",
      "(20, 11)\n",
      "(20, 11)\n",
      "(20, 11)\n",
      "(20, 11)\n"
     ]
    },
    {
     "name": "stderr",
     "output_type": "stream",
     "text": [
      "Saving vectors to label -'8': 100%|██████████| 26/26 [00:00<00:00, 36.31it/s]\n",
      "Saving vectors to label -'9':  12%|█▏        | 3/26 [00:00<00:00, 29.27it/s]"
     ]
    },
    {
     "name": "stdout",
     "output_type": "stream",
     "text": [
      "(20, 11)\n",
      "(20, 11)\n",
      "(20, 11)\n",
      "(20, 11)\n",
      "(20, 11)\n",
      "(20, 11)\n",
      "(20, 11)\n"
     ]
    },
    {
     "name": "stderr",
     "output_type": "stream",
     "text": [
      "Saving vectors to label -'9':  54%|█████▍    | 14/26 [00:00<00:00, 35.75it/s]"
     ]
    },
    {
     "name": "stdout",
     "output_type": "stream",
     "text": [
      "(20, 11)\n",
      "(20, 11)\n",
      "(20, 11)\n",
      "(20, 11)\n",
      "(20, 11)\n",
      "(20, 11)\n",
      "(20, 11)\n",
      "(20, 11)\n",
      "(20, 11)\n",
      "(20, 11)\n",
      "(20, 11)\n"
     ]
    },
    {
     "name": "stderr",
     "output_type": "stream",
     "text": [
      "Saving vectors to label -'9': 100%|██████████| 26/26 [00:00<00:00, 42.93it/s]"
     ]
    },
    {
     "name": "stdout",
     "output_type": "stream",
     "text": [
      "(20, 11)\n",
      "(20, 11)\n",
      "(20, 11)\n",
      "(20, 11)\n",
      "(20, 11)\n",
      "(20, 11)\n",
      "(20, 11)\n",
      "(20, 11)\n",
      "(20, 11)\n",
      "(20, 11)\n"
     ]
    },
    {
     "name": "stderr",
     "output_type": "stream",
     "text": [
      "\n"
     ]
    }
   ],
   "source": [
    "save_data_to_array()"
   ]
  },
  {
   "cell_type": "code",
   "execution_count": 6,
   "metadata": {
    "scrolled": true
   },
   "outputs": [],
   "source": [
    "X_train, X_test, y_train, y_test=get_train_test()\n",
    "X_train=X_train.reshape(X_train.shape[0],20,11,1)\n",
    "#X_test=X_test.reshape(X_test.shape[0],20,11,1)\n",
    "y_train_hot=to_categorical(y_train)\n",
    "#y_test_hot=to_categorical(y_test)"
   ]
  },
  {
   "cell_type": "code",
   "execution_count": 33,
   "metadata": {},
   "outputs": [
    {
     "name": "stdout",
     "output_type": "stream",
     "text": [
      "_________________________________________________________________\n",
      "Layer (type)                 Output Shape              Param #   \n",
      "=================================================================\n",
      "conv2d_19 (Conv2D)           (None, 19, 10, 64)        320       \n",
      "_________________________________________________________________\n",
      "max_pooling2d_19 (MaxPooling (None, 9, 5, 64)          0         \n",
      "_________________________________________________________________\n",
      "dropout_37 (Dropout)         (None, 9, 5, 64)          0         \n",
      "_________________________________________________________________\n",
      "flatten_19 (Flatten)         (None, 2880)              0         \n",
      "_________________________________________________________________\n",
      "dense_37 (Dense)             (None, 128)               368768    \n",
      "_________________________________________________________________\n",
      "dropout_38 (Dropout)         (None, 128)               0         \n",
      "_________________________________________________________________\n",
      "dense_38 (Dense)             (None, 10)                1290      \n",
      "=================================================================\n",
      "Total params: 370,378\n",
      "Trainable params: 370,378\n",
      "Non-trainable params: 0\n",
      "_________________________________________________________________\n"
     ]
    }
   ],
   "source": [
    "model.summary()"
   ]
  },
  {
   "cell_type": "code",
   "execution_count": 47,
   "metadata": {},
   "outputs": [
    {
     "data": {
      "text/plain": [
       "(5760, 128)"
      ]
     },
     "execution_count": 47,
     "metadata": {},
     "output_type": "execute_result"
    }
   ],
   "source": [
    "weights_4[2880*0:2880*2].shape"
   ]
  },
  {
   "cell_type": "code",
   "execution_count": 94,
   "metadata": {},
   "outputs": [
    {
     "name": "stdout",
     "output_type": "stream",
     "text": [
      "Epoch 1/20\n",
      "50/50 [==============================] - 2s 36ms/step - loss: 3.9916 - acc: 0.0200\n",
      "Epoch 2/20\n",
      "50/50 [==============================] - 0s 465us/step - loss: 2.9709 - acc: 0.3200\n",
      "Epoch 3/20\n",
      "50/50 [==============================] - 0s 804us/step - loss: 1.8370 - acc: 0.4000\n",
      "Epoch 4/20\n",
      "50/50 [==============================] - 0s 531us/step - loss: 1.2156 - acc: 0.5800\n",
      "Epoch 5/20\n",
      "50/50 [==============================] - 0s 669us/step - loss: 0.9543 - acc: 0.6800\n",
      "Epoch 6/20\n",
      "50/50 [==============================] - 0s 741us/step - loss: 0.7518 - acc: 0.6800\n",
      "Epoch 7/20\n",
      "50/50 [==============================] - 0s 611us/step - loss: 0.8026 - acc: 0.7000\n",
      "Epoch 8/20\n",
      "50/50 [==============================] - 0s 640us/step - loss: 0.4588 - acc: 0.9200\n",
      "Epoch 9/20\n",
      "50/50 [==============================] - 0s 748us/step - loss: 0.5017 - acc: 0.8800\n",
      "Epoch 10/20\n",
      "50/50 [==============================] - 0s 806us/step - loss: 0.5351 - acc: 0.8200\n",
      "Epoch 11/20\n",
      "50/50 [==============================] - 0s 1ms/step - loss: 0.3701 - acc: 0.9000\n",
      "Epoch 12/20\n",
      "50/50 [==============================] - 0s 890us/step - loss: 0.3907 - acc: 0.8800\n",
      "Epoch 13/20\n",
      "50/50 [==============================] - 0s 802us/step - loss: 0.2227 - acc: 0.9400\n",
      "Epoch 14/20\n",
      "50/50 [==============================] - 0s 993us/step - loss: 0.3461 - acc: 0.8800\n",
      "Epoch 15/20\n",
      "50/50 [==============================] - 0s 901us/step - loss: 0.2890 - acc: 0.8800\n",
      "Epoch 16/20\n",
      "50/50 [==============================] - 0s 1ms/step - loss: 0.1699 - acc: 0.9400\n",
      "Epoch 17/20\n",
      "50/50 [==============================] - 0s 585us/step - loss: 0.1573 - acc: 0.9800\n",
      "Epoch 18/20\n",
      "50/50 [==============================] - 0s 1ms/step - loss: 0.2511 - acc: 0.9400\n",
      "Epoch 19/20\n",
      "50/50 [==============================] - 0s 775us/step - loss: 0.1336 - acc: 0.9600\n",
      "Epoch 20/20\n",
      "50/50 [==============================] - 0s 876us/step - loss: 0.2315 - acc: 0.9400\n",
      "Epoch 1/20\n",
      "70/70 [==============================] - 2s 31ms/step - loss: 3.4335 - acc: 0.1000\n",
      "Epoch 2/20\n",
      "70/70 [==============================] - 0s 550us/step - loss: 2.8498 - acc: 0.2429\n",
      "Epoch 3/20\n",
      "70/70 [==============================] - 0s 575us/step - loss: 2.0509 - acc: 0.3429\n",
      "Epoch 4/20\n",
      "70/70 [==============================] - 0s 655us/step - loss: 1.6946 - acc: 0.4286\n",
      "Epoch 5/20\n",
      "70/70 [==============================] - 0s 511us/step - loss: 1.2650 - acc: 0.5714\n",
      "Epoch 6/20\n",
      "70/70 [==============================] - 0s 855us/step - loss: 1.0467 - acc: 0.7000\n",
      "Epoch 7/20\n",
      "70/70 [==============================] - 0s 857us/step - loss: 1.0242 - acc: 0.6286\n",
      "Epoch 8/20\n",
      "70/70 [==============================] - 0s 1ms/step - loss: 0.8822 - acc: 0.6714\n",
      "Epoch 9/20\n",
      "70/70 [==============================] - 0s 776us/step - loss: 0.6662 - acc: 0.7286\n",
      "Epoch 10/20\n",
      "70/70 [==============================] - 0s 850us/step - loss: 0.7253 - acc: 0.7000\n",
      "Epoch 11/20\n",
      "70/70 [==============================] - 0s 809us/step - loss: 0.5179 - acc: 0.8571\n",
      "Epoch 12/20\n",
      "70/70 [==============================] - 0s 642us/step - loss: 0.4998 - acc: 0.8286\n",
      "Epoch 13/20\n",
      "70/70 [==============================] - 0s 708us/step - loss: 0.4703 - acc: 0.9000\n",
      "Epoch 14/20\n",
      "70/70 [==============================] - 0s 632us/step - loss: 0.4853 - acc: 0.9000\n",
      "Epoch 15/20\n",
      "70/70 [==============================] - 0s 613us/step - loss: 0.4971 - acc: 0.8429\n",
      "Epoch 16/20\n",
      "70/70 [==============================] - 0s 596us/step - loss: 0.5058 - acc: 0.8429\n",
      "Epoch 17/20\n",
      "70/70 [==============================] - 0s 757us/step - loss: 0.2491 - acc: 0.9286\n",
      "Epoch 18/20\n",
      "70/70 [==============================] - 0s 688us/step - loss: 0.3380 - acc: 0.9143\n",
      "Epoch 19/20\n",
      "70/70 [==============================] - 0s 679us/step - loss: 0.3413 - acc: 0.9000\n",
      "Epoch 20/20\n",
      "70/70 [==============================] - 0s 685us/step - loss: 0.4185 - acc: 0.8714\n",
      "Epoch 1/20\n",
      "90/90 [==============================] - 2s 18ms/step - loss: 3.6069 - acc: 0.1222\n",
      "Epoch 2/20\n",
      "90/90 [==============================] - 0s 499us/step - loss: 3.1765 - acc: 0.2111\n",
      "Epoch 3/20\n",
      "90/90 [==============================] - 0s 587us/step - loss: 2.9347 - acc: 0.2556\n",
      "Epoch 4/20\n",
      "90/90 [==============================] - 0s 534us/step - loss: 1.9108 - acc: 0.4111\n",
      "Epoch 5/20\n",
      "90/90 [==============================] - 0s 536us/step - loss: 1.5295 - acc: 0.5111\n",
      "Epoch 6/20\n",
      "90/90 [==============================] - 0s 684us/step - loss: 1.1526 - acc: 0.5889\n",
      "Epoch 7/20\n",
      "90/90 [==============================] - 0s 572us/step - loss: 1.0359 - acc: 0.6556\n",
      "Epoch 8/20\n",
      "90/90 [==============================] - 0s 776us/step - loss: 0.9642 - acc: 0.7000\n",
      "Epoch 9/20\n",
      "90/90 [==============================] - 0s 754us/step - loss: 0.9135 - acc: 0.6444\n",
      "Epoch 10/20\n",
      "90/90 [==============================] - 0s 692us/step - loss: 0.9125 - acc: 0.6889\n",
      "Epoch 11/20\n",
      "90/90 [==============================] - 0s 568us/step - loss: 0.7374 - acc: 0.8000\n",
      "Epoch 12/20\n",
      "90/90 [==============================] - 0s 575us/step - loss: 0.5485 - acc: 0.8222\n",
      "Epoch 13/20\n",
      "90/90 [==============================] - 0s 746us/step - loss: 0.7188 - acc: 0.7444\n",
      "Epoch 14/20\n",
      "90/90 [==============================] - 0s 631us/step - loss: 0.5561 - acc: 0.8333\n",
      "Epoch 15/20\n",
      "90/90 [==============================] - 0s 734us/step - loss: 0.6984 - acc: 0.8000\n",
      "Epoch 16/20\n",
      "90/90 [==============================] - 0s 607us/step - loss: 0.5510 - acc: 0.8111\n",
      "Epoch 17/20\n",
      "90/90 [==============================] - 0s 528us/step - loss: 0.4181 - acc: 0.8556\n",
      "Epoch 18/20\n",
      "90/90 [==============================] - 0s 620us/step - loss: 0.3525 - acc: 0.9000\n",
      "Epoch 19/20\n",
      "90/90 [==============================] - 0s 528us/step - loss: 0.4696 - acc: 0.8556\n",
      "Epoch 20/20\n",
      "90/90 [==============================] - 0s 745us/step - loss: 0.4745 - acc: 0.8333\n",
      "Epoch 1/20\n",
      "110/110 [==============================] - 2s 15ms/step - loss: 4.1204 - acc: 0.0636\n",
      "Epoch 2/20\n",
      "110/110 [==============================] - 0s 615us/step - loss: 4.2649 - acc: 0.1545\n",
      "Epoch 3/20\n",
      "110/110 [==============================] - 0s 607us/step - loss: 2.2758 - acc: 0.2545\n",
      "Epoch 4/20\n",
      "110/110 [==============================] - 0s 694us/step - loss: 1.9363 - acc: 0.3091\n",
      "Epoch 5/20\n",
      "110/110 [==============================] - 0s 637us/step - loss: 1.5551 - acc: 0.4909\n",
      "Epoch 6/20\n",
      "110/110 [==============================] - 0s 684us/step - loss: 1.5411 - acc: 0.4364\n",
      "Epoch 7/20\n",
      "110/110 [==============================] - 0s 749us/step - loss: 1.4803 - acc: 0.4636\n",
      "Epoch 8/20\n",
      "110/110 [==============================] - 0s 754us/step - loss: 1.5114 - acc: 0.4636\n",
      "Epoch 9/20\n",
      "110/110 [==============================] - 0s 740us/step - loss: 1.3704 - acc: 0.5091\n",
      "Epoch 10/20\n",
      "110/110 [==============================] - 0s 754us/step - loss: 1.1860 - acc: 0.5909\n",
      "Epoch 11/20\n",
      "110/110 [==============================] - 0s 801us/step - loss: 1.0574 - acc: 0.6091\n",
      "Epoch 12/20\n",
      "110/110 [==============================] - 0s 689us/step - loss: 1.0027 - acc: 0.6545\n",
      "Epoch 13/20\n",
      "110/110 [==============================] - 0s 750us/step - loss: 1.1501 - acc: 0.6000\n",
      "Epoch 14/20\n",
      "110/110 [==============================] - 0s 708us/step - loss: 1.1451 - acc: 0.6091\n",
      "Epoch 15/20\n",
      "110/110 [==============================] - 0s 773us/step - loss: 0.9406 - acc: 0.6818\n",
      "Epoch 16/20\n",
      "110/110 [==============================] - 0s 750us/step - loss: 0.7387 - acc: 0.7909\n",
      "Epoch 17/20\n",
      "110/110 [==============================] - 0s 766us/step - loss: 0.8389 - acc: 0.7273\n",
      "Epoch 18/20\n",
      "110/110 [==============================] - 0s 687us/step - loss: 0.7437 - acc: 0.7636\n",
      "Epoch 19/20\n",
      "110/110 [==============================] - 0s 724us/step - loss: 0.7139 - acc: 0.8000\n",
      "Epoch 20/20\n",
      "110/110 [==============================] - 0s 721us/step - loss: 0.5513 - acc: 0.8364\n",
      "Epoch 1/20\n",
      "130/130 [==============================] - 2s 14ms/step - loss: 3.9281 - acc: 0.1154\n",
      "Epoch 2/20\n",
      "130/130 [==============================] - 0s 561us/step - loss: 3.9684 - acc: 0.2462\n",
      "Epoch 3/20\n",
      "130/130 [==============================] - 0s 588us/step - loss: 2.5659 - acc: 0.2846\n",
      "Epoch 4/20\n",
      "130/130 [==============================] - 0s 640us/step - loss: 1.7794 - acc: 0.3769\n",
      "Epoch 5/20\n",
      "130/130 [==============================] - 0s 609us/step - loss: 1.4647 - acc: 0.5385\n",
      "Epoch 6/20\n",
      "130/130 [==============================] - 0s 649us/step - loss: 1.3580 - acc: 0.5538\n",
      "Epoch 7/20\n",
      "130/130 [==============================] - 0s 705us/step - loss: 1.2193 - acc: 0.5769\n",
      "Epoch 8/20\n",
      "130/130 [==============================] - 0s 590us/step - loss: 1.1669 - acc: 0.6077\n",
      "Epoch 9/20\n",
      "130/130 [==============================] - 0s 572us/step - loss: 1.1445 - acc: 0.6308\n",
      "Epoch 10/20\n",
      "130/130 [==============================] - 0s 605us/step - loss: 1.1038 - acc: 0.6538\n",
      "Epoch 11/20\n",
      "130/130 [==============================] - 0s 585us/step - loss: 0.9116 - acc: 0.6923\n",
      "Epoch 12/20\n",
      "130/130 [==============================] - 0s 612us/step - loss: 0.8346 - acc: 0.7231\n",
      "Epoch 13/20\n",
      "130/130 [==============================] - 0s 576us/step - loss: 0.8098 - acc: 0.7231\n",
      "Epoch 14/20\n",
      "130/130 [==============================] - 0s 775us/step - loss: 0.8017 - acc: 0.7308\n",
      "Epoch 15/20\n",
      "130/130 [==============================] - 0s 756us/step - loss: 0.6521 - acc: 0.7923\n",
      "Epoch 16/20\n",
      "130/130 [==============================] - 0s 718us/step - loss: 0.5918 - acc: 0.7923\n",
      "Epoch 17/20\n",
      "130/130 [==============================] - 0s 705us/step - loss: 0.6044 - acc: 0.8077\n",
      "Epoch 18/20\n",
      "130/130 [==============================] - 0s 746us/step - loss: 0.4679 - acc: 0.8538\n",
      "Epoch 19/20\n",
      "130/130 [==============================] - 0s 686us/step - loss: 0.5110 - acc: 0.8615\n",
      "Epoch 20/20\n",
      "130/130 [==============================] - 0s 626us/step - loss: 0.3835 - acc: 0.8846\n",
      "Epoch 1/20\n",
      "150/150 [==============================] - 2s 12ms/step - loss: 3.6624 - acc: 0.1200\n",
      "Epoch 2/20\n",
      "150/150 [==============================] - 0s 502us/step - loss: 2.4789 - acc: 0.2533\n",
      "Epoch 3/20\n",
      "150/150 [==============================] - 0s 521us/step - loss: 2.2214 - acc: 0.3133\n",
      "Epoch 4/20\n",
      "150/150 [==============================] - 0s 599us/step - loss: 1.7469 - acc: 0.3533\n",
      "Epoch 5/20\n",
      "150/150 [==============================] - 0s 521us/step - loss: 1.4781 - acc: 0.5200\n",
      "Epoch 6/20\n",
      "150/150 [==============================] - 0s 539us/step - loss: 1.3432 - acc: 0.5600\n",
      "Epoch 7/20\n",
      "150/150 [==============================] - 0s 575us/step - loss: 1.2882 - acc: 0.5400\n",
      "Epoch 8/20\n",
      "150/150 [==============================] - 0s 584us/step - loss: 1.0109 - acc: 0.6467\n",
      "Epoch 9/20\n",
      "150/150 [==============================] - 0s 483us/step - loss: 0.9589 - acc: 0.6533\n",
      "Epoch 10/20\n",
      "150/150 [==============================] - 0s 583us/step - loss: 0.8001 - acc: 0.7333\n",
      "Epoch 11/20\n",
      "150/150 [==============================] - 0s 619us/step - loss: 0.7506 - acc: 0.7133\n",
      "Epoch 12/20\n",
      "150/150 [==============================] - 0s 625us/step - loss: 0.9540 - acc: 0.6267\n",
      "Epoch 13/20\n",
      "150/150 [==============================] - 0s 567us/step - loss: 0.6988 - acc: 0.7533\n",
      "Epoch 14/20\n",
      "150/150 [==============================] - 0s 605us/step - loss: 0.6499 - acc: 0.7667\n",
      "Epoch 15/20\n",
      "150/150 [==============================] - 0s 586us/step - loss: 0.6446 - acc: 0.7667\n",
      "Epoch 16/20\n",
      "150/150 [==============================] - 0s 555us/step - loss: 0.5138 - acc: 0.8400\n",
      "Epoch 17/20\n",
      "150/150 [==============================] - 0s 521us/step - loss: 0.4937 - acc: 0.8200\n",
      "Epoch 18/20\n",
      "150/150 [==============================] - 0s 568us/step - loss: 0.4665 - acc: 0.8333\n",
      "Epoch 19/20\n",
      "150/150 [==============================] - 0s 527us/step - loss: 0.4641 - acc: 0.8333\n",
      "Epoch 20/20\n",
      "150/150 [==============================] - 0s 544us/step - loss: 0.3818 - acc: 0.8933\n",
      "Epoch 1/20\n",
      "170/170 [==============================] - 2s 11ms/step - loss: 4.4919 - acc: 0.1471\n",
      "Epoch 2/20\n",
      "170/170 [==============================] - 0s 561us/step - loss: 3.2213 - acc: 0.2294\n",
      "Epoch 3/20\n",
      "170/170 [==============================] - 0s 502us/step - loss: 1.8188 - acc: 0.3706\n",
      "Epoch 4/20\n",
      "170/170 [==============================] - 0s 619us/step - loss: 1.7649 - acc: 0.4235\n",
      "Epoch 5/20\n",
      "170/170 [==============================] - 0s 583us/step - loss: 1.4660 - acc: 0.4824\n",
      "Epoch 6/20\n",
      "170/170 [==============================] - 0s 510us/step - loss: 1.3446 - acc: 0.5588\n",
      "Epoch 7/20\n",
      "170/170 [==============================] - 0s 538us/step - loss: 1.2456 - acc: 0.5529\n",
      "Epoch 8/20\n",
      "170/170 [==============================] - 0s 584us/step - loss: 1.0123 - acc: 0.6353\n",
      "Epoch 9/20\n",
      "170/170 [==============================] - 0s 544us/step - loss: 0.9981 - acc: 0.6824\n",
      "Epoch 10/20\n",
      "170/170 [==============================] - 0s 522us/step - loss: 0.8207 - acc: 0.6882\n",
      "Epoch 11/20\n",
      "170/170 [==============================] - 0s 543us/step - loss: 0.8144 - acc: 0.7176\n",
      "Epoch 12/20\n",
      "170/170 [==============================] - 0s 525us/step - loss: 0.6859 - acc: 0.7647\n",
      "Epoch 13/20\n",
      "170/170 [==============================] - 0s 580us/step - loss: 0.7056 - acc: 0.7588\n",
      "Epoch 14/20\n",
      "170/170 [==============================] - 0s 478us/step - loss: 0.6519 - acc: 0.7765\n",
      "Epoch 15/20\n",
      "170/170 [==============================] - 0s 563us/step - loss: 0.6397 - acc: 0.7588\n",
      "Epoch 16/20\n",
      "170/170 [==============================] - 0s 548us/step - loss: 0.5656 - acc: 0.7882\n",
      "Epoch 17/20\n",
      "170/170 [==============================] - 0s 486us/step - loss: 0.5163 - acc: 0.8000\n",
      "Epoch 18/20\n",
      "170/170 [==============================] - 0s 521us/step - loss: 0.4831 - acc: 0.8471\n",
      "Epoch 19/20\n",
      "170/170 [==============================] - 0s 524us/step - loss: 0.4653 - acc: 0.8706\n",
      "Epoch 20/20\n",
      "170/170 [==============================] - 0s 555us/step - loss: 0.5133 - acc: 0.8353\n",
      "Epoch 1/20\n",
      "190/190 [==============================] - 2s 10ms/step - loss: 3.4558 - acc: 0.1526\n",
      "Epoch 2/20\n",
      "190/190 [==============================] - 0s 512us/step - loss: 3.1139 - acc: 0.2632\n",
      "Epoch 3/20\n",
      "190/190 [==============================] - 0s 463us/step - loss: 1.8481 - acc: 0.3053\n",
      "Epoch 4/20\n",
      "190/190 [==============================] - 0s 576us/step - loss: 1.7102 - acc: 0.3579\n",
      "Epoch 5/20\n",
      "190/190 [==============================] - 0s 490us/step - loss: 1.4124 - acc: 0.5105\n",
      "Epoch 6/20\n",
      "190/190 [==============================] - 0s 627us/step - loss: 1.2408 - acc: 0.5737\n",
      "Epoch 7/20\n",
      "190/190 [==============================] - 0s 535us/step - loss: 1.2435 - acc: 0.5632\n",
      "Epoch 8/20\n",
      "190/190 [==============================] - 0s 464us/step - loss: 1.1240 - acc: 0.5947\n",
      "Epoch 9/20\n",
      "190/190 [==============================] - 0s 516us/step - loss: 1.0490 - acc: 0.6789\n",
      "Epoch 10/20\n",
      "190/190 [==============================] - 0s 588us/step - loss: 0.8471 - acc: 0.7158\n",
      "Epoch 11/20\n",
      "190/190 [==============================] - 0s 485us/step - loss: 0.7734 - acc: 0.7579\n",
      "Epoch 12/20\n",
      "190/190 [==============================] - 0s 464us/step - loss: 0.7636 - acc: 0.7474\n",
      "Epoch 13/20\n",
      "190/190 [==============================] - 0s 503us/step - loss: 0.6529 - acc: 0.7579\n",
      "Epoch 14/20\n",
      "190/190 [==============================] - 0s 559us/step - loss: 0.6781 - acc: 0.7316\n",
      "Epoch 15/20\n",
      "190/190 [==============================] - 0s 514us/step - loss: 0.7963 - acc: 0.7263\n",
      "Epoch 16/20\n",
      "190/190 [==============================] - 0s 552us/step - loss: 0.6197 - acc: 0.7579\n",
      "Epoch 17/20\n",
      "190/190 [==============================] - 0s 558us/step - loss: 0.4622 - acc: 0.8737\n",
      "Epoch 18/20\n",
      "190/190 [==============================] - 0s 491us/step - loss: 0.4282 - acc: 0.8526\n",
      "Epoch 19/20\n",
      "190/190 [==============================] - 0s 571us/step - loss: 0.5203 - acc: 0.8263\n",
      "Epoch 20/20\n",
      "190/190 [==============================] - 0s 526us/step - loss: 0.5301 - acc: 0.8368\n",
      "Epoch 1/20\n",
      "210/210 [==============================] - 2s 9ms/step - loss: 4.3321 - acc: 0.0810\n",
      "Epoch 2/20\n",
      "210/210 [==============================] - 0s 573us/step - loss: 3.0079 - acc: 0.2000\n",
      "Epoch 3/20\n",
      "210/210 [==============================] - 0s 589us/step - loss: 2.0731 - acc: 0.2905\n",
      "Epoch 4/20\n",
      "210/210 [==============================] - 0s 553us/step - loss: 1.6533 - acc: 0.4476\n",
      "Epoch 5/20\n",
      "210/210 [==============================] - 0s 606us/step - loss: 1.6343 - acc: 0.4571\n",
      "Epoch 6/20\n",
      "210/210 [==============================] - 0s 593us/step - loss: 1.3931 - acc: 0.5000\n",
      "Epoch 7/20\n",
      "210/210 [==============================] - 0s 564us/step - loss: 1.2840 - acc: 0.5524\n",
      "Epoch 8/20\n",
      "210/210 [==============================] - 0s 545us/step - loss: 1.2988 - acc: 0.5714\n",
      "Epoch 9/20\n",
      "210/210 [==============================] - 0s 529us/step - loss: 1.1520 - acc: 0.5810\n",
      "Epoch 10/20\n"
     ]
    },
    {
     "name": "stdout",
     "output_type": "stream",
     "text": [
      "210/210 [==============================] - 0s 558us/step - loss: 0.9722 - acc: 0.7000\n",
      "Epoch 11/20\n",
      "210/210 [==============================] - 0s 527us/step - loss: 0.9648 - acc: 0.6429\n",
      "Epoch 12/20\n",
      "210/210 [==============================] - 0s 490us/step - loss: 0.8067 - acc: 0.7095\n",
      "Epoch 13/20\n",
      "210/210 [==============================] - 0s 476us/step - loss: 0.8862 - acc: 0.6952\n",
      "Epoch 14/20\n",
      "210/210 [==============================] - 0s 615us/step - loss: 0.8242 - acc: 0.7095\n",
      "Epoch 15/20\n",
      "210/210 [==============================] - 0s 488us/step - loss: 0.7443 - acc: 0.7429\n",
      "Epoch 16/20\n",
      "210/210 [==============================] - 0s 476us/step - loss: 0.6223 - acc: 0.8000\n",
      "Epoch 17/20\n",
      "210/210 [==============================] - 0s 473us/step - loss: 0.6606 - acc: 0.7762\n",
      "Epoch 18/20\n",
      "210/210 [==============================] - 0s 513us/step - loss: 0.6630 - acc: 0.7667\n",
      "Epoch 19/20\n",
      "210/210 [==============================] - 0s 490us/step - loss: 0.6096 - acc: 0.7714\n",
      "Epoch 20/20\n",
      "210/210 [==============================] - 0s 471us/step - loss: 0.6162 - acc: 0.7857\n",
      "Epoch 1/20\n",
      "230/230 [==============================] - 2s 8ms/step - loss: 4.8188 - acc: 0.1348\n",
      "Epoch 2/20\n",
      "230/230 [==============================] - 0s 494us/step - loss: 2.4411 - acc: 0.2174\n",
      "Epoch 3/20\n",
      "230/230 [==============================] - 0s 515us/step - loss: 1.8620 - acc: 0.3348\n",
      "Epoch 4/20\n",
      "230/230 [==============================] - 0s 458us/step - loss: 1.6621 - acc: 0.4000\n",
      "Epoch 5/20\n",
      "230/230 [==============================] - 0s 526us/step - loss: 1.5484 - acc: 0.4565\n",
      "Epoch 6/20\n",
      "230/230 [==============================] - 0s 485us/step - loss: 1.3154 - acc: 0.5826\n",
      "Epoch 7/20\n",
      "230/230 [==============================] - 0s 511us/step - loss: 1.1292 - acc: 0.6261\n",
      "Epoch 8/20\n",
      "230/230 [==============================] - 0s 615us/step - loss: 1.0617 - acc: 0.6261\n",
      "Epoch 9/20\n",
      "230/230 [==============================] - 0s 819us/step - loss: 1.1052 - acc: 0.6217\n",
      "Epoch 10/20\n",
      "230/230 [==============================] - 0s 703us/step - loss: 0.9793 - acc: 0.6522\n",
      "Epoch 11/20\n",
      "230/230 [==============================] - 0s 854us/step - loss: 0.7933 - acc: 0.7391\n",
      "Epoch 12/20\n",
      "230/230 [==============================] - 0s 580us/step - loss: 0.7823 - acc: 0.7174\n",
      "Epoch 13/20\n",
      "230/230 [==============================] - 0s 563us/step - loss: 0.8293 - acc: 0.7087\n",
      "Epoch 14/20\n",
      "230/230 [==============================] - 0s 492us/step - loss: 0.6636 - acc: 0.7739\n",
      "Epoch 15/20\n",
      "230/230 [==============================] - 0s 552us/step - loss: 0.7746 - acc: 0.7435\n",
      "Epoch 16/20\n",
      "230/230 [==============================] - 0s 525us/step - loss: 0.5838 - acc: 0.7957\n",
      "Epoch 17/20\n",
      "230/230 [==============================] - 0s 471us/step - loss: 0.5831 - acc: 0.7913\n",
      "Epoch 18/20\n",
      "230/230 [==============================] - 0s 536us/step - loss: 0.4849 - acc: 0.8609\n",
      "Epoch 19/20\n",
      "230/230 [==============================] - 0s 708us/step - loss: 0.4585 - acc: 0.8522\n",
      "Epoch 20/20\n",
      "230/230 [==============================] - 0s 572us/step - loss: 0.4611 - acc: 0.8565\n",
      "Epoch 1/20\n",
      "250/250 [==============================] - 2s 8ms/step - loss: 4.2146 - acc: 0.0840\n",
      "Epoch 2/20\n",
      "250/250 [==============================] - 0s 432us/step - loss: 2.5047 - acc: 0.2280\n",
      "Epoch 3/20\n",
      "250/250 [==============================] - 0s 483us/step - loss: 1.7838 - acc: 0.3480\n",
      "Epoch 4/20\n",
      "250/250 [==============================] - 0s 443us/step - loss: 1.5669 - acc: 0.4600\n",
      "Epoch 5/20\n",
      "250/250 [==============================] - 0s 482us/step - loss: 1.4697 - acc: 0.5280\n",
      "Epoch 6/20\n",
      "250/250 [==============================] - 0s 441us/step - loss: 1.2908 - acc: 0.5400\n",
      "Epoch 7/20\n",
      "250/250 [==============================] - 0s 533us/step - loss: 1.1507 - acc: 0.6240\n",
      "Epoch 8/20\n",
      "250/250 [==============================] - 0s 447us/step - loss: 1.1231 - acc: 0.6080\n",
      "Epoch 9/20\n",
      "250/250 [==============================] - 0s 509us/step - loss: 0.8722 - acc: 0.7120\n",
      "Epoch 10/20\n",
      "250/250 [==============================] - 0s 487us/step - loss: 0.8948 - acc: 0.7040\n",
      "Epoch 11/20\n",
      "250/250 [==============================] - 0s 646us/step - loss: 0.7948 - acc: 0.7280\n",
      "Epoch 12/20\n",
      "250/250 [==============================] - 0s 600us/step - loss: 0.7119 - acc: 0.7480\n",
      "Epoch 13/20\n",
      "250/250 [==============================] - 0s 549us/step - loss: 0.8157 - acc: 0.7080\n",
      "Epoch 14/20\n",
      "250/250 [==============================] - 0s 582us/step - loss: 0.7355 - acc: 0.7200\n",
      "Epoch 15/20\n",
      "250/250 [==============================] - 0s 581us/step - loss: 0.6621 - acc: 0.8280\n",
      "Epoch 16/20\n",
      "250/250 [==============================] - 0s 601us/step - loss: 0.6247 - acc: 0.8160\n",
      "Epoch 17/20\n",
      "250/250 [==============================] - 0s 530us/step - loss: 0.5287 - acc: 0.8160\n",
      "Epoch 18/20\n",
      "250/250 [==============================] - 0s 538us/step - loss: 0.4732 - acc: 0.8360\n",
      "Epoch 19/20\n",
      "250/250 [==============================] - 0s 511us/step - loss: 0.5402 - acc: 0.7960\n",
      "Epoch 20/20\n",
      "250/250 [==============================] - 0s 516us/step - loss: 0.4421 - acc: 0.8440\n"
     ]
    }
   ],
   "source": [
    "weights_0=[]\n",
    "weights_4=[]\n",
    "weights_6=[]\n",
    "\n",
    "for step in np.arange(50,261,20):\n",
    "    \n",
    "    n_X_train=X_train[:step]\n",
    "    n_y_train_hot=y_train_hot[:step]\n",
    "    \n",
    "    model=Sequential()\n",
    "    model.add(Conv2D(64,kernel_size=(2,2),activation='tanh',input_shape=(20,11,1)))\n",
    "    model.add(MaxPooling2D(pool_size=(2,2)))\n",
    "    model.add(Dropout(0.4))\n",
    "    model.add(Flatten())\n",
    "    model.add(Dense(128,activation='relu'))\n",
    "    model.add(Dropout(0.4))\n",
    "    model.add(Dense(10,activation='softmax'))\n",
    "    model.compile(loss=keras.losses.categorical_crossentropy,optimizer=keras.optimizers.Adadelta(),metrics=['accuracy'])\n",
    "    \n",
    "    model.fit(n_X_train,n_y_train_hot,batch_size=128,epochs=20,verbose=1)\n",
    "        \n",
    "    if step==50:\n",
    "        weights_0=model.layers[0].get_weights()[0]\n",
    "        weights_4=model.layers[4].get_weights()[0]\n",
    "        weights_6=model.layers[6].get_weights()[0]\n",
    "    else:\n",
    "        weights_0=np.vstack((weights_0,model.layers[0].get_weights()[0]))\n",
    "        weights_4=np.vstack((weights_4,model.layers[4].get_weights()[0]))\n",
    "        weights_6=np.vstack((weights_6,model.layers[6].get_weights()[0]))\n",
    "    "
   ]
  },
  {
   "cell_type": "code",
   "execution_count": 95,
   "metadata": {},
   "outputs": [],
   "source": [
    "for i in range(10):\n",
    "        block_01=abs(weights_0[2*i:2*(i+1)])   #Layer_0 has 2*2*1*64 weight\n",
    "        block_02=abs(weights_0[2*(i+1):2*(i+2)])\n",
    "        diff_0=abs(block_01-block_02)\n",
    "        \n",
    "        block_41=(weights_4[2880*i:2880*(i+1)])   #Layer_4 has 2880*128 weight\n",
    "        block_42=(weights_4[2880*(i+1):2880*(i+2)])\n",
    "        diff_4=abs(block_41-block_42)\n",
    "        \n",
    "        block_61=(weights_6[128*i:128*(i+1)])   #Layer_6 has 128*10 weight\n",
    "        block_62=(weights_6[128*(i+1):128*(i+2)])\n",
    "        diff_6=abs(block_61-block_62)\n",
    "        \n",
    "        if i==0:\n",
    "            mean_0=np.mean(diff_0)\n",
    "            mean_4=np.mean(diff_4)\n",
    "            mean_6=np.mean(diff_6)\n",
    "        else:\n",
    "            mean_0=np.append(mean_0,np.mean(diff_0))\n",
    "            mean_4=np.append(mean_4,np.mean(diff_4))\n",
    "            mean_6=np.append(mean_6,np.mean(diff_6))"
   ]
  },
  {
   "cell_type": "code",
   "execution_count": 71,
   "metadata": {
    "scrolled": true
   },
   "outputs": [
    {
     "data": {
      "text/plain": [
       "(10,)"
      ]
     },
     "execution_count": 71,
     "metadata": {},
     "output_type": "execute_result"
    }
   ],
   "source": [
    "mean_6.shape"
   ]
  },
  {
   "cell_type": "code",
   "execution_count": null,
   "metadata": {},
   "outputs": [],
   "source": [
    "mat_4=np.load('Average_Diff_mat_4.npy')\n",
    "mat_6=np.load('Average_Diff_mat_6.npy')"
   ]
  },
  {
   "cell_type": "code",
   "execution_count": 86,
   "metadata": {},
   "outputs": [
    {
     "data": {
      "image/png": "[encoded data removed]",
      "text/plain": [
       "<Figure size 432x288 with 1 Axes>"
      ]
     },
     "metadata": {
      "needs_background": "light"
     },
     "output_type": "display_data"
    }
   ],
   "source": [
    "input_feature=np.arange(70,261,20)\n",
    "plt.xlabel('Number of Input Feature')\n",
    "plt.ylabel('Mean Value')\n",
    "plt.plot(input_feature,mean_0)\n",
    "plt.title('Conv2D layer')\n",
    "plt.savefig('weights_variation_0.tiff')"
   ]
  },
  {
   "cell_type": "code",
   "execution_count": 96,
   "metadata": {},
   "outputs": [
    {
     "data": {
      "image/png": "[encoded data removed]",
      "text/plain": [
       "<Figure size 432x288 with 1 Axes>"
      ]
     },
     "metadata": {
      "needs_background": "light"
     },
     "output_type": "display_data"
    }
   ],
   "source": [
    "input_feature=np.arange(70,261,20)\n",
    "plt.xlabel('Number of Input Feature')\n",
    "plt.ylabel('Mean Value')\n",
    "plt.plot(input_feature,mean_4)\n",
    "plt.title('Dense_19 layer')\n",
    "plt.savefig('weights_variation_4.tiff')"
   ]
  },
  {
   "cell_type": "code",
   "execution_count": 97,
   "metadata": {},
   "outputs": [
    {
     "data": {
      "image/png": "[encoded data removed]",
      "text/plain": [
       "<Figure size 432x288 with 1 Axes>"
      ]
     },
     "metadata": {
      "needs_background": "light"
     },
     "output_type": "display_data"
    }
   ],
   "source": [
    "input_feature=np.arange(70,261,20)\n",
    "plt.xlabel('Number of Input Feature')\n",
    "plt.ylabel('Mean Value')\n",
    "plt.plot(input_feature,mean_6)\n",
    "plt.title('Dense_20 layer')\n",
    "plt.savefig('weights_variation_6.svg')"
   ]
  },
  {
   "cell_type": "code",
   "execution_count": null,
   "metadata": {},
   "outputs": [],
   "source": []
  }
 ],
 "metadata": {
  "kernelspec": {
   "display_name": "Python 3",
   "language": "python",
   "name": "python3"
  },
  "language_info": {
   "codemirror_mode": {
    "name": "ipython",
    "version": 3
   },
   "file_extension": ".py",
   "mimetype": "text/x-python",
   "name": "python",
   "nbconvert_exporter": "python",
   "pygments_lexer": "ipython3",
   "version": "3.6.6"
  }
 },
 "nbformat": 4,
 "nbformat_minor": 2
}
