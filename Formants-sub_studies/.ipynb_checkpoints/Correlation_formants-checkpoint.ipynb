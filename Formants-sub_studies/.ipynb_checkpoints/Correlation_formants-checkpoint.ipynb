{
 "cells": [
  {
   "cell_type": "code",
   "execution_count": 1,
   "metadata": {},
   "outputs": [],
   "source": [
    "import pandas as pd\n",
    "import numpy as np\n",
    "import os\n",
    "from scipy.stats import variation"
   ]
  },
  {
   "cell_type": "code",
   "execution_count": 83,
   "metadata": {},
   "outputs": [],
   "source": [
    "#DATA_PATH=\"./data/Formant2/\""
   ]
  },
  {
   "cell_type": "code",
   "execution_count": 18,
   "metadata": {
    "scrolled": true
   },
   "outputs": [],
   "source": [
    "for j in range(1,2):\n",
    "    DATA_PATH=\"./Audio_Data/Formant/Formant\"+str(j)+\"/\"\n",
    "    i=0\n",
    "    for speechfile in os.listdir(DATA_PATH):\n",
    "        data = pd.read_csv(DATA_PATH+speechfile, delim_whitespace=True,header=None,names=[\"time\",\"F1\",\"F2\",\"F3\",\"F4\",\"F5\"],dtype=np.float64,na_values=\"--undefined--\")\n",
    "        formantMean=data.mean(axis=0) #rows to rows mean\n",
    "        if i==0:\n",
    "            meanAll=formantMean\n",
    "            i+=1\n",
    "        else:\n",
    "            meanAll=pd.concat([meanAll,formantMean],axis=1) #add columnwise\n",
    "\n",
    "    cov=variation(meanAll,axis=1)\n",
    "    \n",
    "    np.save('./Result/COV/COV_all_vowel_'+str(j)+'.npy',cov)"
   ]
  },
  {
   "cell_type": "code",
   "execution_count": 4,
   "metadata": {},
   "outputs": [
    {
     "data": {
      "text/plain": [
       "array([0.26650131, 0.22369352, 0.1719766 , 0.07246934, 0.08419157,\n",
       "       0.07120147])"
      ]
     },
     "execution_count": 4,
     "metadata": {},
     "output_type": "execute_result"
    }
   ],
   "source": [
    "cov"
   ]
  },
  {
   "cell_type": "code",
   "execution_count": 13,
   "metadata": {},
   "outputs": [
    {
     "data": {
      "text/plain": [
       "array([0.31732578, 0.20166807, 0.22457301, 0.08611825, 0.07781206,\n",
       "       0.06791979])"
      ]
     },
     "execution_count": 13,
     "metadata": {},
     "output_type": "execute_result"
    }
   ],
   "source": [
    "np.load('./Result/COV/COV_all_vowel_1.npy')"
   ]
  },
  {
   "cell_type": "code",
   "execution_count": 19,
   "metadata": {},
   "outputs": [
    {
     "data": {
      "text/plain": [
       "array([0.31826632, 0.21767857, 0.25657935, 0.0931142 , 0.08147918,\n",
       "       0.07475102])"
      ]
     },
     "execution_count": 19,
     "metadata": {},
     "output_type": "execute_result"
    }
   ],
   "source": [
    "np.load('./Result/COV/COV_all_vowel_1.npy')"
   ]
  },
  {
   "cell_type": "code",
   "execution_count": 17,
   "metadata": {},
   "outputs": [
    {
     "data": {
      "text/plain": [
       "array([2.10472719e-03, 1.64899632e+04, 7.78112206e+04, 5.35807795e+04,\n",
       "       8.71819973e+04, 1.17178776e+05])"
      ]
     },
     "execution_count": 17,
     "metadata": {},
     "output_type": "execute_result"
    }
   ],
   "source": [
    "np.load('./Result/COV/COV_all_vowel_1.npy')"
   ]
  },
  {
   "cell_type": "code",
   "execution_count": null,
   "metadata": {},
   "outputs": [],
   "source": []
  }
 ],
 "metadata": {
  "kernelspec": {
   "display_name": "Python 3",
   "language": "python",
   "name": "python3"
  },
  "language_info": {
   "codemirror_mode": {
    "name": "ipython",
    "version": 3
   },
   "file_extension": ".py",
   "mimetype": "text/x-python",
   "name": "python",
   "nbconvert_exporter": "python",
   "pygments_lexer": "ipython3",
   "version": "3.8.3"
  }
 },
 "nbformat": 4,
 "nbformat_minor": 2
}
