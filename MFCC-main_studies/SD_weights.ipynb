{
 "cells": [
  {
   "cell_type": "code",
   "execution_count": null,
   "metadata": {},
   "outputs": [],
   "source": [
    "import librosa\n",
    "import numpy as np\n",
    "import matplotlib.pyplot as plt\n",
    "import os\n",
    "from code import *\n",
    "import keras\n",
    "from keras.models import Sequential\n",
    "from keras.layers import Dense, Dropout, Flatten, Conv2D, MaxPooling2D\n",
    "from keras.utils import to_categorical\n",
    "from sklearn.model_selection import train_test_split\n",
    "from tqdm import tqdm"
   ]
  },
  {
   "cell_type": "code",
   "execution_count": null,
   "metadata": {},
   "outputs": [],
   "source": [
    "DATA_PATH=\"./data/\"\n",
    "def get_labels(path=DATA_PATH):\n",
    "\tlabels=os.listdir(path)\n",
    "\tlabel_indices=np.arange(0,len(labels))\n",
    "\treturn labels, label_indices, to_categorical(label_indices)"
   ]
  },
  {
   "cell_type": "code",
   "execution_count": null,
   "metadata": {},
   "outputs": [],
   "source": [
    "def speech2mfcc(file_path,max_len=11):\n",
    "\twave, sr= librosa.load(file_path, mono=True, sr=None)\n",
    "\twave=wave[::5]\n",
    "\tmfcc=librosa.feature.mfcc(wave,sr=sr)\n",
    "#\tprint(mfcc)\n",
    "\tif (max_len > mfcc.shape[1]): #.shape[1], 1-->column\n",
    "\t\tpad_width=max_len-mfcc.shape[1]\n",
    "\t\tmfcc=np.pad(mfcc,pad_width=((0,0),(0,pad_width)),mode='constant')\n",
    "\n",
    "\telse:\n",
    "\t\tmfcc=mfcc[:,:max_len]\n",
    "#\tprint(mfcc.shape)\n",
    "\treturn mfcc"
   ]
  },
  {
   "cell_type": "code",
   "execution_count": null,
   "metadata": {},
   "outputs": [],
   "source": [
    "def save_data_to_array(path=DATA_PATH, max_len=11):\n",
    "\tlabels,_,_=get_labels(path)\n",
    "\n",
    "\tfor label in labels:\n",
    "\t\tmfcc_vectors=[]\n",
    "\n",
    "\t\tspeechfiles=[path + label + '/' + speech for speech in os.listdir(path+'/'+label)]\n",
    "\t\tfor speech in tqdm(speechfiles,\"Saving vectors to label -'{}'\".format(label)):\n",
    "\t\t\tmfcc=speech2mfcc(speech,max_len=max_len)\n",
    "\t\t\tprint(mfcc.shape)\n",
    "\t\t\tmfcc_vectors.append(mfcc)\n",
    "#\t\tprint(mfcc_vectors)\n",
    "\t\tnp.save(label+'.npy',mfcc_vectors)"
   ]
  },
  {
   "cell_type": "code",
   "execution_count": null,
   "metadata": {},
   "outputs": [],
   "source": [
    "def get_train_test(split_ratio=0.8,random_state=42):\n",
    "\tlabels,indices,_=get_labels(DATA_PATH)\n",
    "\n",
    "\tX=np.load(labels[0]+'.npy')\n",
    "\ty=np.zeros(X.shape[0])\n",
    "\t\n",
    "\tfor i,label in enumerate(labels[1:]):\n",
    "\t\tx=np.load(label+'.npy')\n",
    "\t\tX=np.vstack((X,x))\n",
    "\t\ty=np.append(y,np.full(x.shape[0],fill_value=(i+1)))\n",
    "\tassert X.shape[0] == len(y)\n",
    "#\tprint(X.shape)\n",
    "#\tprint(y)\n",
    "\treturn train_test_split(X,y,test_size=(1-split_ratio),random_state=random_state,shuffle=True)"
   ]
  },
  {
   "cell_type": "code",
   "execution_count": 57,
   "metadata": {
    "collapsed": true
   },
   "outputs": [
    {
     "name": "stderr",
     "output_type": "stream",
     "text": [
      "Saving vectors to label -'1':  85%|████████▍ | 22/26 [00:00<00:00, 97.05it/s]"
     ]
    },
    {
     "name": "stdout",
     "output_type": "stream",
     "text": [
      "(20, 11)\n",
      "(20, 11)\n",
      "(20, 11)\n",
      "(20, 11)\n",
      "(20, 11)\n",
      "(20, 11)\n",
      "(20, 11)\n",
      "(20, 11)\n",
      "(20, 11)\n",
      "(20, 11)\n",
      "(20, 11)\n",
      "(20, 11)\n",
      "(20, 11)\n",
      "(20, 11)\n",
      "(20, 11)\n",
      "(20, 11)\n",
      "(20, 11)\n",
      "(20, 11)\n",
      "(20, 11)\n",
      "(20, 11)\n",
      "(20, 11)\n",
      "(20, 11)\n"
     ]
    },
    {
     "name": "stderr",
     "output_type": "stream",
     "text": [
      "Saving vectors to label -'1': 100%|██████████| 26/26 [00:00<00:00, 104.98it/s]\n",
      "Saving vectors to label -'10':   8%|▊         | 2/26 [00:00<00:01, 17.46it/s]"
     ]
    },
    {
     "name": "stdout",
     "output_type": "stream",
     "text": [
      "(20, 11)\n",
      "(20, 11)\n",
      "(20, 11)\n",
      "(20, 11)\n",
      "(20, 11)\n",
      "(20, 11)\n"
     ]
    },
    {
     "name": "stderr",
     "output_type": "stream",
     "text": [
      "Saving vectors to label -'10':  35%|███▍      | 9/26 [00:00<00:00, 22.63it/s]"
     ]
    },
    {
     "name": "stdout",
     "output_type": "stream",
     "text": [
      "(20, 11)\n",
      "(20, 11)\n",
      "(20, 11)\n",
      "(20, 11)\n",
      "(20, 11)\n",
      "(20, 11)\n",
      "(20, 11)\n"
     ]
    },
    {
     "name": "stderr",
     "output_type": "stream",
     "text": [
      "Saving vectors to label -'10':  69%|██████▉   | 18/26 [00:00<00:00, 28.94it/s]"
     ]
    },
    {
     "name": "stdout",
     "output_type": "stream",
     "text": [
      "(20, 11)\n",
      "(20, 11)\n",
      "(20, 11)\n",
      "(20, 11)\n",
      "(20, 11)\n",
      "(20, 11)\n",
      "(20, 11)\n",
      "(20, 11)\n",
      "(20, 11)\n"
     ]
    },
    {
     "name": "stderr",
     "output_type": "stream",
     "text": [
      "Saving vectors to label -'10': 100%|██████████| 26/26 [00:00<00:00, 31.14it/s]"
     ]
    },
    {
     "name": "stdout",
     "output_type": "stream",
     "text": [
      "(20, 11)\n",
      "(20, 11)\n",
      "(20, 11)\n",
      "(20, 11)\n",
      "(20, 11)\n",
      "(20, 11)\n",
      "(20, 11)\n",
      "(20, 11)\n"
     ]
    },
    {
     "name": "stderr",
     "output_type": "stream",
     "text": [
      "\n",
      "Saving vectors to label -'2':  31%|███       | 8/26 [00:00<00:00, 31.68it/s]"
     ]
    },
    {
     "name": "stdout",
     "output_type": "stream",
     "text": [
      "(20, 11)\n",
      "(20, 11)\n",
      "(20, 11)\n",
      "(20, 11)\n",
      "(20, 11)\n",
      "(20, 11)\n",
      "(20, 11)\n",
      "(20, 11)\n"
     ]
    },
    {
     "name": "stderr",
     "output_type": "stream",
     "text": [
      "\r",
      "Saving vectors to label -'2':  46%|████▌     | 12/26 [00:00<00:00, 32.69it/s]"
     ]
    },
    {
     "name": "stdout",
     "output_type": "stream",
     "text": [
      "(20, 11)\n",
      "(20, 11)\n",
      "(20, 11)\n",
      "(20, 11)\n",
      "(20, 11)\n",
      "(20, 11)\n",
      "(20, 11)\n"
     ]
    },
    {
     "name": "stderr",
     "output_type": "stream",
     "text": [
      "Saving vectors to label -'2':  85%|████████▍ | 22/26 [00:00<00:00, 36.72it/s]"
     ]
    },
    {
     "name": "stdout",
     "output_type": "stream",
     "text": [
      "(20, 11)\n",
      "(20, 11)\n",
      "(20, 11)\n",
      "(20, 11)\n",
      "(20, 11)\n",
      "(20, 11)\n",
      "(20, 11)\n",
      "(20, 11)\n",
      "(20, 11)\n"
     ]
    },
    {
     "name": "stderr",
     "output_type": "stream",
     "text": [
      "Saving vectors to label -'2': 100%|██████████| 26/26 [00:00<00:00, 30.03it/s]\n",
      "Saving vectors to label -'3':  12%|█▏        | 3/26 [00:00<00:00, 28.26it/s]"
     ]
    },
    {
     "name": "stdout",
     "output_type": "stream",
     "text": [
      "(20, 11)\n",
      "(20, 11)\n",
      "(20, 11)\n",
      "(20, 11)\n",
      "(20, 11)\n"
     ]
    },
    {
     "name": "stderr",
     "output_type": "stream",
     "text": [
      "Saving vectors to label -'3':  38%|███▊      | 10/26 [00:00<00:00, 31.16it/s]"
     ]
    },
    {
     "name": "stdout",
     "output_type": "stream",
     "text": [
      "(20, 11)\n",
      "(20, 11)\n",
      "(20, 11)\n",
      "(20, 11)\n",
      "(20, 11)\n",
      "(20, 11)\n",
      "(20, 11)\n",
      "(20, 11)\n"
     ]
    },
    {
     "name": "stderr",
     "output_type": "stream",
     "text": [
      "Saving vectors to label -'3':  69%|██████▉   | 18/26 [00:00<00:00, 33.59it/s]"
     ]
    },
    {
     "name": "stdout",
     "output_type": "stream",
     "text": [
      "(20, 11)\n",
      "(20, 11)\n",
      "(20, 11)\n",
      "(20, 11)\n",
      "(20, 11)\n",
      "(20, 11)\n",
      "(20, 11)\n"
     ]
    },
    {
     "name": "stderr",
     "output_type": "stream",
     "text": [
      "\r",
      "Saving vectors to label -'3':  81%|████████  | 21/26 [00:00<00:00, 24.87it/s]"
     ]
    },
    {
     "name": "stdout",
     "output_type": "stream",
     "text": [
      "(20, 11)\n",
      "(20, 11)\n",
      "(20, 11)\n"
     ]
    },
    {
     "name": "stderr",
     "output_type": "stream",
     "text": [
      "Saving vectors to label -'3': 100%|██████████| 26/26 [00:00<00:00, 26.35it/s]\n",
      "Saving vectors to label -'4':   0%|          | 0/26 [00:00<?, ?it/s]"
     ]
    },
    {
     "name": "stdout",
     "output_type": "stream",
     "text": [
      "(20, 11)\n",
      "(20, 11)\n",
      "(20, 11)\n",
      "(20, 11)\n",
      "(20, 11)\n"
     ]
    },
    {
     "name": "stderr",
     "output_type": "stream",
     "text": [
      "Saving vectors to label -'4':  23%|██▎       | 6/26 [00:00<00:00, 25.98it/s]"
     ]
    },
    {
     "name": "stdout",
     "output_type": "stream",
     "text": [
      "(20, 11)\n",
      "(20, 11)\n",
      "(20, 11)\n",
      "(20, 11)\n",
      "(20, 11)\n",
      "(20, 11)\n",
      "(20, 11)\n",
      "(20, 11)\n"
     ]
    },
    {
     "name": "stderr",
     "output_type": "stream",
     "text": [
      "Saving vectors to label -'4':  65%|██████▌   | 17/26 [00:00<00:00, 32.80it/s]"
     ]
    },
    {
     "name": "stdout",
     "output_type": "stream",
     "text": [
      "(20, 11)\n",
      "(20, 11)\n",
      "(20, 11)\n",
      "(20, 11)\n",
      "(20, 11)\n",
      "(20, 11)\n",
      "(20, 11)\n",
      "(20, 11)\n",
      "(20, 11)\n"
     ]
    },
    {
     "name": "stderr",
     "output_type": "stream",
     "text": [
      "\r",
      "Saving vectors to label -'4':  81%|████████  | 21/26 [00:00<00:00, 33.80it/s]"
     ]
    },
    {
     "name": "stdout",
     "output_type": "stream",
     "text": [
      "(20, 11)\n",
      "(20, 11)\n",
      "(20, 11)\n",
      "(20, 11)\n",
      "(20, 11)\n",
      "(20, 11)\n",
      "(20, 11)\n",
      "(20, 11)\n"
     ]
    },
    {
     "name": "stderr",
     "output_type": "stream",
     "text": [
      "Saving vectors to label -'4': 100%|██████████| 26/26 [00:00<00:00, 36.31it/s]\n",
      "Saving vectors to label -'5':  12%|█▏        | 3/26 [00:00<00:01, 22.76it/s]"
     ]
    },
    {
     "name": "stdout",
     "output_type": "stream",
     "text": [
      "(20, 11)\n",
      "(20, 11)\n",
      "(20, 11)\n",
      "(20, 11)\n"
     ]
    },
    {
     "name": "stderr",
     "output_type": "stream",
     "text": [
      "Saving vectors to label -'5':  38%|███▊      | 10/26 [00:00<00:00, 26.62it/s]"
     ]
    },
    {
     "name": "stdout",
     "output_type": "stream",
     "text": [
      "(20, 11)\n",
      "(20, 11)\n",
      "(20, 11)\n",
      "(20, 11)\n",
      "(20, 11)\n",
      "(20, 11)\n",
      "(20, 11)\n",
      "(20, 11)\n"
     ]
    },
    {
     "name": "stderr",
     "output_type": "stream",
     "text": [
      "Saving vectors to label -'5':  73%|███████▎  | 19/26 [00:00<00:00, 31.88it/s]"
     ]
    },
    {
     "name": "stdout",
     "output_type": "stream",
     "text": [
      "(20, 11)\n",
      "(20, 11)\n",
      "(20, 11)\n",
      "(20, 11)\n",
      "(20, 11)\n",
      "(20, 11)\n",
      "(20, 11)\n",
      "(20, 11)\n",
      "(20, 11)\n"
     ]
    },
    {
     "name": "stderr",
     "output_type": "stream",
     "text": [
      "Saving vectors to label -'5': 100%|██████████| 26/26 [00:00<00:00, 34.82it/s]\n",
      "Saving vectors to label -'6':   0%|          | 0/26 [00:00<?, ?it/s]"
     ]
    },
    {
     "name": "stdout",
     "output_type": "stream",
     "text": [
      "(20, 11)\n",
      "(20, 11)\n",
      "(20, 11)\n",
      "(20, 11)\n",
      "(20, 11)\n",
      "(20, 11)\n",
      "(20, 11)\n"
     ]
    },
    {
     "name": "stderr",
     "output_type": "stream",
     "text": [
      "Saving vectors to label -'6':  35%|███▍      | 9/26 [00:00<00:00, 31.56it/s]"
     ]
    },
    {
     "name": "stdout",
     "output_type": "stream",
     "text": [
      "(20, 11)\n",
      "(20, 11)\n",
      "(20, 11)\n",
      "(20, 11)\n",
      "(20, 11)\n",
      "(20, 11)\n",
      "(20, 11)\n",
      "(20, 11)\n"
     ]
    },
    {
     "name": "stderr",
     "output_type": "stream",
     "text": [
      "\r",
      "Saving vectors to label -'6':  58%|█████▊    | 15/26 [00:00<00:00, 33.91it/s]"
     ]
    },
    {
     "name": "stdout",
     "output_type": "stream",
     "text": [
      "(20, 11)\n",
      "(20, 11)\n",
      "(20, 11)\n",
      "(20, 11)\n",
      "(20, 11)\n",
      "(20, 11)\n",
      "(20, 11)\n",
      "(20, 11)\n"
     ]
    },
    {
     "name": "stderr",
     "output_type": "stream",
     "text": [
      "Saving vectors to label -'6':  92%|█████████▏| 24/26 [00:00<00:00, 33.67it/s]"
     ]
    },
    {
     "name": "stdout",
     "output_type": "stream",
     "text": [
      "(20, 11)\n",
      "(20, 11)\n",
      "(20, 11)\n",
      "(20, 11)\n",
      "(20, 11)\n",
      "(20, 11)\n",
      "(20, 11)\n"
     ]
    },
    {
     "name": "stderr",
     "output_type": "stream",
     "text": [
      "Saving vectors to label -'6': 100%|██████████| 26/26 [00:00<00:00, 36.72it/s]\n",
      "Saving vectors to label -'7':  12%|█▏        | 3/26 [00:00<00:00, 24.73it/s]"
     ]
    },
    {
     "name": "stdout",
     "output_type": "stream",
     "text": [
      "(20, 11)\n",
      "(20, 11)\n",
      "(20, 11)\n",
      "(20, 11)\n",
      "(20, 11)\n"
     ]
    },
    {
     "name": "stderr",
     "output_type": "stream",
     "text": [
      "\r",
      "Saving vectors to label -'7':  23%|██▎       | 6/26 [00:00<00:00, 24.16it/s]"
     ]
    },
    {
     "name": "stdout",
     "output_type": "stream",
     "text": [
      "(20, 11)\n",
      "(20, 11)\n",
      "(20, 11)\n",
      "(20, 11)\n",
      "(20, 11)\n",
      "(20, 11)\n",
      "(20, 11)\n",
      "(20, 11)\n"
     ]
    },
    {
     "name": "stderr",
     "output_type": "stream",
     "text": [
      "Saving vectors to label -'7':  62%|██████▏   | 16/26 [00:00<00:00, 30.85it/s]"
     ]
    },
    {
     "name": "stdout",
     "output_type": "stream",
     "text": [
      "(20, 11)\n",
      "(20, 11)\n",
      "(20, 11)\n",
      "(20, 11)\n",
      "(20, 11)\n",
      "(20, 11)\n",
      "(20, 11)\n",
      "(20, 11)\n",
      "(20, 11)\n"
     ]
    },
    {
     "name": "stderr",
     "output_type": "stream",
     "text": [
      "Saving vectors to label -'7': 100%|██████████| 26/26 [00:00<00:00, 34.75it/s]\n",
      "Saving vectors to label -'8':   0%|          | 0/26 [00:00<?, ?it/s]"
     ]
    },
    {
     "name": "stdout",
     "output_type": "stream",
     "text": [
      "(20, 11)\n",
      "(20, 11)\n",
      "(20, 11)\n",
      "(20, 11)\n",
      "(20, 11)\n",
      "(20, 11)\n"
     ]
    },
    {
     "name": "stderr",
     "output_type": "stream",
     "text": [
      "Saving vectors to label -'8':  23%|██▎       | 6/26 [00:00<00:00, 21.33it/s]"
     ]
    },
    {
     "name": "stdout",
     "output_type": "stream",
     "text": [
      "(20, 11)\n",
      "(20, 11)\n",
      "(20, 11)\n",
      "(20, 11)\n",
      "(20, 11)\n",
      "(20, 11)\n",
      "(20, 11)\n",
      "(20, 11)\n"
     ]
    },
    {
     "name": "stderr",
     "output_type": "stream",
     "text": [
      "Saving vectors to label -'8':  58%|█████▊    | 15/26 [00:00<00:00, 27.69it/s]"
     ]
    },
    {
     "name": "stdout",
     "output_type": "stream",
     "text": [
      "(20, 11)\n",
      "(20, 11)\n",
      "(20, 11)\n",
      "(20, 11)\n",
      "(20, 11)\n",
      "(20, 11)\n",
      "(20, 11)\n",
      "(20, 11)\n"
     ]
    },
    {
     "name": "stderr",
     "output_type": "stream",
     "text": [
      "Saving vectors to label -'8':  92%|█████████▏| 24/26 [00:00<00:00, 32.39it/s]"
     ]
    },
    {
     "name": "stdout",
     "output_type": "stream",
     "text": [
      "(20, 11)\n",
      "(20, 11)\n",
      "(20, 11)\n",
      "(20, 11)\n",
      "(20, 11)\n",
      "(20, 11)\n",
      "(20, 11)\n",
      "(20, 11)\n"
     ]
    },
    {
     "name": "stderr",
     "output_type": "stream",
     "text": [
      "Saving vectors to label -'8': 100%|██████████| 26/26 [00:00<00:00, 36.31it/s]\n",
      "Saving vectors to label -'9':  12%|█▏        | 3/26 [00:00<00:00, 29.27it/s]"
     ]
    },
    {
     "name": "stdout",
     "output_type": "stream",
     "text": [
      "(20, 11)\n",
      "(20, 11)\n",
      "(20, 11)\n",
      "(20, 11)\n",
      "(20, 11)\n",
      "(20, 11)\n",
      "(20, 11)\n"
     ]
    },
    {
     "name": "stderr",
     "output_type": "stream",
     "text": [
      "Saving vectors to label -'9':  54%|█████▍    | 14/26 [00:00<00:00, 35.75it/s]"
     ]
    },
    {
     "name": "stdout",
     "output_type": "stream",
     "text": [
      "(20, 11)\n",
      "(20, 11)\n",
      "(20, 11)\n",
      "(20, 11)\n",
      "(20, 11)\n",
      "(20, 11)\n",
      "(20, 11)\n",
      "(20, 11)\n",
      "(20, 11)\n",
      "(20, 11)\n",
      "(20, 11)\n"
     ]
    },
    {
     "name": "stderr",
     "output_type": "stream",
     "text": [
      "Saving vectors to label -'9': 100%|██████████| 26/26 [00:00<00:00, 42.93it/s]"
     ]
    },
    {
     "name": "stdout",
     "output_type": "stream",
     "text": [
      "(20, 11)\n",
      "(20, 11)\n",
      "(20, 11)\n",
      "(20, 11)\n",
      "(20, 11)\n",
      "(20, 11)\n",
      "(20, 11)\n",
      "(20, 11)\n",
      "(20, 11)\n",
      "(20, 11)\n"
     ]
    },
    {
     "name": "stderr",
     "output_type": "stream",
     "text": [
      "\n"
     ]
    }
   ],
   "source": [
    "save_data_to_array()"
   ]
  },
  {
   "cell_type": "code",
   "execution_count": 104,
   "metadata": {
    "scrolled": true
   },
   "outputs": [],
   "source": [
    "X_train, X_test, y_train, y_test=get_train_test()\n",
    "X_train=X_train.reshape(X_train.shape[0],20,11,1)\n",
    "X_test=X_test.reshape(X_test.shape[0],20,11,1)\n",
    "y_train_hot=to_categorical(y_train)\n",
    "y_test_hot=to_categorical(y_test)"
   ]
  },
  {
   "cell_type": "code",
   "execution_count": null,
   "metadata": {
    "scrolled": true
   },
   "outputs": [
    {
     "name": "stdout",
     "output_type": "stream",
     "text": [
      "Train on 208 samples, validate on 52 samples\n",
      "Epoch 1/80\n",
      "208/208 [==============================] - 11s 52ms/step - loss: 13.3995 - acc: 0.1106 - val_loss: 11.6613 - val_acc: 0.1731\n",
      "Epoch 2/80\n",
      "208/208 [==============================] - 0s 2ms/step - loss: 11.7323 - acc: 0.1827 - val_loss: 13.3918 - val_acc: 0.0962\n",
      "Epoch 3/80\n",
      "208/208 [==============================] - 0s 703us/step - loss: 12.4065 - acc: 0.1731 - val_loss: 13.1084 - val_acc: 0.1538\n",
      "Epoch 4/80\n",
      "208/208 [==============================] - 0s 454us/step - loss: 11.7911 - acc: 0.2067 - val_loss: 12.5473 - val_acc: 0.1538\n",
      "Epoch 5/80\n",
      "208/208 [==============================] - 0s 442us/step - loss: 11.1626 - acc: 0.2163 - val_loss: 13.0181 - val_acc: 0.1731\n",
      "Epoch 6/80\n",
      "208/208 [==============================] - 0s 383us/step - loss: 12.5839 - acc: 0.1538 - val_loss: 11.7288 - val_acc: 0.1731\n",
      "Epoch 7/80\n",
      "208/208 [==============================] - 0s 368us/step - loss: 10.3778 - acc: 0.2692 - val_loss: 10.9551 - val_acc: 0.2692\n",
      "Epoch 8/80\n",
      "208/208 [==============================] - 0s 398us/step - loss: 11.1917 - acc: 0.2452 - val_loss: 14.4502 - val_acc: 0.0769\n",
      "Epoch 9/80\n",
      "208/208 [==============================] - 0s 387us/step - loss: 12.5775 - acc: 0.1587 - val_loss: 10.7460 - val_acc: 0.2115\n",
      "Epoch 10/80\n",
      "208/208 [==============================] - 0s 368us/step - loss: 10.4999 - acc: 0.2788 - val_loss: 10.9285 - val_acc: 0.2500\n",
      "Epoch 11/80\n",
      "208/208 [==============================] - 0s 403us/step - loss: 10.4632 - acc: 0.2885 - val_loss: 11.2499 - val_acc: 0.2308\n",
      "Epoch 12/80\n",
      "208/208 [==============================] - 0s 377us/step - loss: 10.1548 - acc: 0.2740 - val_loss: 11.0911 - val_acc: 0.2692\n",
      "Epoch 13/80\n",
      "208/208 [==============================] - 0s 409us/step - loss: 9.3265 - acc: 0.3365 - val_loss: 10.3676 - val_acc: 0.2692\n",
      "Epoch 14/80\n",
      "208/208 [==============================] - 0s 382us/step - loss: 9.1487 - acc: 0.3365 - val_loss: 10.1022 - val_acc: 0.2500\n",
      "Epoch 15/80\n",
      "208/208 [==============================] - 0s 374us/step - loss: 8.6488 - acc: 0.3558 - val_loss: 12.4343 - val_acc: 0.1346\n",
      "Epoch 16/80\n",
      "208/208 [==============================] - 0s 466us/step - loss: 9.8526 - acc: 0.2740 - val_loss: 10.8974 - val_acc: 0.2500\n",
      "Epoch 17/80\n",
      "208/208 [==============================] - 0s 495us/step - loss: 8.1351 - acc: 0.3654 - val_loss: 9.3002 - val_acc: 0.3077\n",
      "Epoch 18/80\n",
      "208/208 [==============================] - 0s 437us/step - loss: 7.9028 - acc: 0.3702 - val_loss: 7.4951 - val_acc: 0.4038\n",
      "Epoch 19/80\n",
      "208/208 [==============================] - 0s 443us/step - loss: 7.3856 - acc: 0.4087 - val_loss: 5.7378 - val_acc: 0.3846\n",
      "Epoch 20/80\n",
      "208/208 [==============================] - 0s 394us/step - loss: 6.8668 - acc: 0.4038 - val_loss: 9.1801 - val_acc: 0.2692\n",
      "Epoch 21/80\n",
      "208/208 [==============================] - 0s 404us/step - loss: 7.7791 - acc: 0.3798 - val_loss: 4.8796 - val_acc: 0.4038\n",
      "Epoch 22/80\n",
      "208/208 [==============================] - 0s 519us/step - loss: 6.1679 - acc: 0.4519 - val_loss: 6.1971 - val_acc: 0.3462\n",
      "Epoch 23/80\n",
      "208/208 [==============================] - 0s 419us/step - loss: 4.9993 - acc: 0.5337 - val_loss: 4.0590 - val_acc: 0.4808\n",
      "Epoch 24/80\n",
      "208/208 [==============================] - 0s 540us/step - loss: 4.4095 - acc: 0.5240 - val_loss: 6.0437 - val_acc: 0.4038\n",
      "Epoch 25/80\n",
      "208/208 [==============================] - 0s 508us/step - loss: 5.0748 - acc: 0.4615 - val_loss: 5.3361 - val_acc: 0.4615\n",
      "Epoch 26/80\n",
      "208/208 [==============================] - 0s 614us/step - loss: 4.4821 - acc: 0.5096 - val_loss: 5.1705 - val_acc: 0.3654\n",
      "Epoch 27/80\n",
      "208/208 [==============================] - 0s 377us/step - loss: 4.1118 - acc: 0.5385 - val_loss: 4.0655 - val_acc: 0.3846\n",
      "Epoch 28/80\n",
      "208/208 [==============================] - 0s 383us/step - loss: 3.4155 - acc: 0.5913 - val_loss: 3.8885 - val_acc: 0.3654\n",
      "Epoch 29/80\n",
      "208/208 [==============================] - 0s 393us/step - loss: 3.3700 - acc: 0.5769 - val_loss: 2.9776 - val_acc: 0.4231\n",
      "Epoch 30/80\n",
      "208/208 [==============================] - 0s 383us/step - loss: 3.2712 - acc: 0.5577 - val_loss: 3.1300 - val_acc: 0.5385\n",
      "Epoch 31/80\n",
      "208/208 [==============================] - 0s 387us/step - loss: 2.5407 - acc: 0.5817 - val_loss: 2.3524 - val_acc: 0.6346\n",
      "Epoch 32/80\n",
      "208/208 [==============================] - 0s 387us/step - loss: 2.4328 - acc: 0.5481 - val_loss: 2.6821 - val_acc: 0.4808\n",
      "Epoch 33/80\n",
      "208/208 [==============================] - 0s 388us/step - loss: 1.8643 - acc: 0.6106 - val_loss: 2.5769 - val_acc: 0.5192\n",
      "Epoch 34/80\n",
      "208/208 [==============================] - 0s 439us/step - loss: 1.6866 - acc: 0.6106 - val_loss: 1.9382 - val_acc: 0.5385\n",
      "Epoch 35/80\n",
      "208/208 [==============================] - 0s 392us/step - loss: 1.4901 - acc: 0.6538 - val_loss: 2.3746 - val_acc: 0.5000\n",
      "Epoch 36/80\n",
      "208/208 [==============================] - 0s 431us/step - loss: 1.8421 - acc: 0.6154 - val_loss: 2.2324 - val_acc: 0.4615\n",
      "Epoch 37/80\n",
      "208/208 [==============================] - 0s 419us/step - loss: 1.4592 - acc: 0.6587 - val_loss: 2.6087 - val_acc: 0.4615\n",
      "Epoch 38/80\n",
      "208/208 [==============================] - 0s 447us/step - loss: 1.7668 - acc: 0.6058 - val_loss: 2.2147 - val_acc: 0.4423\n",
      "Epoch 39/80\n",
      "208/208 [==============================] - 0s 493us/step - loss: 1.5027 - acc: 0.6394 - val_loss: 2.0305 - val_acc: 0.5000\n",
      "Epoch 40/80\n",
      "208/208 [==============================] - 0s 440us/step - loss: 1.3255 - acc: 0.6154 - val_loss: 2.2878 - val_acc: 0.5000\n",
      "Epoch 41/80\n",
      "208/208 [==============================] - 0s 427us/step - loss: 1.3684 - acc: 0.6394 - val_loss: 2.0268 - val_acc: 0.5192\n",
      "Epoch 42/80\n",
      "208/208 [==============================] - 0s 481us/step - loss: 1.4107 - acc: 0.6442 - val_loss: 1.9025 - val_acc: 0.5385\n",
      "Epoch 43/80\n",
      "208/208 [==============================] - 0s 405us/step - loss: 1.2521 - acc: 0.6538 - val_loss: 1.9588 - val_acc: 0.5000\n",
      "Epoch 44/80\n",
      "208/208 [==============================] - 0s 410us/step - loss: 1.2522 - acc: 0.6923 - val_loss: 1.8598 - val_acc: 0.5192\n",
      "Epoch 45/80\n",
      "208/208 [==============================] - 0s 414us/step - loss: 1.2373 - acc: 0.6779 - val_loss: 1.7513 - val_acc: 0.5192\n",
      "Epoch 46/80\n",
      "208/208 [==============================] - 0s 415us/step - loss: 0.8026 - acc: 0.7212 - val_loss: 1.7860 - val_acc: 0.5577\n",
      "Epoch 47/80\n",
      "208/208 [==============================] - 0s 414us/step - loss: 1.1791 - acc: 0.6394 - val_loss: 1.7470 - val_acc: 0.5192\n",
      "Epoch 48/80\n",
      "208/208 [==============================] - 0s 374us/step - loss: 1.1095 - acc: 0.6346 - val_loss: 1.7050 - val_acc: 0.5000\n",
      "Epoch 49/80\n",
      "208/208 [==============================] - 0s 374us/step - loss: 1.2477 - acc: 0.6346 - val_loss: 1.6928 - val_acc: 0.5000\n",
      "Epoch 50/80\n",
      "208/208 [==============================] - 0s 380us/step - loss: 1.1237 - acc: 0.6635 - val_loss: 1.5984 - val_acc: 0.5192\n",
      "Epoch 51/80\n",
      "208/208 [==============================] - 0s 401us/step - loss: 0.8650 - acc: 0.7115 - val_loss: 1.4948 - val_acc: 0.5769\n",
      "Epoch 52/80\n",
      "208/208 [==============================] - 0s 358us/step - loss: 0.9434 - acc: 0.6875 - val_loss: 1.6972 - val_acc: 0.5769\n",
      "Epoch 53/80\n",
      "208/208 [==============================] - 0s 409us/step - loss: 1.1385 - acc: 0.6538 - val_loss: 1.6440 - val_acc: 0.5000\n",
      "Epoch 54/80\n",
      "208/208 [==============================] - 0s 490us/step - loss: 0.9794 - acc: 0.6779 - val_loss: 1.7668 - val_acc: 0.5385\n",
      "Epoch 55/80\n",
      "208/208 [==============================] - 0s 474us/step - loss: 0.8653 - acc: 0.6779 - val_loss: 1.6242 - val_acc: 0.5962\n",
      "Epoch 56/80\n",
      "208/208 [==============================] - 0s 584us/step - loss: 1.0456 - acc: 0.6731 - val_loss: 1.5774 - val_acc: 0.5769\n",
      "Epoch 57/80\n",
      "208/208 [==============================] - 0s 514us/step - loss: 0.7155 - acc: 0.7356 - val_loss: 1.6572 - val_acc: 0.5577\n",
      "Epoch 58/80\n",
      "208/208 [==============================] - 0s 487us/step - loss: 0.7906 - acc: 0.7692 - val_loss: 1.6005 - val_acc: 0.6154\n",
      "Epoch 59/80\n",
      "208/208 [==============================] - 0s 417us/step - loss: 0.9009 - acc: 0.6923 - val_loss: 1.4871 - val_acc: 0.5577\n",
      "Epoch 60/80\n",
      "208/208 [==============================] - 0s 427us/step - loss: 0.6815 - acc: 0.7404 - val_loss: 1.7507 - val_acc: 0.5769\n",
      "Epoch 61/80\n",
      "208/208 [==============================] - 0s 524us/step - loss: 0.7867 - acc: 0.7692 - val_loss: 1.7037 - val_acc: 0.5385\n",
      "Epoch 62/80\n",
      "208/208 [==============================] - 0s 519us/step - loss: 0.8031 - acc: 0.7163 - val_loss: 1.8322 - val_acc: 0.5769\n",
      "Epoch 63/80\n",
      "208/208 [==============================] - 0s 397us/step - loss: 0.5753 - acc: 0.8077 - val_loss: 1.7363 - val_acc: 0.5769\n",
      "Epoch 64/80\n",
      "208/208 [==============================] - 0s 371us/step - loss: 0.6179 - acc: 0.7788 - val_loss: 1.7003 - val_acc: 0.5769\n",
      "Epoch 65/80\n",
      "208/208 [==============================] - 0s 421us/step - loss: 0.7689 - acc: 0.7452 - val_loss: 1.7248 - val_acc: 0.5192\n",
      "Epoch 66/80\n",
      "208/208 [==============================] - 0s 337us/step - loss: 0.6586 - acc: 0.8029 - val_loss: 1.8523 - val_acc: 0.5577\n",
      "Epoch 67/80\n",
      "208/208 [==============================] - 0s 344us/step - loss: 0.7518 - acc: 0.7548 - val_loss: 1.6508 - val_acc: 0.5385\n",
      "Epoch 68/80\n",
      "208/208 [==============================] - 0s 338us/step - loss: 0.6902 - acc: 0.7260 - val_loss: 1.5377 - val_acc: 0.5192\n",
      "Epoch 69/80\n",
      "208/208 [==============================] - 0s 368us/step - loss: 0.7334 - acc: 0.7500 - val_loss: 1.4715 - val_acc: 0.6154\n",
      "Epoch 70/80\n",
      "208/208 [==============================] - 0s 365us/step - loss: 0.5637 - acc: 0.7885 - val_loss: 1.4223 - val_acc: 0.6154\n",
      "Epoch 71/80\n",
      "208/208 [==============================] - 0s 329us/step - loss: 0.6544 - acc: 0.7885 - val_loss: 1.4675 - val_acc: 0.5962\n",
      "Epoch 72/80\n",
      "208/208 [==============================] - 0s 492us/step - loss: 0.4316 - acc: 0.8606 - val_loss: 1.5721 - val_acc: 0.5577\n",
      "Epoch 73/80\n",
      "208/208 [==============================] - 0s 332us/step - loss: 0.6181 - acc: 0.7788 - val_loss: 1.4472 - val_acc: 0.5769\n",
      "Epoch 74/80\n",
      "208/208 [==============================] - 0s 390us/step - loss: 0.5827 - acc: 0.7644 - val_loss: 1.5314 - val_acc: 0.5000\n",
      "Epoch 75/80\n",
      "208/208 [==============================] - 0s 341us/step - loss: 0.5790 - acc: 0.7788 - val_loss: 2.0203 - val_acc: 0.5385\n",
      "Epoch 76/80\n",
      "208/208 [==============================] - 0s 335us/step - loss: 0.8396 - acc: 0.7548 - val_loss: 1.5622 - val_acc: 0.5385\n",
      "Epoch 77/80\n",
      "208/208 [==============================] - 0s 375us/step - loss: 0.6522 - acc: 0.7740 - val_loss: 1.5506 - val_acc: 0.5962\n",
      "Epoch 78/80\n",
      "208/208 [==============================] - 0s 354us/step - loss: 0.5423 - acc: 0.8173 - val_loss: 1.5083 - val_acc: 0.6346\n",
      "Epoch 79/80\n",
      "208/208 [==============================] - 0s 339us/step - loss: 0.6844 - acc: 0.7933 - val_loss: 1.4211 - val_acc: 0.6346\n",
      "Epoch 80/80\n",
      "208/208 [==============================] - 0s 352us/step - loss: 0.6918 - acc: 0.7596 - val_loss: 1.4818 - val_acc: 0.5962\n",
      "Train on 208 samples, validate on 52 samples\n",
      "Epoch 1/81\n",
      "208/208 [==============================] - 5s 26ms/step - loss: 12.4571 - acc: 0.1154 - val_loss: 11.7478 - val_acc: 0.1731\n",
      "Epoch 2/81\n",
      "208/208 [==============================] - 0s 376us/step - loss: 12.8599 - acc: 0.1250 - val_loss: 12.8333 - val_acc: 0.1346\n",
      "Epoch 3/81\n",
      "208/208 [==============================] - 0s 409us/step - loss: 11.5863 - acc: 0.1779 - val_loss: 11.1582 - val_acc: 0.1731\n",
      "Epoch 4/81\n",
      "208/208 [==============================] - 0s 493us/step - loss: 11.7909 - acc: 0.1490 - val_loss: 11.2709 - val_acc: 0.2115\n",
      "Epoch 5/81\n",
      "208/208 [==============================] - 0s 470us/step - loss: 10.9032 - acc: 0.2019 - val_loss: 10.9206 - val_acc: 0.1346\n",
      "Epoch 6/81\n",
      "208/208 [==============================] - 0s 369us/step - loss: 10.0637 - acc: 0.2548 - val_loss: 11.9140 - val_acc: 0.0769\n",
      "Epoch 7/81\n",
      "208/208 [==============================] - 0s 438us/step - loss: 10.2307 - acc: 0.2404 - val_loss: 10.8628 - val_acc: 0.2115\n",
      "Epoch 8/81\n",
      "208/208 [==============================] - 0s 354us/step - loss: 9.2916 - acc: 0.2596 - val_loss: 10.8183 - val_acc: 0.2115\n",
      "Epoch 9/81\n",
      "208/208 [==============================] - 0s 444us/step - loss: 8.1535 - acc: 0.3077 - val_loss: 8.2652 - val_acc: 0.2885\n",
      "Epoch 10/81\n",
      "208/208 [==============================] - 0s 354us/step - loss: 7.4477 - acc: 0.3558 - val_loss: 5.5789 - val_acc: 0.2885\n",
      "Epoch 11/81\n",
      "208/208 [==============================] - 0s 383us/step - loss: 7.1785 - acc: 0.3269 - val_loss: 8.0073 - val_acc: 0.1731\n",
      "Epoch 12/81\n",
      "208/208 [==============================] - 0s 377us/step - loss: 7.5416 - acc: 0.2981 - val_loss: 7.2445 - val_acc: 0.3654\n",
      "Epoch 13/81\n",
      "208/208 [==============================] - 0s 370us/step - loss: 6.8953 - acc: 0.3990 - val_loss: 8.7591 - val_acc: 0.1731\n",
      "Epoch 14/81\n",
      "208/208 [==============================] - 0s 388us/step - loss: 6.8030 - acc: 0.3606 - val_loss: 5.2764 - val_acc: 0.4423\n",
      "Epoch 15/81\n",
      "208/208 [==============================] - 0s 367us/step - loss: 5.2097 - acc: 0.4423 - val_loss: 3.7673 - val_acc: 0.4038\n",
      "Epoch 16/81\n",
      "208/208 [==============================] - 0s 388us/step - loss: 3.3519 - acc: 0.4760 - val_loss: 4.2508 - val_acc: 0.3462\n",
      "Epoch 17/81\n",
      "208/208 [==============================] - 0s 386us/step - loss: 3.0777 - acc: 0.4856 - val_loss: 3.3846 - val_acc: 0.2885\n",
      "Epoch 18/81\n",
      "208/208 [==============================] - 0s 385us/step - loss: 2.6105 - acc: 0.5096 - val_loss: 3.4324 - val_acc: 0.3077\n",
      "Epoch 19/81\n",
      "208/208 [==============================] - 0s 438us/step - loss: 3.0613 - acc: 0.4615 - val_loss: 2.8103 - val_acc: 0.4615\n",
      "Epoch 20/81\n",
      "208/208 [==============================] - 0s 376us/step - loss: 1.9245 - acc: 0.5769 - val_loss: 2.2590 - val_acc: 0.4615\n",
      "Epoch 21/81\n",
      "208/208 [==============================] - 0s 368us/step - loss: 2.0026 - acc: 0.4856 - val_loss: 2.5133 - val_acc: 0.4231\n",
      "Epoch 22/81\n",
      "208/208 [==============================] - 0s 365us/step - loss: 1.7908 - acc: 0.5337 - val_loss: 2.2814 - val_acc: 0.2885\n",
      "Epoch 23/81\n",
      "208/208 [==============================] - 0s 402us/step - loss: 1.6878 - acc: 0.5048 - val_loss: 1.9629 - val_acc: 0.5000\n",
      "Epoch 24/81\n",
      "208/208 [==============================] - 0s 387us/step - loss: 1.6253 - acc: 0.5481 - val_loss: 1.9263 - val_acc: 0.4615\n",
      "Epoch 25/81\n",
      "208/208 [==============================] - 0s 371us/step - loss: 1.2471 - acc: 0.5962 - val_loss: 1.9907 - val_acc: 0.4808\n",
      "Epoch 26/81\n",
      "208/208 [==============================] - 0s 412us/step - loss: 1.6077 - acc: 0.5577 - val_loss: 1.8410 - val_acc: 0.5385\n",
      "Epoch 27/81\n",
      "208/208 [==============================] - 0s 390us/step - loss: 1.6085 - acc: 0.5529 - val_loss: 1.7521 - val_acc: 0.5000\n",
      "Epoch 28/81\n",
      "208/208 [==============================] - 0s 390us/step - loss: 1.3958 - acc: 0.5625 - val_loss: 1.8601 - val_acc: 0.5192\n",
      "Epoch 29/81\n",
      "208/208 [==============================] - 0s 392us/step - loss: 1.5061 - acc: 0.5337 - val_loss: 1.7210 - val_acc: 0.5192\n",
      "Epoch 30/81\n",
      "208/208 [==============================] - 0s 379us/step - loss: 1.4087 - acc: 0.5721 - val_loss: 1.7940 - val_acc: 0.4808\n",
      "Epoch 31/81\n",
      "208/208 [==============================] - 0s 379us/step - loss: 1.1860 - acc: 0.6346 - val_loss: 1.6837 - val_acc: 0.5192\n",
      "Epoch 32/81\n",
      "208/208 [==============================] - 0s 399us/step - loss: 1.2448 - acc: 0.5769 - val_loss: 1.6234 - val_acc: 0.4615\n",
      "Epoch 33/81\n",
      "208/208 [==============================] - 0s 386us/step - loss: 0.9453 - acc: 0.6490 - val_loss: 1.5977 - val_acc: 0.5385\n",
      "Epoch 34/81\n",
      "208/208 [==============================] - 0s 401us/step - loss: 1.0938 - acc: 0.6154 - val_loss: 1.7560 - val_acc: 0.4038\n",
      "Epoch 35/81\n",
      "208/208 [==============================] - 0s 382us/step - loss: 1.0754 - acc: 0.6394 - val_loss: 1.7316 - val_acc: 0.4423\n",
      "Epoch 36/81\n",
      "208/208 [==============================] - 0s 414us/step - loss: 1.1864 - acc: 0.6106 - val_loss: 1.6968 - val_acc: 0.4615\n",
      "Epoch 37/81\n",
      "208/208 [==============================] - 0s 372us/step - loss: 1.0378 - acc: 0.6635 - val_loss: 1.5499 - val_acc: 0.5192\n",
      "Epoch 38/81\n",
      "208/208 [==============================] - 0s 386us/step - loss: 0.9668 - acc: 0.6923 - val_loss: 1.6051 - val_acc: 0.4808\n",
      "Epoch 39/81\n",
      "208/208 [==============================] - 0s 396us/step - loss: 1.0164 - acc: 0.6971 - val_loss: 1.6673 - val_acc: 0.5000\n",
      "Epoch 40/81\n",
      "208/208 [==============================] - 0s 389us/step - loss: 0.8512 - acc: 0.7067 - val_loss: 1.5690 - val_acc: 0.5000\n",
      "Epoch 41/81\n"
     ]
    },
    {
     "name": "stdout",
     "output_type": "stream",
     "text": [
      "208/208 [==============================] - 0s 392us/step - loss: 1.1075 - acc: 0.6298 - val_loss: 1.7074 - val_acc: 0.5385\n",
      "Epoch 42/81\n",
      "208/208 [==============================] - 0s 405us/step - loss: 0.9423 - acc: 0.6538 - val_loss: 1.4859 - val_acc: 0.5769\n",
      "Epoch 43/81\n",
      "208/208 [==============================] - 0s 364us/step - loss: 0.8850 - acc: 0.7260 - val_loss: 1.6043 - val_acc: 0.5192\n",
      "Epoch 44/81\n",
      "208/208 [==============================] - 0s 331us/step - loss: 0.9570 - acc: 0.6538 - val_loss: 1.6129 - val_acc: 0.4808\n",
      "Epoch 45/81\n",
      "208/208 [==============================] - 0s 367us/step - loss: 1.0494 - acc: 0.6635 - val_loss: 1.5718 - val_acc: 0.4615\n",
      "Epoch 46/81\n",
      "208/208 [==============================] - 0s 342us/step - loss: 0.8845 - acc: 0.6971 - val_loss: 1.6249 - val_acc: 0.4615\n",
      "Epoch 47/81\n",
      "208/208 [==============================] - 0s 350us/step - loss: 0.8916 - acc: 0.7163 - val_loss: 1.6958 - val_acc: 0.4808\n",
      "Epoch 48/81\n",
      "208/208 [==============================] - 0s 368us/step - loss: 0.9490 - acc: 0.6731 - val_loss: 1.5170 - val_acc: 0.5192\n",
      "Epoch 49/81\n",
      "208/208 [==============================] - 0s 342us/step - loss: 0.8651 - acc: 0.7019 - val_loss: 1.4506 - val_acc: 0.5192\n",
      "Epoch 50/81\n",
      "208/208 [==============================] - 0s 359us/step - loss: 0.6807 - acc: 0.7500 - val_loss: 1.6449 - val_acc: 0.4615\n",
      "Epoch 51/81\n",
      "208/208 [==============================] - 0s 375us/step - loss: 0.8407 - acc: 0.6923 - val_loss: 1.5104 - val_acc: 0.5192\n",
      "Epoch 52/81\n",
      "208/208 [==============================] - 0s 340us/step - loss: 0.7771 - acc: 0.7260 - val_loss: 1.5260 - val_acc: 0.5385\n",
      "Epoch 53/81\n",
      "208/208 [==============================] - 0s 397us/step - loss: 0.6333 - acc: 0.7740 - val_loss: 1.4907 - val_acc: 0.5000\n",
      "Epoch 54/81\n",
      "208/208 [==============================] - 0s 334us/step - loss: 0.6844 - acc: 0.7404 - val_loss: 1.4480 - val_acc: 0.5000\n",
      "Epoch 55/81\n",
      "208/208 [==============================] - 0s 342us/step - loss: 0.7349 - acc: 0.7356 - val_loss: 1.6983 - val_acc: 0.5192\n",
      "Epoch 56/81\n",
      "208/208 [==============================] - 0s 332us/step - loss: 0.6073 - acc: 0.7885 - val_loss: 1.6465 - val_acc: 0.4808\n",
      "Epoch 57/81\n",
      "208/208 [==============================] - 0s 340us/step - loss: 0.7845 - acc: 0.7596 - val_loss: 1.6203 - val_acc: 0.5192\n",
      "Epoch 58/81\n",
      "208/208 [==============================] - 0s 368us/step - loss: 0.6031 - acc: 0.7981 - val_loss: 1.8821 - val_acc: 0.5385\n",
      "Epoch 59/81\n",
      "208/208 [==============================] - 0s 333us/step - loss: 0.7202 - acc: 0.7404 - val_loss: 1.8502 - val_acc: 0.5769\n",
      "Epoch 60/81\n",
      "208/208 [==============================] - 0s 366us/step - loss: 0.7629 - acc: 0.7404 - val_loss: 1.8839 - val_acc: 0.5385\n",
      "Epoch 61/81\n",
      "208/208 [==============================] - 0s 441us/step - loss: 0.9373 - acc: 0.6971 - val_loss: 1.6575 - val_acc: 0.5385\n",
      "Epoch 62/81\n",
      "208/208 [==============================] - 0s 559us/step - loss: 0.6383 - acc: 0.7452 - val_loss: 1.5893 - val_acc: 0.5385\n",
      "Epoch 63/81\n",
      "208/208 [==============================] - 0s 501us/step - loss: 0.6141 - acc: 0.7692 - val_loss: 1.7957 - val_acc: 0.5192\n",
      "Epoch 64/81\n",
      "208/208 [==============================] - 0s 371us/step - loss: 0.7185 - acc: 0.7981 - val_loss: 1.7847 - val_acc: 0.5385\n",
      "Epoch 65/81\n",
      "208/208 [==============================] - 0s 402us/step - loss: 0.5517 - acc: 0.8269 - val_loss: 1.6674 - val_acc: 0.5577\n",
      "Epoch 66/81\n",
      "208/208 [==============================] - 0s 550us/step - loss: 0.7225 - acc: 0.7500 - val_loss: 1.8733 - val_acc: 0.5000\n",
      "Epoch 67/81\n",
      "208/208 [==============================] - 0s 548us/step - loss: 0.5386 - acc: 0.7885 - val_loss: 1.7077 - val_acc: 0.5192\n",
      "Epoch 68/81\n",
      "208/208 [==============================] - 0s 518us/step - loss: 0.5063 - acc: 0.8269 - val_loss: 1.6893 - val_acc: 0.5385\n",
      "Epoch 69/81\n",
      "208/208 [==============================] - 0s 460us/step - loss: 0.6179 - acc: 0.7885 - val_loss: 1.6882 - val_acc: 0.5385\n",
      "Epoch 70/81\n",
      "208/208 [==============================] - 0s 510us/step - loss: 0.6633 - acc: 0.7692 - val_loss: 1.6227 - val_acc: 0.5577\n",
      "Epoch 71/81\n",
      "208/208 [==============================] - 0s 350us/step - loss: 0.5133 - acc: 0.8077 - val_loss: 1.6948 - val_acc: 0.5769\n",
      "Epoch 72/81\n",
      "208/208 [==============================] - 0s 349us/step - loss: 0.6730 - acc: 0.7596 - val_loss: 1.7481 - val_acc: 0.5962\n",
      "Epoch 73/81\n",
      "208/208 [==============================] - 0s 319us/step - loss: 0.6337 - acc: 0.7788 - val_loss: 1.6392 - val_acc: 0.5577\n",
      "Epoch 74/81\n",
      "208/208 [==============================] - 0s 333us/step - loss: 0.6278 - acc: 0.7933 - val_loss: 1.4841 - val_acc: 0.5577\n",
      "Epoch 75/81\n",
      "208/208 [==============================] - 0s 345us/step - loss: 0.5411 - acc: 0.8125 - val_loss: 1.6268 - val_acc: 0.4808\n",
      "Epoch 76/81\n",
      "208/208 [==============================] - 0s 345us/step - loss: 0.5320 - acc: 0.8221 - val_loss: 1.7297 - val_acc: 0.5192\n",
      "Epoch 77/81\n",
      "208/208 [==============================] - 0s 347us/step - loss: 0.5040 - acc: 0.8365 - val_loss: 1.7483 - val_acc: 0.5385\n",
      "Epoch 78/81\n",
      "208/208 [==============================] - 0s 390us/step - loss: 0.4503 - acc: 0.8269 - val_loss: 1.6385 - val_acc: 0.5577\n",
      "Epoch 79/81\n",
      "208/208 [==============================] - 0s 339us/step - loss: 0.3470 - acc: 0.8702 - val_loss: 1.4836 - val_acc: 0.5769\n",
      "Epoch 80/81\n",
      "208/208 [==============================] - 0s 352us/step - loss: 0.5564 - acc: 0.8077 - val_loss: 1.4836 - val_acc: 0.6346\n",
      "Epoch 81/81\n",
      "208/208 [==============================] - 0s 369us/step - loss: 0.4161 - acc: 0.8558 - val_loss: 1.7316 - val_acc: 0.5577\n",
      "Train on 208 samples, validate on 52 samples\n",
      "Epoch 1/82\n",
      "208/208 [==============================] - 5s 24ms/step - loss: 13.7964 - acc: 0.0962 - val_loss: 14.7945 - val_acc: 0.0769\n",
      "Epoch 2/82\n",
      "208/208 [==============================] - 0s 385us/step - loss: 13.9038 - acc: 0.1154 - val_loss: 14.5113 - val_acc: 0.0962\n",
      "Epoch 3/82\n",
      "208/208 [==============================] - 0s 369us/step - loss: 13.9740 - acc: 0.1250 - val_loss: 14.5683 - val_acc: 0.0962\n",
      "Epoch 4/82\n",
      "208/208 [==============================] - 0s 334us/step - loss: 13.9900 - acc: 0.1202 - val_loss: 14.4729 - val_acc: 0.0962\n",
      "Epoch 5/82\n",
      "208/208 [==============================] - 0s 359us/step - loss: 13.2051 - acc: 0.1538 - val_loss: 14.5683 - val_acc: 0.0962\n",
      "Epoch 6/82\n",
      "208/208 [==============================] - 0s 341us/step - loss: 13.0822 - acc: 0.1490 - val_loss: 14.2591 - val_acc: 0.0577\n",
      "Epoch 7/82\n",
      "208/208 [==============================] - 0s 332us/step - loss: 13.0016 - acc: 0.1490 - val_loss: 13.6553 - val_acc: 0.1346\n",
      "Epoch 8/82\n",
      "208/208 [==============================] - 0s 329us/step - loss: 12.3765 - acc: 0.1731 - val_loss: 14.5683 - val_acc: 0.0962\n",
      "Epoch 9/82\n",
      "208/208 [==============================] - 0s 353us/step - loss: 12.9493 - acc: 0.1683 - val_loss: 14.9895 - val_acc: 0.0577\n",
      "Epoch 10/82\n",
      "208/208 [==============================] - 0s 324us/step - loss: 12.6098 - acc: 0.1731 - val_loss: 13.4408 - val_acc: 0.1154\n",
      "Epoch 11/82\n",
      "208/208 [==============================] - 0s 353us/step - loss: 11.4249 - acc: 0.2308 - val_loss: 14.4318 - val_acc: 0.0769\n",
      "Epoch 12/82\n",
      "208/208 [==============================] - 0s 364us/step - loss: 13.4652 - acc: 0.1346 - val_loss: 13.7558 - val_acc: 0.1154\n",
      "Epoch 13/82\n",
      "208/208 [==============================] - 0s 363us/step - loss: 12.6394 - acc: 0.1587 - val_loss: 13.5881 - val_acc: 0.0769\n",
      "Epoch 14/82\n",
      "208/208 [==============================] - 0s 344us/step - loss: 12.6367 - acc: 0.1731 - val_loss: 12.3112 - val_acc: 0.1346\n",
      "Epoch 15/82\n",
      "208/208 [==============================] - 0s 346us/step - loss: 11.3862 - acc: 0.2260 - val_loss: 12.1130 - val_acc: 0.1346\n",
      "Epoch 16/82\n",
      "208/208 [==============================] - 0s 357us/step - loss: 10.5906 - acc: 0.2644 - val_loss: 10.5832 - val_acc: 0.2885\n",
      "Epoch 17/82\n",
      "208/208 [==============================] - 0s 336us/step - loss: 10.2286 - acc: 0.2837 - val_loss: 10.7772 - val_acc: 0.1731\n",
      "Epoch 18/82\n",
      "208/208 [==============================] - 0s 329us/step - loss: 10.0713 - acc: 0.3125 - val_loss: 11.5248 - val_acc: 0.1923\n",
      "Epoch 19/82\n",
      "208/208 [==============================] - 0s 363us/step - loss: 9.8688 - acc: 0.3221 - val_loss: 11.7131 - val_acc: 0.1923\n",
      "Epoch 20/82\n",
      "208/208 [==============================] - 0s 473us/step - loss: 10.1068 - acc: 0.3173 - val_loss: 10.1330 - val_acc: 0.2885\n",
      "Epoch 21/82\n",
      "208/208 [==============================] - 0s 374us/step - loss: 9.2693 - acc: 0.3413 - val_loss: 10.5295 - val_acc: 0.2308\n",
      "Epoch 22/82\n",
      "208/208 [==============================] - 0s 382us/step - loss: 9.0831 - acc: 0.3702 - val_loss: 10.1979 - val_acc: 0.2692\n",
      "Epoch 23/82\n",
      "208/208 [==============================] - 0s 338us/step - loss: 10.0144 - acc: 0.3125 - val_loss: 10.9794 - val_acc: 0.2308\n",
      "Epoch 24/82\n",
      "208/208 [==============================] - 0s 316us/step - loss: 9.7353 - acc: 0.3125 - val_loss: 12.7120 - val_acc: 0.1731\n",
      "Epoch 25/82\n",
      "208/208 [==============================] - 0s 372us/step - loss: 9.8378 - acc: 0.3125 - val_loss: 11.0538 - val_acc: 0.2308\n",
      "Epoch 26/82\n",
      "208/208 [==============================] - 0s 322us/step - loss: 8.9871 - acc: 0.3894 - val_loss: 12.8507 - val_acc: 0.1538\n",
      "Epoch 27/82\n",
      "208/208 [==============================] - 0s 328us/step - loss: 10.3830 - acc: 0.3077 - val_loss: 10.5200 - val_acc: 0.1538\n",
      "Epoch 28/82\n",
      "208/208 [==============================] - 0s 380us/step - loss: 9.0017 - acc: 0.3702 - val_loss: 10.1274 - val_acc: 0.2692\n",
      "Epoch 29/82\n",
      "208/208 [==============================] - 0s 328us/step - loss: 9.0940 - acc: 0.3894 - val_loss: 13.6846 - val_acc: 0.0962\n",
      "Epoch 30/82\n",
      "208/208 [==============================] - 0s 318us/step - loss: 10.7690 - acc: 0.2692 - val_loss: 11.7103 - val_acc: 0.1538\n",
      "Epoch 31/82\n",
      "208/208 [==============================] - 0s 328us/step - loss: 9.3653 - acc: 0.3413 - val_loss: 11.9828 - val_acc: 0.1731\n",
      "Epoch 32/82\n",
      "208/208 [==============================] - 0s 327us/step - loss: 9.0024 - acc: 0.3606 - val_loss: 9.7524 - val_acc: 0.2692\n",
      "Epoch 33/82\n",
      "208/208 [==============================] - 0s 315us/step - loss: 8.5881 - acc: 0.3750 - val_loss: 11.5616 - val_acc: 0.2115\n",
      "Epoch 34/82\n",
      "208/208 [==============================] - 0s 350us/step - loss: 9.0217 - acc: 0.3846 - val_loss: 11.1100 - val_acc: 0.1731\n",
      "Epoch 35/82\n",
      "208/208 [==============================] - 0s 349us/step - loss: 8.2551 - acc: 0.4038 - val_loss: 10.5568 - val_acc: 0.2500\n",
      "Epoch 36/82\n",
      "208/208 [==============================] - 0s 311us/step - loss: 7.9386 - acc: 0.4471 - val_loss: 9.4166 - val_acc: 0.2115\n",
      "Epoch 37/82\n",
      "208/208 [==============================] - 0s 334us/step - loss: 7.8505 - acc: 0.4519 - val_loss: 8.7109 - val_acc: 0.3077\n",
      "Epoch 38/82\n",
      "208/208 [==============================] - 0s 321us/step - loss: 6.9137 - acc: 0.4712 - val_loss: 9.8386 - val_acc: 0.2500\n",
      "Epoch 39/82\n",
      "208/208 [==============================] - 0s 333us/step - loss: 7.2027 - acc: 0.4471 - val_loss: 8.5744 - val_acc: 0.2500\n",
      "Epoch 40/82\n",
      "208/208 [==============================] - 0s 405us/step - loss: 6.7578 - acc: 0.5096 - val_loss: 8.6609 - val_acc: 0.3077\n",
      "Epoch 41/82\n",
      "208/208 [==============================] - 0s 325us/step - loss: 6.8591 - acc: 0.4952 - val_loss: 6.8554 - val_acc: 0.3654\n",
      "Epoch 42/82\n",
      "208/208 [==============================] - 0s 371us/step - loss: 6.5797 - acc: 0.5144 - val_loss: 7.0450 - val_acc: 0.3654\n",
      "Epoch 43/82\n",
      "208/208 [==============================] - 0s 404us/step - loss: 5.7927 - acc: 0.5288 - val_loss: 6.8376 - val_acc: 0.3846\n",
      "Epoch 44/82\n",
      "208/208 [==============================] - 0s 334us/step - loss: 6.0099 - acc: 0.5240 - val_loss: 7.1992 - val_acc: 0.4423\n",
      "Epoch 45/82\n",
      "208/208 [==============================] - 0s 378us/step - loss: 6.1081 - acc: 0.4712 - val_loss: 5.8442 - val_acc: 0.4038\n",
      "Epoch 46/82\n",
      "208/208 [==============================] - 0s 332us/step - loss: 5.9453 - acc: 0.4567 - val_loss: 6.4245 - val_acc: 0.3846\n",
      "Epoch 47/82\n",
      "208/208 [==============================] - 0s 327us/step - loss: 5.3238 - acc: 0.5529 - val_loss: 5.9049 - val_acc: 0.4038\n",
      "Epoch 48/82\n",
      "208/208 [==============================] - 0s 378us/step - loss: 4.8572 - acc: 0.5192 - val_loss: 6.5186 - val_acc: 0.4808\n",
      "Epoch 49/82\n",
      "208/208 [==============================] - 0s 327us/step - loss: 5.4541 - acc: 0.5577 - val_loss: 5.6451 - val_acc: 0.4423\n",
      "Epoch 50/82\n",
      "208/208 [==============================] - 0s 342us/step - loss: 4.6282 - acc: 0.5337 - val_loss: 6.0078 - val_acc: 0.5192\n",
      "Epoch 51/82\n",
      "208/208 [==============================] - 0s 392us/step - loss: 4.6424 - acc: 0.5529 - val_loss: 3.7394 - val_acc: 0.4615\n",
      "Epoch 52/82\n",
      "208/208 [==============================] - 0s 331us/step - loss: 4.2884 - acc: 0.5096 - val_loss: 4.5073 - val_acc: 0.4615\n",
      "Epoch 53/82\n",
      "208/208 [==============================] - 0s 335us/step - loss: 4.1530 - acc: 0.5577 - val_loss: 5.2419 - val_acc: 0.4615\n",
      "Epoch 54/82\n",
      "208/208 [==============================] - 0s 380us/step - loss: 3.9070 - acc: 0.5962 - val_loss: 2.4868 - val_acc: 0.5192\n",
      "Epoch 55/82\n",
      "208/208 [==============================] - 0s 345us/step - loss: 3.3421 - acc: 0.6010 - val_loss: 4.2219 - val_acc: 0.4808\n",
      "Epoch 56/82\n",
      "208/208 [==============================] - 0s 359us/step - loss: 3.8072 - acc: 0.5721 - val_loss: 4.0040 - val_acc: 0.4615\n",
      "Epoch 57/82\n",
      "208/208 [==============================] - 0s 379us/step - loss: 3.6278 - acc: 0.6010 - val_loss: 2.9652 - val_acc: 0.5769\n",
      "Epoch 58/82\n",
      "208/208 [==============================] - 0s 378us/step - loss: 3.3660 - acc: 0.5962 - val_loss: 3.7462 - val_acc: 0.4038\n",
      "Epoch 59/82\n",
      "208/208 [==============================] - 0s 370us/step - loss: 3.1258 - acc: 0.6154 - val_loss: 4.2365 - val_acc: 0.4231\n",
      "Epoch 60/82\n",
      "208/208 [==============================] - 0s 369us/step - loss: 3.2355 - acc: 0.5962 - val_loss: 3.6565 - val_acc: 0.5385\n",
      "Epoch 61/82\n",
      "208/208 [==============================] - 0s 354us/step - loss: 2.6139 - acc: 0.6442 - val_loss: 2.7422 - val_acc: 0.4808\n",
      "Epoch 62/82\n",
      "208/208 [==============================] - 0s 367us/step - loss: 2.0592 - acc: 0.6490 - val_loss: 3.2698 - val_acc: 0.5192\n",
      "Epoch 63/82\n",
      "208/208 [==============================] - 0s 352us/step - loss: 2.4690 - acc: 0.6490 - val_loss: 2.7538 - val_acc: 0.4808\n",
      "Epoch 64/82\n",
      "208/208 [==============================] - 0s 342us/step - loss: 2.1000 - acc: 0.6394 - val_loss: 1.9950 - val_acc: 0.5577\n",
      "Epoch 65/82\n",
      "208/208 [==============================] - 0s 347us/step - loss: 1.8841 - acc: 0.6442 - val_loss: 1.7969 - val_acc: 0.5769\n",
      "Epoch 66/82\n",
      "208/208 [==============================] - 0s 336us/step - loss: 1.5542 - acc: 0.7019 - val_loss: 2.0809 - val_acc: 0.5385\n",
      "Epoch 67/82\n",
      "208/208 [==============================] - 0s 341us/step - loss: 1.6877 - acc: 0.6010 - val_loss: 1.8800 - val_acc: 0.5769\n",
      "Epoch 68/82\n",
      "208/208 [==============================] - 0s 342us/step - loss: 1.8277 - acc: 0.6202 - val_loss: 1.8519 - val_acc: 0.5769\n",
      "Epoch 69/82\n",
      "208/208 [==============================] - 0s 329us/step - loss: 1.4999 - acc: 0.6587 - val_loss: 1.7800 - val_acc: 0.5962\n",
      "Epoch 70/82\n",
      "208/208 [==============================] - 0s 318us/step - loss: 1.4384 - acc: 0.6875 - val_loss: 1.5208 - val_acc: 0.5769\n",
      "Epoch 71/82\n",
      "208/208 [==============================] - 0s 341us/step - loss: 1.2768 - acc: 0.6587 - val_loss: 1.8949 - val_acc: 0.5769\n",
      "Epoch 72/82\n",
      "208/208 [==============================] - 0s 345us/step - loss: 1.3528 - acc: 0.6731 - val_loss: 1.6388 - val_acc: 0.5385\n",
      "Epoch 73/82\n",
      "208/208 [==============================] - 0s 335us/step - loss: 1.1253 - acc: 0.7163 - val_loss: 1.5791 - val_acc: 0.5769\n",
      "Epoch 74/82\n",
      "208/208 [==============================] - 0s 338us/step - loss: 0.9309 - acc: 0.7308 - val_loss: 1.5151 - val_acc: 0.6154\n",
      "Epoch 75/82\n",
      "208/208 [==============================] - 0s 346us/step - loss: 1.0851 - acc: 0.7260 - val_loss: 1.5812 - val_acc: 0.5577\n",
      "Epoch 76/82\n",
      "208/208 [==============================] - 0s 340us/step - loss: 0.9743 - acc: 0.6779 - val_loss: 1.6237 - val_acc: 0.6346\n",
      "Epoch 77/82\n",
      "208/208 [==============================] - 0s 332us/step - loss: 1.0437 - acc: 0.7212 - val_loss: 1.6917 - val_acc: 0.5962\n",
      "Epoch 78/82\n",
      "208/208 [==============================] - 0s 337us/step - loss: 0.9876 - acc: 0.7067 - val_loss: 1.6415 - val_acc: 0.5769\n",
      "Epoch 79/82\n",
      "208/208 [==============================] - 0s 353us/step - loss: 1.0693 - acc: 0.6923 - val_loss: 1.6209 - val_acc: 0.6538\n",
      "Epoch 80/82\n"
     ]
    },
    {
     "name": "stdout",
     "output_type": "stream",
     "text": [
      "208/208 [==============================] - 0s 360us/step - loss: 0.6963 - acc: 0.7548 - val_loss: 1.5832 - val_acc: 0.6538\n",
      "Epoch 81/82\n",
      "208/208 [==============================] - 0s 330us/step - loss: 0.8053 - acc: 0.7692 - val_loss: 1.5971 - val_acc: 0.5962\n",
      "Epoch 82/82\n",
      "208/208 [==============================] - 0s 326us/step - loss: 0.8145 - acc: 0.7115 - val_loss: 1.6491 - val_acc: 0.6154\n",
      "Train on 208 samples, validate on 52 samples\n",
      "Epoch 1/83\n",
      "208/208 [==============================] - 5s 24ms/step - loss: 13.3290 - acc: 0.0962 - val_loss: 14.5816 - val_acc: 0.0769\n",
      "Epoch 2/83\n",
      "208/208 [==============================] - 0s 384us/step - loss: 13.0156 - acc: 0.1394 - val_loss: 13.1109 - val_acc: 0.1346\n",
      "Epoch 3/83\n",
      "208/208 [==============================] - 0s 333us/step - loss: 13.0950 - acc: 0.1538 - val_loss: 14.4295 - val_acc: 0.0577\n",
      "Epoch 4/83\n",
      "208/208 [==============================] - 0s 327us/step - loss: 12.1946 - acc: 0.1971 - val_loss: 14.8782 - val_acc: 0.0769\n",
      "Epoch 5/83\n",
      "208/208 [==============================] - 0s 328us/step - loss: 13.1350 - acc: 0.1538 - val_loss: 13.6384 - val_acc: 0.1538\n",
      "Epoch 6/83\n",
      "208/208 [==============================] - 0s 586us/step - loss: 11.9998 - acc: 0.2308 - val_loss: 13.3182 - val_acc: 0.1538\n",
      "Epoch 7/83\n",
      "208/208 [==============================] - 0s 541us/step - loss: 12.1125 - acc: 0.1923 - val_loss: 12.0934 - val_acc: 0.1538\n",
      "Epoch 8/83\n",
      "208/208 [==============================] - 0s 357us/step - loss: 11.5444 - acc: 0.2163 - val_loss: 12.1328 - val_acc: 0.2115\n",
      "Epoch 9/83\n",
      "208/208 [==============================] - 0s 371us/step - loss: 10.7037 - acc: 0.2885 - val_loss: 13.0515 - val_acc: 0.1538\n",
      "Epoch 10/83\n",
      "208/208 [==============================] - 0s 333us/step - loss: 11.0796 - acc: 0.2644 - val_loss: 13.1496 - val_acc: 0.1538\n",
      "Epoch 11/83\n",
      "208/208 [==============================] - 0s 340us/step - loss: 11.8128 - acc: 0.2067 - val_loss: 11.5092 - val_acc: 0.2115\n",
      "Epoch 12/83\n",
      "208/208 [==============================] - 0s 350us/step - loss: 10.7596 - acc: 0.2885 - val_loss: 12.7865 - val_acc: 0.1731\n",
      "Epoch 13/83\n",
      "208/208 [==============================] - 0s 370us/step - loss: 11.3014 - acc: 0.2644 - val_loss: 11.7086 - val_acc: 0.2308\n",
      "Epoch 14/83\n",
      "208/208 [==============================] - 0s 344us/step - loss: 10.3912 - acc: 0.3029 - val_loss: 10.8860 - val_acc: 0.2692\n",
      "Epoch 15/83\n",
      "208/208 [==============================] - 0s 352us/step - loss: 10.0378 - acc: 0.3317 - val_loss: 12.4836 - val_acc: 0.1538\n",
      "Epoch 16/83\n",
      "208/208 [==============================] - 0s 331us/step - loss: 10.0207 - acc: 0.3413 - val_loss: 12.0961 - val_acc: 0.2308\n",
      "Epoch 17/83\n",
      "208/208 [==============================] - 0s 341us/step - loss: 9.7028 - acc: 0.3654 - val_loss: 11.1763 - val_acc: 0.2692\n",
      "Epoch 18/83\n",
      "208/208 [==============================] - 0s 315us/step - loss: 10.1487 - acc: 0.2981 - val_loss: 11.3657 - val_acc: 0.2308\n",
      "Epoch 19/83\n",
      "208/208 [==============================] - 0s 320us/step - loss: 9.4702 - acc: 0.3558 - val_loss: 12.7093 - val_acc: 0.2115\n",
      "Epoch 20/83\n",
      "208/208 [==============================] - 0s 337us/step - loss: 10.5150 - acc: 0.3317 - val_loss: 12.3962 - val_acc: 0.2115\n",
      "Epoch 21/83\n",
      "208/208 [==============================] - 0s 325us/step - loss: 10.2180 - acc: 0.3365 - val_loss: 11.6572 - val_acc: 0.2308\n",
      "Epoch 22/83\n",
      "208/208 [==============================] - 0s 302us/step - loss: 9.7572 - acc: 0.3558 - val_loss: 10.9261 - val_acc: 0.2500\n",
      "Epoch 23/83\n",
      "208/208 [==============================] - 0s 355us/step - loss: 9.0216 - acc: 0.3750 - val_loss: 9.9560 - val_acc: 0.3077\n",
      "Epoch 24/83\n",
      "208/208 [==============================] - 0s 347us/step - loss: 9.0050 - acc: 0.3750 - val_loss: 12.2577 - val_acc: 0.1731\n",
      "Epoch 25/83\n",
      "208/208 [==============================] - 0s 320us/step - loss: 10.3581 - acc: 0.3029 - val_loss: 11.4140 - val_acc: 0.1538\n",
      "Epoch 26/83\n",
      "208/208 [==============================] - 0s 353us/step - loss: 9.9240 - acc: 0.3077 - val_loss: 10.3483 - val_acc: 0.2115\n",
      "Epoch 27/83\n",
      "208/208 [==============================] - 0s 341us/step - loss: 8.5893 - acc: 0.3942 - val_loss: 10.4639 - val_acc: 0.2885\n",
      "Epoch 28/83\n",
      "208/208 [==============================] - 0s 322us/step - loss: 8.9711 - acc: 0.3606 - val_loss: 11.2014 - val_acc: 0.2308\n",
      "Epoch 29/83\n",
      "208/208 [==============================] - 0s 362us/step - loss: 8.3949 - acc: 0.4087 - val_loss: 10.2858 - val_acc: 0.2692\n",
      "Epoch 30/83\n",
      "208/208 [==============================] - 0s 355us/step - loss: 8.0654 - acc: 0.3942 - val_loss: 10.3410 - val_acc: 0.2692\n",
      "Epoch 31/83\n",
      "208/208 [==============================] - 0s 321us/step - loss: 8.8520 - acc: 0.3942 - val_loss: 10.1186 - val_acc: 0.2885\n",
      "Epoch 32/83\n",
      "208/208 [==============================] - 0s 373us/step - loss: 7.8433 - acc: 0.4567 - val_loss: 9.5768 - val_acc: 0.2885\n",
      "Epoch 33/83\n",
      "208/208 [==============================] - 0s 373us/step - loss: 7.2608 - acc: 0.4808 - val_loss: 9.2973 - val_acc: 0.2500\n",
      "Epoch 34/83\n",
      "208/208 [==============================] - 0s 338us/step - loss: 7.6656 - acc: 0.4615 - val_loss: 9.4524 - val_acc: 0.3269\n",
      "Epoch 35/83\n",
      "208/208 [==============================] - 0s 368us/step - loss: 7.5787 - acc: 0.4519 - val_loss: 9.0862 - val_acc: 0.3269\n",
      "Epoch 36/83\n",
      "208/208 [==============================] - 0s 336us/step - loss: 7.3110 - acc: 0.4663 - val_loss: 11.1067 - val_acc: 0.1731\n",
      "Epoch 37/83\n",
      "208/208 [==============================] - 0s 351us/step - loss: 7.6383 - acc: 0.4471 - val_loss: 10.0566 - val_acc: 0.2692\n",
      "Epoch 38/83\n",
      "208/208 [==============================] - 0s 407us/step - loss: 8.2261 - acc: 0.4183 - val_loss: 9.6974 - val_acc: 0.2885\n",
      "Epoch 39/83\n",
      "208/208 [==============================] - 0s 348us/step - loss: 8.0970 - acc: 0.4327 - val_loss: 7.8710 - val_acc: 0.3846\n",
      "Epoch 40/83\n",
      "208/208 [==============================] - 0s 351us/step - loss: 6.8925 - acc: 0.4567 - val_loss: 8.8131 - val_acc: 0.3269\n",
      "Epoch 41/83\n",
      "208/208 [==============================] - 0s 342us/step - loss: 7.4529 - acc: 0.4712 - val_loss: 8.1301 - val_acc: 0.3269\n",
      "Epoch 42/83\n",
      "208/208 [==============================] - 0s 380us/step - loss: 7.9195 - acc: 0.4231 - val_loss: 8.6408 - val_acc: 0.3654\n",
      "Epoch 43/83\n",
      "208/208 [==============================] - 0s 340us/step - loss: 5.9978 - acc: 0.5433 - val_loss: 7.1460 - val_acc: 0.4038\n",
      "Epoch 44/83\n",
      "208/208 [==============================] - 0s 377us/step - loss: 6.5025 - acc: 0.5096 - val_loss: 8.0586 - val_acc: 0.3846\n",
      "Epoch 45/83\n",
      "208/208 [==============================] - 0s 339us/step - loss: 5.6675 - acc: 0.5529 - val_loss: 9.6302 - val_acc: 0.3462\n",
      "Epoch 46/83\n",
      "208/208 [==============================] - 0s 352us/step - loss: 6.4830 - acc: 0.5192 - val_loss: 7.6212 - val_acc: 0.3462\n",
      "Epoch 47/83\n",
      "208/208 [==============================] - 0s 390us/step - loss: 5.8520 - acc: 0.5721 - val_loss: 7.7003 - val_acc: 0.3654\n",
      "Epoch 48/83\n",
      "208/208 [==============================] - 0s 336us/step - loss: 5.5617 - acc: 0.6106 - val_loss: 7.5696 - val_acc: 0.3846\n",
      "Epoch 49/83\n",
      "208/208 [==============================] - 0s 358us/step - loss: 5.7752 - acc: 0.5769 - val_loss: 7.5137 - val_acc: 0.3846\n",
      "Epoch 50/83\n",
      "208/208 [==============================] - 0s 384us/step - loss: 5.8906 - acc: 0.5433 - val_loss: 7.7061 - val_acc: 0.3846\n",
      "Epoch 51/83\n",
      "208/208 [==============================] - 0s 357us/step - loss: 5.8425 - acc: 0.5385 - val_loss: 6.7173 - val_acc: 0.4231\n",
      "Epoch 52/83\n",
      "208/208 [==============================] - 0s 330us/step - loss: 5.4790 - acc: 0.5337 - val_loss: 5.5803 - val_acc: 0.4615\n",
      "Epoch 53/83\n",
      "208/208 [==============================] - 0s 368us/step - loss: 5.3063 - acc: 0.5817 - val_loss: 5.7310 - val_acc: 0.4615\n",
      "Epoch 54/83\n",
      "208/208 [==============================] - 0s 356us/step - loss: 4.9092 - acc: 0.5913 - val_loss: 6.9977 - val_acc: 0.3846\n",
      "Epoch 55/83\n",
      "208/208 [==============================] - 0s 370us/step - loss: 4.7873 - acc: 0.6058 - val_loss: 7.6121 - val_acc: 0.3462\n",
      "Epoch 56/83\n",
      "208/208 [==============================] - 0s 378us/step - loss: 5.4368 - acc: 0.5288 - val_loss: 6.7635 - val_acc: 0.4038\n",
      "Epoch 57/83\n",
      "208/208 [==============================] - 0s 340us/step - loss: 5.0018 - acc: 0.5673 - val_loss: 5.1892 - val_acc: 0.4808\n",
      "Epoch 58/83\n",
      "208/208 [==============================] - 0s 346us/step - loss: 4.9548 - acc: 0.5817 - val_loss: 5.9287 - val_acc: 0.4615\n",
      "Epoch 59/83\n",
      "208/208 [==============================] - 0s 336us/step - loss: 4.5649 - acc: 0.6298 - val_loss: 5.5106 - val_acc: 0.4615\n",
      "Epoch 60/83\n",
      "208/208 [==============================] - 0s 342us/step - loss: 4.3517 - acc: 0.6058 - val_loss: 4.7497 - val_acc: 0.5385\n",
      "Epoch 61/83\n",
      "208/208 [==============================] - 0s 343us/step - loss: 4.1792 - acc: 0.6154 - val_loss: 4.8138 - val_acc: 0.4615\n",
      "Epoch 62/83\n",
      "208/208 [==============================] - 0s 432us/step - loss: 4.0509 - acc: 0.6298 - val_loss: 4.6394 - val_acc: 0.4808\n",
      "Epoch 63/83\n",
      "208/208 [==============================] - 0s 332us/step - loss: 4.2872 - acc: 0.6346 - val_loss: 4.4984 - val_acc: 0.5769\n",
      "Epoch 64/83\n",
      "208/208 [==============================] - 0s 326us/step - loss: 3.6041 - acc: 0.6298 - val_loss: 4.5047 - val_acc: 0.5192\n",
      "Epoch 65/83\n",
      "208/208 [==============================] - 0s 315us/step - loss: 3.7519 - acc: 0.6490 - val_loss: 5.0804 - val_acc: 0.4038\n",
      "Epoch 66/83\n",
      "208/208 [==============================] - 0s 334us/step - loss: 4.2474 - acc: 0.6010 - val_loss: 4.6733 - val_acc: 0.4808\n",
      "Epoch 67/83\n",
      "208/208 [==============================] - 0s 335us/step - loss: 4.0458 - acc: 0.6058 - val_loss: 4.2413 - val_acc: 0.5385\n",
      "Epoch 68/83\n",
      "208/208 [==============================] - 0s 331us/step - loss: 3.6548 - acc: 0.6827 - val_loss: 4.0197 - val_acc: 0.5385\n",
      "Epoch 69/83\n",
      "208/208 [==============================] - 0s 347us/step - loss: 3.0780 - acc: 0.6779 - val_loss: 4.8962 - val_acc: 0.4615\n",
      "Epoch 70/83\n",
      "208/208 [==============================] - 0s 326us/step - loss: 3.7409 - acc: 0.6394 - val_loss: 4.3274 - val_acc: 0.4423\n",
      "Epoch 71/83\n",
      "208/208 [==============================] - 0s 480us/step - loss: 3.8221 - acc: 0.6154 - val_loss: 4.0248 - val_acc: 0.5577\n",
      "Epoch 72/83\n",
      "208/208 [==============================] - 0s 389us/step - loss: 3.1725 - acc: 0.6683 - val_loss: 4.0481 - val_acc: 0.5000\n",
      "Epoch 73/83\n",
      "208/208 [==============================] - 0s 395us/step - loss: 3.2837 - acc: 0.6779 - val_loss: 3.6527 - val_acc: 0.5385\n",
      "Epoch 74/83\n",
      "208/208 [==============================] - 0s 377us/step - loss: 3.0816 - acc: 0.6442 - val_loss: 3.8767 - val_acc: 0.4423\n",
      "Epoch 75/83\n",
      "208/208 [==============================] - 0s 341us/step - loss: 2.9283 - acc: 0.6058 - val_loss: 3.8782 - val_acc: 0.5577\n",
      "Epoch 76/83\n",
      "208/208 [==============================] - 0s 327us/step - loss: 2.3119 - acc: 0.6538 - val_loss: 4.3145 - val_acc: 0.4231\n",
      "Epoch 77/83\n",
      "208/208 [==============================] - 0s 393us/step - loss: 2.5901 - acc: 0.6346 - val_loss: 3.4395 - val_acc: 0.4038\n",
      "Epoch 78/83\n",
      "208/208 [==============================] - 0s 352us/step - loss: 2.4181 - acc: 0.6442 - val_loss: 2.8831 - val_acc: 0.5192\n",
      "Epoch 79/83\n",
      "208/208 [==============================] - 0s 345us/step - loss: 1.9701 - acc: 0.6683 - val_loss: 2.5518 - val_acc: 0.5192\n",
      "Epoch 80/83\n",
      "208/208 [==============================] - 0s 344us/step - loss: 1.7879 - acc: 0.6442 - val_loss: 2.3431 - val_acc: 0.5192\n",
      "Epoch 81/83\n",
      "208/208 [==============================] - 0s 340us/step - loss: 1.6553 - acc: 0.6538 - val_loss: 2.6982 - val_acc: 0.4808\n",
      "Epoch 82/83\n",
      "208/208 [==============================] - 0s 349us/step - loss: 1.6393 - acc: 0.7115 - val_loss: 2.0369 - val_acc: 0.5000\n",
      "Epoch 83/83\n",
      "208/208 [==============================] - 0s 342us/step - loss: 1.2306 - acc: 0.6923 - val_loss: 2.0376 - val_acc: 0.5385\n",
      "Train on 208 samples, validate on 52 samples\n",
      "Epoch 1/84\n",
      "208/208 [==============================] - 6s 27ms/step - loss: 14.0381 - acc: 0.0865 - val_loss: 14.3325 - val_acc: 0.0577\n",
      "Epoch 2/84\n",
      "208/208 [==============================] - 0s 358us/step - loss: 13.3265 - acc: 0.1250 - val_loss: 14.4688 - val_acc: 0.0577\n",
      "Epoch 3/84\n",
      "208/208 [==============================] - 0s 353us/step - loss: 13.6226 - acc: 0.1202 - val_loss: 13.4902 - val_acc: 0.0962\n",
      "Epoch 4/84\n",
      "208/208 [==============================] - 0s 346us/step - loss: 12.6846 - acc: 0.1490 - val_loss: 14.5949 - val_acc: 0.0769\n",
      "Epoch 5/84\n",
      "208/208 [==============================] - 0s 354us/step - loss: 13.9572 - acc: 0.1010 - val_loss: 13.9203 - val_acc: 0.1154\n",
      "Epoch 6/84\n",
      "208/208 [==============================] - 0s 342us/step - loss: 12.1695 - acc: 0.1971 - val_loss: 13.2497 - val_acc: 0.1538\n",
      "Epoch 7/84\n",
      "208/208 [==============================] - 0s 338us/step - loss: 11.4808 - acc: 0.2356 - val_loss: 13.0635 - val_acc: 0.1538\n",
      "Epoch 8/84\n",
      "208/208 [==============================] - 0s 351us/step - loss: 11.4662 - acc: 0.2404 - val_loss: 11.8845 - val_acc: 0.1923\n",
      "Epoch 9/84\n",
      "208/208 [==============================] - 0s 333us/step - loss: 10.8192 - acc: 0.2692 - val_loss: 12.5938 - val_acc: 0.1731\n",
      "Epoch 10/84\n",
      "208/208 [==============================] - 0s 321us/step - loss: 10.4307 - acc: 0.2740 - val_loss: 11.4217 - val_acc: 0.2308\n",
      "Epoch 11/84\n",
      "208/208 [==============================] - 0s 342us/step - loss: 11.3196 - acc: 0.2308 - val_loss: 13.3842 - val_acc: 0.1346\n",
      "Epoch 12/84\n",
      "208/208 [==============================] - 0s 335us/step - loss: 12.1563 - acc: 0.2163 - val_loss: 13.9690 - val_acc: 0.0962\n",
      "Epoch 13/84\n",
      "208/208 [==============================] - 0s 330us/step - loss: 11.5524 - acc: 0.2260 - val_loss: 13.7156 - val_acc: 0.1154\n",
      "Epoch 14/84\n",
      "208/208 [==============================] - 0s 294us/step - loss: 10.8358 - acc: 0.2837 - val_loss: 12.3384 - val_acc: 0.1731\n",
      "Epoch 15/84\n",
      "208/208 [==============================] - 0s 378us/step - loss: 11.0515 - acc: 0.2788 - val_loss: 12.8206 - val_acc: 0.1538\n",
      "Epoch 16/84\n",
      "208/208 [==============================] - 0s 349us/step - loss: 11.8205 - acc: 0.2260 - val_loss: 12.8747 - val_acc: 0.1538\n",
      "Epoch 17/84\n",
      "208/208 [==============================] - 0s 341us/step - loss: 10.6882 - acc: 0.2740 - val_loss: 13.2740 - val_acc: 0.1346\n",
      "Epoch 18/84\n",
      "208/208 [==============================] - 0s 370us/step - loss: 11.8924 - acc: 0.2356 - val_loss: 13.1468 - val_acc: 0.1538\n",
      "Epoch 19/84\n",
      "208/208 [==============================] - 0s 340us/step - loss: 10.9937 - acc: 0.2692 - val_loss: 11.7380 - val_acc: 0.1731\n",
      "Epoch 20/84\n",
      "208/208 [==============================] - 0s 327us/step - loss: 10.8479 - acc: 0.2644 - val_loss: 12.2984 - val_acc: 0.1923\n",
      "Epoch 21/84\n",
      "208/208 [==============================] - 0s 397us/step - loss: 11.8135 - acc: 0.2019 - val_loss: 11.3925 - val_acc: 0.2308\n",
      "Epoch 22/84\n",
      "208/208 [==============================] - 0s 343us/step - loss: 9.9652 - acc: 0.3077 - val_loss: 10.8112 - val_acc: 0.2308\n",
      "Epoch 23/84\n",
      "208/208 [==============================] - 0s 497us/step - loss: 9.2961 - acc: 0.3462 - val_loss: 10.3652 - val_acc: 0.2692\n",
      "Epoch 24/84\n",
      "208/208 [==============================] - 0s 346us/step - loss: 8.2815 - acc: 0.4327 - val_loss: 10.7657 - val_acc: 0.2692\n",
      "Epoch 25/84\n",
      "208/208 [==============================] - 0s 337us/step - loss: 8.5543 - acc: 0.4135 - val_loss: 10.1731 - val_acc: 0.3077\n",
      "Epoch 26/84\n",
      "208/208 [==============================] - 0s 339us/step - loss: 9.3873 - acc: 0.3510 - val_loss: 9.1424 - val_acc: 0.2692\n",
      "Epoch 27/84\n",
      "208/208 [==============================] - 0s 384us/step - loss: 7.9901 - acc: 0.4183 - val_loss: 9.5886 - val_acc: 0.3269\n",
      "Epoch 28/84\n",
      "208/208 [==============================] - 0s 393us/step - loss: 7.8841 - acc: 0.4231 - val_loss: 8.8012 - val_acc: 0.3846\n",
      "Epoch 29/84\n",
      "208/208 [==============================] - 0s 329us/step - loss: 8.6118 - acc: 0.3798 - val_loss: 8.8764 - val_acc: 0.2500\n",
      "Epoch 30/84\n",
      "208/208 [==============================] - 0s 347us/step - loss: 7.3745 - acc: 0.4519 - val_loss: 8.0401 - val_acc: 0.3846\n",
      "Epoch 31/84\n",
      "208/208 [==============================] - 0s 367us/step - loss: 6.7377 - acc: 0.4904 - val_loss: 7.7863 - val_acc: 0.4231\n",
      "Epoch 32/84\n",
      "208/208 [==============================] - 0s 340us/step - loss: 7.5395 - acc: 0.4375 - val_loss: 9.7737 - val_acc: 0.2885\n",
      "Epoch 33/84\n",
      "208/208 [==============================] - 0s 337us/step - loss: 6.9696 - acc: 0.4856 - val_loss: 9.7916 - val_acc: 0.3269\n",
      "Epoch 34/84\n",
      "208/208 [==============================] - 0s 403us/step - loss: 7.2016 - acc: 0.4615 - val_loss: 7.5554 - val_acc: 0.4038\n",
      "Epoch 35/84\n"
     ]
    },
    {
     "name": "stdout",
     "output_type": "stream",
     "text": [
      "208/208 [==============================] - 0s 362us/step - loss: 6.1505 - acc: 0.4952 - val_loss: 6.9984 - val_acc: 0.3654\n",
      "Epoch 36/84\n",
      "208/208 [==============================] - 0s 341us/step - loss: 5.7547 - acc: 0.5288 - val_loss: 7.8291 - val_acc: 0.3654\n",
      "Epoch 37/84\n",
      "208/208 [==============================] - 0s 334us/step - loss: 6.5464 - acc: 0.5096 - val_loss: 11.4732 - val_acc: 0.1538\n",
      "Epoch 38/84\n",
      "208/208 [==============================] - 0s 346us/step - loss: 8.4043 - acc: 0.3654 - val_loss: 7.4354 - val_acc: 0.4038\n",
      "Epoch 39/84\n",
      "208/208 [==============================] - 0s 338us/step - loss: 6.7973 - acc: 0.4760 - val_loss: 7.3775 - val_acc: 0.3846\n",
      "Epoch 40/84\n",
      "208/208 [==============================] - 0s 331us/step - loss: 5.7592 - acc: 0.5337 - val_loss: 6.9631 - val_acc: 0.4038\n",
      "Epoch 41/84\n",
      "208/208 [==============================] - 0s 264us/step - loss: 5.8645 - acc: 0.5288 - val_loss: 5.1018 - val_acc: 0.4615\n",
      "Epoch 42/84\n",
      "208/208 [==============================] - 0s 282us/step - loss: 5.1804 - acc: 0.5625 - val_loss: 7.5807 - val_acc: 0.4038\n",
      "Epoch 43/84\n",
      "208/208 [==============================] - 0s 257us/step - loss: 6.2537 - acc: 0.5048 - val_loss: 5.3972 - val_acc: 0.4808\n",
      "Epoch 44/84\n",
      "208/208 [==============================] - 0s 373us/step - loss: 4.9353 - acc: 0.5769 - val_loss: 6.0740 - val_acc: 0.4615\n",
      "Epoch 45/84\n",
      "208/208 [==============================] - 0s 287us/step - loss: 5.1269 - acc: 0.5673 - val_loss: 5.2919 - val_acc: 0.5769\n",
      "Epoch 46/84\n",
      "208/208 [==============================] - 0s 342us/step - loss: 4.2108 - acc: 0.6202 - val_loss: 5.8691 - val_acc: 0.4615\n",
      "Epoch 47/84\n",
      "208/208 [==============================] - 0s 247us/step - loss: 5.1147 - acc: 0.5385 - val_loss: 4.7667 - val_acc: 0.4423\n",
      "Epoch 48/84\n",
      "208/208 [==============================] - 0s 254us/step - loss: 4.5078 - acc: 0.5817 - val_loss: 5.1865 - val_acc: 0.4038\n",
      "Epoch 49/84\n",
      "208/208 [==============================] - 0s 247us/step - loss: 4.2004 - acc: 0.5721 - val_loss: 4.4590 - val_acc: 0.4423\n",
      "Epoch 50/84\n",
      "208/208 [==============================] - 0s 332us/step - loss: 4.2775 - acc: 0.6010 - val_loss: 4.0114 - val_acc: 0.4615\n",
      "Epoch 51/84\n",
      "208/208 [==============================] - 0s 276us/step - loss: 3.8278 - acc: 0.6298 - val_loss: 4.8451 - val_acc: 0.4231\n",
      "Epoch 52/84\n",
      "208/208 [==============================] - 0s 247us/step - loss: 3.3647 - acc: 0.6346 - val_loss: 5.0123 - val_acc: 0.3846\n",
      "Epoch 53/84\n",
      "208/208 [==============================] - 0s 312us/step - loss: 3.6838 - acc: 0.6106 - val_loss: 4.1322 - val_acc: 0.4615\n",
      "Epoch 54/84\n",
      "208/208 [==============================] - 0s 504us/step - loss: 3.4284 - acc: 0.6298 - val_loss: 3.3834 - val_acc: 0.4615\n",
      "Epoch 55/84\n",
      "208/208 [==============================] - 0s 457us/step - loss: 2.6413 - acc: 0.6490 - val_loss: 5.0319 - val_acc: 0.4038\n",
      "Epoch 56/84\n",
      "208/208 [==============================] - 0s 404us/step - loss: 3.0983 - acc: 0.6250 - val_loss: 2.7970 - val_acc: 0.4808\n",
      "Epoch 57/84\n",
      "208/208 [==============================] - 0s 372us/step - loss: 2.7184 - acc: 0.6442 - val_loss: 2.4675 - val_acc: 0.5385\n",
      "Epoch 58/84\n",
      "208/208 [==============================] - 0s 332us/step - loss: 2.2172 - acc: 0.6635 - val_loss: 3.3950 - val_acc: 0.4038\n",
      "Epoch 59/84\n",
      "208/208 [==============================] - 0s 333us/step - loss: 2.3724 - acc: 0.6779 - val_loss: 2.3760 - val_acc: 0.5577\n",
      "Epoch 60/84\n",
      "208/208 [==============================] - 0s 379us/step - loss: 2.4104 - acc: 0.6442 - val_loss: 2.3379 - val_acc: 0.5769\n",
      "Epoch 61/84\n",
      "208/208 [==============================] - 0s 339us/step - loss: 1.9098 - acc: 0.6587 - val_loss: 2.0391 - val_acc: 0.5769\n",
      "Epoch 62/84\n",
      "208/208 [==============================] - 0s 338us/step - loss: 1.4860 - acc: 0.7356 - val_loss: 2.1834 - val_acc: 0.4423\n",
      "Epoch 63/84\n",
      "208/208 [==============================] - 0s 334us/step - loss: 1.6092 - acc: 0.6875 - val_loss: 1.6243 - val_acc: 0.5577\n",
      "Epoch 64/84\n",
      "208/208 [==============================] - 0s 340us/step - loss: 1.3471 - acc: 0.6923 - val_loss: 2.0104 - val_acc: 0.4423\n",
      "Epoch 65/84\n",
      "208/208 [==============================] - 0s 345us/step - loss: 1.5203 - acc: 0.6587 - val_loss: 1.7549 - val_acc: 0.5769\n",
      "Epoch 66/84\n",
      "208/208 [==============================] - 0s 390us/step - loss: 1.5335 - acc: 0.7212 - val_loss: 1.5560 - val_acc: 0.5577\n",
      "Epoch 67/84\n",
      "208/208 [==============================] - 0s 343us/step - loss: 1.2920 - acc: 0.6827 - val_loss: 1.5001 - val_acc: 0.5769\n",
      "Epoch 68/84\n",
      "208/208 [==============================] - 0s 333us/step - loss: 1.3918 - acc: 0.6875 - val_loss: 1.6352 - val_acc: 0.5962\n",
      "Epoch 69/84\n",
      "208/208 [==============================] - 0s 354us/step - loss: 1.2609 - acc: 0.6827 - val_loss: 1.7117 - val_acc: 0.5577\n",
      "Epoch 70/84\n",
      "208/208 [==============================] - 0s 340us/step - loss: 1.2465 - acc: 0.6731 - val_loss: 1.6780 - val_acc: 0.5577\n",
      "Epoch 71/84\n",
      "208/208 [==============================] - 0s 352us/step - loss: 1.1247 - acc: 0.7356 - val_loss: 1.6853 - val_acc: 0.5000\n",
      "Epoch 72/84\n",
      "208/208 [==============================] - 0s 347us/step - loss: 1.3061 - acc: 0.6923 - val_loss: 1.8812 - val_acc: 0.4808\n",
      "Epoch 73/84\n",
      "208/208 [==============================] - 0s 322us/step - loss: 1.2328 - acc: 0.7115 - val_loss: 1.8727 - val_acc: 0.5962\n",
      "Epoch 74/84\n",
      "208/208 [==============================] - 0s 329us/step - loss: 1.1265 - acc: 0.6875 - val_loss: 1.7346 - val_acc: 0.5577\n",
      "Epoch 75/84\n",
      "208/208 [==============================] - 0s 406us/step - loss: 1.1493 - acc: 0.6827 - val_loss: 1.7107 - val_acc: 0.5577\n",
      "Epoch 76/84\n",
      "208/208 [==============================] - 0s 342us/step - loss: 1.0558 - acc: 0.6971 - val_loss: 1.5747 - val_acc: 0.6154\n",
      "Epoch 77/84\n",
      "208/208 [==============================] - 0s 350us/step - loss: 0.8941 - acc: 0.7356 - val_loss: 1.4523 - val_acc: 0.6346\n",
      "Epoch 78/84\n",
      "208/208 [==============================] - 0s 332us/step - loss: 1.0137 - acc: 0.7212 - val_loss: 1.3625 - val_acc: 0.5962\n",
      "Epoch 79/84\n",
      "208/208 [==============================] - 0s 340us/step - loss: 0.8403 - acc: 0.7596 - val_loss: 1.4856 - val_acc: 0.5962\n",
      "Epoch 80/84\n",
      "208/208 [==============================] - 0s 368us/step - loss: 0.9950 - acc: 0.7260 - val_loss: 1.4897 - val_acc: 0.6346\n",
      "Epoch 81/84\n",
      "208/208 [==============================] - 0s 430us/step - loss: 1.0166 - acc: 0.7212 - val_loss: 1.4184 - val_acc: 0.6154\n",
      "Epoch 82/84\n",
      "208/208 [==============================] - 0s 414us/step - loss: 0.8517 - acc: 0.7692 - val_loss: 1.4090 - val_acc: 0.6346\n",
      "Epoch 83/84\n",
      "208/208 [==============================] - 0s 345us/step - loss: 1.0318 - acc: 0.7308 - val_loss: 1.6466 - val_acc: 0.6731\n",
      "Epoch 84/84\n",
      "208/208 [==============================] - 0s 340us/step - loss: 1.0677 - acc: 0.7404 - val_loss: 1.3420 - val_acc: 0.6154\n",
      "Train on 208 samples, validate on 52 samples\n",
      "Epoch 1/85\n",
      "208/208 [==============================] - 5s 26ms/step - loss: 13.1545 - acc: 0.1346 - val_loss: 12.8364 - val_acc: 0.1731\n",
      "Epoch 2/85\n",
      "208/208 [==============================] - 0s 275us/step - loss: 11.9337 - acc: 0.1635 - val_loss: 13.5313 - val_acc: 0.1346\n",
      "Epoch 3/85\n",
      "208/208 [==============================] - 0s 267us/step - loss: 13.6573 - acc: 0.1442 - val_loss: 13.2397 - val_acc: 0.1731\n",
      "Epoch 4/85\n",
      "208/208 [==============================] - 0s 271us/step - loss: 13.4152 - acc: 0.1442 - val_loss: 13.3538 - val_acc: 0.1346\n",
      "Epoch 5/85\n",
      "208/208 [==============================] - 0s 279us/step - loss: 13.1133 - acc: 0.1490 - val_loss: 13.8566 - val_acc: 0.1346\n",
      "Epoch 6/85\n",
      "208/208 [==============================] - 0s 258us/step - loss: 12.7785 - acc: 0.1827 - val_loss: 13.1417 - val_acc: 0.1731\n",
      "Epoch 7/85\n",
      "208/208 [==============================] - 0s 286us/step - loss: 11.6745 - acc: 0.2260 - val_loss: 13.5781 - val_acc: 0.0962\n",
      "Epoch 8/85\n",
      "208/208 [==============================] - 0s 311us/step - loss: 11.2837 - acc: 0.2260 - val_loss: 11.9292 - val_acc: 0.2115\n",
      "Epoch 9/85\n",
      "208/208 [==============================] - 0s 264us/step - loss: 10.9130 - acc: 0.2308 - val_loss: 10.8691 - val_acc: 0.2115\n",
      "Epoch 10/85\n",
      "208/208 [==============================] - 0s 263us/step - loss: 10.2660 - acc: 0.2788 - val_loss: 14.0994 - val_acc: 0.0962\n",
      "Epoch 11/85\n",
      "208/208 [==============================] - 0s 269us/step - loss: 12.0022 - acc: 0.2163 - val_loss: 13.5604 - val_acc: 0.0962\n",
      "Epoch 12/85\n",
      "208/208 [==============================] - 0s 266us/step - loss: 11.6391 - acc: 0.2356 - val_loss: 12.5192 - val_acc: 0.1346\n",
      "Epoch 13/85\n",
      "208/208 [==============================] - 0s 298us/step - loss: 10.4715 - acc: 0.2740 - val_loss: 13.1594 - val_acc: 0.1731\n",
      "Epoch 14/85\n",
      "208/208 [==============================] - 0s 385us/step - loss: 10.4645 - acc: 0.2981 - val_loss: 9.9574 - val_acc: 0.2308\n",
      "Epoch 15/85\n",
      "208/208 [==============================] - 0s 344us/step - loss: 10.0076 - acc: 0.2933 - val_loss: 10.1354 - val_acc: 0.3077\n",
      "Epoch 16/85\n",
      "208/208 [==============================] - 0s 344us/step - loss: 10.0373 - acc: 0.3077 - val_loss: 11.0058 - val_acc: 0.2115\n",
      "Epoch 17/85\n",
      "208/208 [==============================] - 0s 389us/step - loss: 9.7766 - acc: 0.3173 - val_loss: 12.2841 - val_acc: 0.1923\n",
      "Epoch 18/85\n",
      "208/208 [==============================] - 0s 312us/step - loss: 10.1145 - acc: 0.2885 - val_loss: 11.5496 - val_acc: 0.1923\n",
      "Epoch 19/85\n",
      "208/208 [==============================] - 0s 265us/step - loss: 9.1512 - acc: 0.3894 - val_loss: 11.2750 - val_acc: 0.2115\n",
      "Epoch 20/85\n",
      "208/208 [==============================] - 0s 265us/step - loss: 9.3556 - acc: 0.3654 - val_loss: 10.3825 - val_acc: 0.2500\n",
      "Epoch 21/85\n",
      "208/208 [==============================] - 0s 273us/step - loss: 8.0825 - acc: 0.4135 - val_loss: 9.2910 - val_acc: 0.2692\n",
      "Epoch 22/85\n",
      "208/208 [==============================] - 0s 279us/step - loss: 8.1311 - acc: 0.3894 - val_loss: 10.8634 - val_acc: 0.2692\n",
      "Epoch 23/85\n",
      "100/208 [=============>................] - ETA: 3:18 - loss: 8.9052 - acc: 0.3300"
     ]
    }
   ],
   "source": [
    "#weights_4=[]\n",
    "#weights_6=[]\n",
    "for i in range(80,91):\n",
    "    model=Sequential()\n",
    "    model.add(Conv2D(32,kernel_size=(2,2),activation='relu',input_shape=(20,11,1)))\n",
    "    model.add(MaxPooling2D(pool_size=(2,2)))\n",
    "    model.add(Dropout(0.25))\n",
    "    model.add(Flatten())\n",
    "    model.add(Dense(128,activation='relu'))\n",
    "    model.add(Dropout(0.25))\n",
    "    model.add(Dense(10,activation='softmax'))\n",
    "    model.compile(loss=keras.losses.categorical_crossentropy,optimizer=keras.optimizers.Adadelta(),metrics=['accuracy'])\n",
    "    \n",
    "    model.fit(X_train,y_train_hot,batch_size=100,epochs=i,verbose=1,validation_data=(X_test,y_test_hot))\n",
    "    \n",
    "    w_4=model.layers[4].get_weights()[0]\n",
    "    w_4=w_4[1,:]  #Take the 1st row only\n",
    "    \n",
    "    w_6=model.layers[6].get_weights()[0]\n",
    "    w_6=np.transpose(w_6)[1,:] #transpose and the take the 1st row only\n",
    "    \n",
    "    if i==60:\n",
    "        weights_4=w_4\n",
    "        weights_6=w_6\n",
    "        \n",
    "    else:    \n",
    "        weights_4=np.vstack((weights_4,w_4))\n",
    "        weights_6=np.vstack((weights_6,w_6))"
   ]
  },
  {
   "cell_type": "code",
   "execution_count": 98,
   "metadata": {},
   "outputs": [],
   "source": [
    "sd_w4=weights_4.std(0)\n",
    "sd_w6=weights_6.std(0)"
   ]
  },
  {
   "cell_type": "code",
   "execution_count": 92,
   "metadata": {
    "scrolled": true
   },
   "outputs": [],
   "source": [
    "np.save('SD_weights_4_1440.npy',sd_w4)\n",
    "np.save('SD_weights_6_128.npy',sd_w6)"
   ]
  },
  {
   "cell_type": "code",
   "execution_count": 100,
   "metadata": {},
   "outputs": [
    {
     "data": {
      "image/png": "[encoded data removed]",
      "text/plain": [
       "<Figure size 720x288 with 1 Axes>"
      ]
     },
     "metadata": {
      "needs_background": "light"
     },
     "output_type": "display_data"
    }
   ],
   "source": [
    "weight_number=np.arange(0,128)\n",
    "plt.figure(figsize=(10,4))\n",
    "plt.plot(weight_number,sd_w4)\n",
    "plt.xlabel('Weights')\n",
    "plt.ylabel('Standard Deviation')\n",
    "#plt.xticks(weight_number,(np.arange(1,1441)))\n",
    "plt.title('Dense_19 layer')\n",
    "plt.savefig('SD_weights_4.svg',format='svg', dpi=1200)"
   ]
  },
  {
   "cell_type": "code",
   "execution_count": 101,
   "metadata": {},
   "outputs": [
    {
     "data": {
      "image/png": "[encoded data removed]",
      "text/plain": [
       "<Figure size 720x288 with 1 Axes>"
      ]
     },
     "metadata": {
      "needs_background": "light"
     },
     "output_type": "display_data"
    }
   ],
   "source": [
    "weight_number=np.arange(0,128)\n",
    "plt.figure(figsize=(10,4))\n",
    "plt.plot(weight_number,sd_w6)\n",
    "plt.xlabel('Weights')\n",
    "plt.ylabel('Standard Deviation')\n",
    "#plt.xticks(weight_number,(np.arange(1,1441)))\n",
    "plt.title('Dense_20 layer')\n",
    "v "
   ]
  },
  {
   "cell_type": "code",
   "execution_count": null,
   "metadata": {},
   "outputs": [],
   "source": []
  }
 ],
 "metadata": {
  "kernelspec": {
   "display_name": "Python 3",
   "language": "python",
   "name": "python3"
  },
  "language_info": {
   "codemirror_mode": {
    "name": "ipython",
    "version": 3
   },
   "file_extension": ".py",
   "mimetype": "text/x-python",
   "name": "python",
   "nbconvert_exporter": "python",
   "pygments_lexer": "ipython3",
   "version": "3.6.6"
  }
 },
 "nbformat": 4,
 "nbformat_minor": 2
}
