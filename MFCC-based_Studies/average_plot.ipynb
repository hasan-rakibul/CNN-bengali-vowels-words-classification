{
 "cells": [
  {
   "cell_type": "code",
   "execution_count": 1,
   "metadata": {},
   "outputs": [],
   "source": [
    "import librosa\n",
    "import numpy as np\n",
    "import matplotlib.pyplot as plt\n",
    "import os"
   ]
  },
  {
   "cell_type": "code",
   "execution_count": 75,
   "metadata": {},
   "outputs": [],
   "source": [
    "DATA_PATH=\"./data/10/\"\n",
    "labels=os.listdir(DATA_PATH)"
   ]
  },
  {
   "cell_type": "code",
   "execution_count": 76,
   "metadata": {},
   "outputs": [],
   "source": [
    "def speech2mfcc(file_path,max_len=11):\n",
    "\twave, sr= librosa.load(file_path, mono=True, sr=None)\n",
    "\twave=wave[::5]\n",
    "\tmfcc=librosa.feature.mfcc(wave,sr=sr)\n",
    "#\tprint(mfcc)\n",
    "\tif (max_len > mfcc.shape[1]): #.shape[1], 1-->column\n",
    "\t\tpad_width=max_len-mfcc.shape[1]\n",
    "\t\tmfcc=np.pad(mfcc,pad_width=((0,0),(0,pad_width)),mode='constant')\n",
    "\n",
    "\telse:\n",
    "\t\tmfcc=mfcc[:,:max_len]\n",
    "#\tprint(mfcc.shape)\n",
    "\treturn mfcc"
   ]
  },
  {
   "cell_type": "code",
   "execution_count": 77,
   "metadata": {},
   "outputs": [],
   "source": [
    "mfcc_vectors=[]\n",
    "\n",
    "for speech in labels:\n",
    "    mfcc=speech2mfcc(DATA_PATH+speech)\n",
    "    mfcc_vectors.append(mfcc)"
   ]
  },
  {
   "cell_type": "code",
   "execution_count": 78,
   "metadata": {},
   "outputs": [],
   "source": [
    "mfcc_total=[]\n",
    "for n_mf,_ in enumerate(mfcc_vectors[1]):\n",
    "#    print('n_mf='+repr(n_mf))\n",
    "    mfcc_i=mfcc_vectors[0][n_mf,]\n",
    "    for i,_ in enumerate(mfcc_vectors[1:]):\n",
    "#        print('i='+repr(i))\n",
    "        mfcc_i=np.vstack((mfcc_i,mfcc_vectors[i+1][n_mf,]))\n",
    "    mfcc_total.append(mfcc_i)"
   ]
  },
  {
   "cell_type": "code",
   "execution_count": 79,
   "metadata": {},
   "outputs": [],
   "source": [
    "for j,_ in enumerate(mfcc_total):\n",
    "    mfcc_total[j][mfcc_total[j] ==0]=np.nan"
   ]
  },
  {
   "cell_type": "code",
   "execution_count": 80,
   "metadata": {},
   "outputs": [],
   "source": [
    "std_total=np.nanstd(mfcc_total,axis=1)"
   ]
  },
  {
   "cell_type": "code",
   "execution_count": 81,
   "metadata": {},
   "outputs": [],
   "source": [
    "mfcc_avg=np.average(std_total,axis=1)"
   ]
  },
  {
   "cell_type": "code",
   "execution_count": 82,
   "metadata": {},
   "outputs": [
    {
     "data": {
      "image/png": "[encoded data removed]",
      "text/plain": [
       "<Figure size 720x288 with 1 Axes>"
      ]
     },
     "metadata": {
      "needs_background": "light"
     },
     "output_type": "display_data"
    }
   ],
   "source": [
    "mfcc_number=range(1,21)\n",
    "plt.figure(figsize=(10,4))\n",
    "plt.plot(mfcc_number,mfcc_avg)\n",
    "plt.xticks(mfcc_number)\n",
    "plt.xlabel('MFCC Number')\n",
    "plt.ylabel('Average Value of SD')\n",
    "#plt.title('Average value of standard deviation')\n",
    "plt.savefig('mfcc_avg_sd_10.svg',format='svg', dpi=1200)\n",
    "#np.save('mfcc_average.npy',mfcc_avg)"
   ]
  },
  {
   "cell_type": "code",
   "execution_count": null,
   "metadata": {},
   "outputs": [],
   "source": []
  }
 ],
 "metadata": {
  "kernelspec": {
   "display_name": "Python 3",
   "language": "python",
   "name": "python3"
  },
  "language_info": {
   "codemirror_mode": {
    "name": "ipython",
    "version": 3
   },
   "file_extension": ".py",
   "mimetype": "text/x-python",
   "name": "python",
   "nbconvert_exporter": "python",
   "pygments_lexer": "ipython3",
   "version": "3.6.6"
  }
 },
 "nbformat": 4,
 "nbformat_minor": 2
}
