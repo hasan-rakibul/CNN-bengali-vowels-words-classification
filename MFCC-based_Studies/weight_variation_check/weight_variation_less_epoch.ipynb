{
 "cells": [
  {
   "cell_type": "code",
   "execution_count": 1,
   "metadata": {},
   "outputs": [
    {
     "name": "stderr",
     "output_type": "stream",
     "text": [
      "Using TensorFlow backend.\n"
     ]
    }
   ],
   "source": [
    "import librosa\n",
    "import numpy as np\n",
    "import matplotlib.pyplot as plt\n",
    "import os\n",
    "from code import *\n",
    "import keras\n",
    "from keras.models import Sequential\n",
    "from keras.layers import Dense, Dropout, Flatten, Conv2D, MaxPooling2D\n",
    "from keras.utils import to_categorical\n",
    "from sklearn.model_selection import train_test_split\n",
    "from tqdm import tqdm"
   ]
  },
  {
   "cell_type": "code",
   "execution_count": 2,
   "metadata": {},
   "outputs": [],
   "source": [
    "DATA_PATH=\"./data_init/\"\n",
    "\n",
    "def get_labels(path=DATA_PATH):\n",
    "    labels=os.listdir(path)\n",
    "    label_indices=np.arange(0,len(labels))\n",
    "    return labels, label_indices, to_categorical(label_indices)"
   ]
  },
  {
   "cell_type": "code",
   "execution_count": 3,
   "metadata": {},
   "outputs": [],
   "source": [
    "def speech2mfcc(file_path,max_len=11):\n",
    "    wave, sr= librosa.load(file_path, mono=True, sr=None)\n",
    "    wave=wave[::5]\n",
    "    mfcc=librosa.feature.mfcc(wave,sr=16000)\n",
    "    if (max_len > mfcc.shape[1]): #.shape[1], 1-->column\n",
    "        pad_width=max_len-mfcc.shape[1]\n",
    "        mfcc=np.pad(mfcc,pad_width=((0,0),(0,pad_width)),mode='constant')\n",
    "    else:\n",
    "        mfcc=mfcc[:,:max_len]\n",
    "    return mfcc"
   ]
  },
  {
   "cell_type": "code",
   "execution_count": 4,
   "metadata": {},
   "outputs": [],
   "source": [
    "def save_data_to_array(path=DATA_PATH, max_len=11):\n",
    "    labels,_,_=get_labels(path)\n",
    "\n",
    "    for label in labels:\n",
    "        mfcc_vectors=[]\n",
    "\n",
    "        speechfiles=[path + label + '/' + speech for speech in os.listdir(path+'/'+label)]\n",
    "        for speech in tqdm(speechfiles,\"Saving vectors to label -'{}'\".format(label)):\n",
    "            mfcc=speech2mfcc(speech,max_len=max_len)\n",
    "            print(mfcc.shape)\n",
    "            mfcc_vectors.append(mfcc)\n",
    "            \n",
    "        np.save(label+'.npy',mfcc_vectors)"
   ]
  },
  {
   "cell_type": "code",
   "execution_count": 5,
   "metadata": {},
   "outputs": [],
   "source": [
    "def get_train_test(split_ratio=0.8,random_state=42):\n",
    "    labels,indices,_=get_labels(DATA_PATH)\n",
    "\n",
    "    X=np.load(labels[0]+'.npy')\n",
    "    y=np.zeros(X.shape[0])\n",
    "\n",
    "    for i,label in enumerate(labels[1:]):\n",
    "        x=np.load(label+'.npy')\n",
    "        X=np.vstack((X,x))\n",
    "        y=np.append(y,np.full(x.shape[0],fill_value=(i+1)))\n",
    "    assert X.shape[0] == len(y)\n",
    "    return train_test_split(X,y,test_size=(1-split_ratio),random_state=random_state,shuffle=True)"
   ]
  },
  {
   "cell_type": "code",
   "execution_count": 57,
   "metadata": {
    "collapsed": true
   },
   "outputs": [
    {
     "name": "stderr",
     "output_type": "stream",
     "text": [
      "Saving vectors to label -'1':  85%|████████▍ | 22/26 [00:00<00:00, 97.05it/s]"
     ]
    },
    {
     "name": "stdout",
     "output_type": "stream",
     "text": [
      "(20, 11)\n",
      "(20, 11)\n",
      "(20, 11)\n",
      "(20, 11)\n",
      "(20, 11)\n",
      "(20, 11)\n",
      "(20, 11)\n",
      "(20, 11)\n",
      "(20, 11)\n",
      "(20, 11)\n",
      "(20, 11)\n",
      "(20, 11)\n",
      "(20, 11)\n",
      "(20, 11)\n",
      "(20, 11)\n",
      "(20, 11)\n",
      "(20, 11)\n",
      "(20, 11)\n",
      "(20, 11)\n",
      "(20, 11)\n",
      "(20, 11)\n",
      "(20, 11)\n"
     ]
    },
    {
     "name": "stderr",
     "output_type": "stream",
     "text": [
      "Saving vectors to label -'1': 100%|██████████| 26/26 [00:00<00:00, 104.98it/s]\n",
      "Saving vectors to label -'10':   8%|▊         | 2/26 [00:00<00:01, 17.46it/s]"
     ]
    },
    {
     "name": "stdout",
     "output_type": "stream",
     "text": [
      "(20, 11)\n",
      "(20, 11)\n",
      "(20, 11)\n",
      "(20, 11)\n",
      "(20, 11)\n",
      "(20, 11)\n"
     ]
    },
    {
     "name": "stderr",
     "output_type": "stream",
     "text": [
      "Saving vectors to label -'10':  35%|███▍      | 9/26 [00:00<00:00, 22.63it/s]"
     ]
    },
    {
     "name": "stdout",
     "output_type": "stream",
     "text": [
      "(20, 11)\n",
      "(20, 11)\n",
      "(20, 11)\n",
      "(20, 11)\n",
      "(20, 11)\n",
      "(20, 11)\n",
      "(20, 11)\n"
     ]
    },
    {
     "name": "stderr",
     "output_type": "stream",
     "text": [
      "Saving vectors to label -'10':  69%|██████▉   | 18/26 [00:00<00:00, 28.94it/s]"
     ]
    },
    {
     "name": "stdout",
     "output_type": "stream",
     "text": [
      "(20, 11)\n",
      "(20, 11)\n",
      "(20, 11)\n",
      "(20, 11)\n",
      "(20, 11)\n",
      "(20, 11)\n",
      "(20, 11)\n",
      "(20, 11)\n",
      "(20, 11)\n"
     ]
    },
    {
     "name": "stderr",
     "output_type": "stream",
     "text": [
      "Saving vectors to label -'10': 100%|██████████| 26/26 [00:00<00:00, 31.14it/s]"
     ]
    },
    {
     "name": "stdout",
     "output_type": "stream",
     "text": [
      "(20, 11)\n",
      "(20, 11)\n",
      "(20, 11)\n",
      "(20, 11)\n",
      "(20, 11)\n",
      "(20, 11)\n",
      "(20, 11)\n",
      "(20, 11)\n"
     ]
    },
    {
     "name": "stderr",
     "output_type": "stream",
     "text": [
      "\n",
      "Saving vectors to label -'2':  31%|███       | 8/26 [00:00<00:00, 31.68it/s]"
     ]
    },
    {
     "name": "stdout",
     "output_type": "stream",
     "text": [
      "(20, 11)\n",
      "(20, 11)\n",
      "(20, 11)\n",
      "(20, 11)\n",
      "(20, 11)\n",
      "(20, 11)\n",
      "(20, 11)\n",
      "(20, 11)\n"
     ]
    },
    {
     "name": "stderr",
     "output_type": "stream",
     "text": [
      "\r",
      "Saving vectors to label -'2':  46%|████▌     | 12/26 [00:00<00:00, 32.69it/s]"
     ]
    },
    {
     "name": "stdout",
     "output_type": "stream",
     "text": [
      "(20, 11)\n",
      "(20, 11)\n",
      "(20, 11)\n",
      "(20, 11)\n",
      "(20, 11)\n",
      "(20, 11)\n",
      "(20, 11)\n"
     ]
    },
    {
     "name": "stderr",
     "output_type": "stream",
     "text": [
      "Saving vectors to label -'2':  85%|████████▍ | 22/26 [00:00<00:00, 36.72it/s]"
     ]
    },
    {
     "name": "stdout",
     "output_type": "stream",
     "text": [
      "(20, 11)\n",
      "(20, 11)\n",
      "(20, 11)\n",
      "(20, 11)\n",
      "(20, 11)\n",
      "(20, 11)\n",
      "(20, 11)\n",
      "(20, 11)\n",
      "(20, 11)\n"
     ]
    },
    {
     "name": "stderr",
     "output_type": "stream",
     "text": [
      "Saving vectors to label -'2': 100%|██████████| 26/26 [00:00<00:00, 30.03it/s]\n",
      "Saving vectors to label -'3':  12%|█▏        | 3/26 [00:00<00:00, 28.26it/s]"
     ]
    },
    {
     "name": "stdout",
     "output_type": "stream",
     "text": [
      "(20, 11)\n",
      "(20, 11)\n",
      "(20, 11)\n",
      "(20, 11)\n",
      "(20, 11)\n"
     ]
    },
    {
     "name": "stderr",
     "output_type": "stream",
     "text": [
      "Saving vectors to label -'3':  38%|███▊      | 10/26 [00:00<00:00, 31.16it/s]"
     ]
    },
    {
     "name": "stdout",
     "output_type": "stream",
     "text": [
      "(20, 11)\n",
      "(20, 11)\n",
      "(20, 11)\n",
      "(20, 11)\n",
      "(20, 11)\n",
      "(20, 11)\n",
      "(20, 11)\n",
      "(20, 11)\n"
     ]
    },
    {
     "name": "stderr",
     "output_type": "stream",
     "text": [
      "Saving vectors to label -'3':  69%|██████▉   | 18/26 [00:00<00:00, 33.59it/s]"
     ]
    },
    {
     "name": "stdout",
     "output_type": "stream",
     "text": [
      "(20, 11)\n",
      "(20, 11)\n",
      "(20, 11)\n",
      "(20, 11)\n",
      "(20, 11)\n",
      "(20, 11)\n",
      "(20, 11)\n"
     ]
    },
    {
     "name": "stderr",
     "output_type": "stream",
     "text": [
      "\r",
      "Saving vectors to label -'3':  81%|████████  | 21/26 [00:00<00:00, 24.87it/s]"
     ]
    },
    {
     "name": "stdout",
     "output_type": "stream",
     "text": [
      "(20, 11)\n",
      "(20, 11)\n",
      "(20, 11)\n"
     ]
    },
    {
     "name": "stderr",
     "output_type": "stream",
     "text": [
      "Saving vectors to label -'3': 100%|██████████| 26/26 [00:00<00:00, 26.35it/s]\n",
      "Saving vectors to label -'4':   0%|          | 0/26 [00:00<?, ?it/s]"
     ]
    },
    {
     "name": "stdout",
     "output_type": "stream",
     "text": [
      "(20, 11)\n",
      "(20, 11)\n",
      "(20, 11)\n",
      "(20, 11)\n",
      "(20, 11)\n"
     ]
    },
    {
     "name": "stderr",
     "output_type": "stream",
     "text": [
      "Saving vectors to label -'4':  23%|██▎       | 6/26 [00:00<00:00, 25.98it/s]"
     ]
    },
    {
     "name": "stdout",
     "output_type": "stream",
     "text": [
      "(20, 11)\n",
      "(20, 11)\n",
      "(20, 11)\n",
      "(20, 11)\n",
      "(20, 11)\n",
      "(20, 11)\n",
      "(20, 11)\n",
      "(20, 11)\n"
     ]
    },
    {
     "name": "stderr",
     "output_type": "stream",
     "text": [
      "Saving vectors to label -'4':  65%|██████▌   | 17/26 [00:00<00:00, 32.80it/s]"
     ]
    },
    {
     "name": "stdout",
     "output_type": "stream",
     "text": [
      "(20, 11)\n",
      "(20, 11)\n",
      "(20, 11)\n",
      "(20, 11)\n",
      "(20, 11)\n",
      "(20, 11)\n",
      "(20, 11)\n",
      "(20, 11)\n",
      "(20, 11)\n"
     ]
    },
    {
     "name": "stderr",
     "output_type": "stream",
     "text": [
      "\r",
      "Saving vectors to label -'4':  81%|████████  | 21/26 [00:00<00:00, 33.80it/s]"
     ]
    },
    {
     "name": "stdout",
     "output_type": "stream",
     "text": [
      "(20, 11)\n",
      "(20, 11)\n",
      "(20, 11)\n",
      "(20, 11)\n",
      "(20, 11)\n",
      "(20, 11)\n",
      "(20, 11)\n",
      "(20, 11)\n"
     ]
    },
    {
     "name": "stderr",
     "output_type": "stream",
     "text": [
      "Saving vectors to label -'4': 100%|██████████| 26/26 [00:00<00:00, 36.31it/s]\n",
      "Saving vectors to label -'5':  12%|█▏        | 3/26 [00:00<00:01, 22.76it/s]"
     ]
    },
    {
     "name": "stdout",
     "output_type": "stream",
     "text": [
      "(20, 11)\n",
      "(20, 11)\n",
      "(20, 11)\n",
      "(20, 11)\n"
     ]
    },
    {
     "name": "stderr",
     "output_type": "stream",
     "text": [
      "Saving vectors to label -'5':  38%|███▊      | 10/26 [00:00<00:00, 26.62it/s]"
     ]
    },
    {
     "name": "stdout",
     "output_type": "stream",
     "text": [
      "(20, 11)\n",
      "(20, 11)\n",
      "(20, 11)\n",
      "(20, 11)\n",
      "(20, 11)\n",
      "(20, 11)\n",
      "(20, 11)\n",
      "(20, 11)\n"
     ]
    },
    {
     "name": "stderr",
     "output_type": "stream",
     "text": [
      "Saving vectors to label -'5':  73%|███████▎  | 19/26 [00:00<00:00, 31.88it/s]"
     ]
    },
    {
     "name": "stdout",
     "output_type": "stream",
     "text": [
      "(20, 11)\n",
      "(20, 11)\n",
      "(20, 11)\n",
      "(20, 11)\n",
      "(20, 11)\n",
      "(20, 11)\n",
      "(20, 11)\n",
      "(20, 11)\n",
      "(20, 11)\n"
     ]
    },
    {
     "name": "stderr",
     "output_type": "stream",
     "text": [
      "Saving vectors to label -'5': 100%|██████████| 26/26 [00:00<00:00, 34.82it/s]\n",
      "Saving vectors to label -'6':   0%|          | 0/26 [00:00<?, ?it/s]"
     ]
    },
    {
     "name": "stdout",
     "output_type": "stream",
     "text": [
      "(20, 11)\n",
      "(20, 11)\n",
      "(20, 11)\n",
      "(20, 11)\n",
      "(20, 11)\n",
      "(20, 11)\n",
      "(20, 11)\n"
     ]
    },
    {
     "name": "stderr",
     "output_type": "stream",
     "text": [
      "Saving vectors to label -'6':  35%|███▍      | 9/26 [00:00<00:00, 31.56it/s]"
     ]
    },
    {
     "name": "stdout",
     "output_type": "stream",
     "text": [
      "(20, 11)\n",
      "(20, 11)\n",
      "(20, 11)\n",
      "(20, 11)\n",
      "(20, 11)\n",
      "(20, 11)\n",
      "(20, 11)\n",
      "(20, 11)\n"
     ]
    },
    {
     "name": "stderr",
     "output_type": "stream",
     "text": [
      "\r",
      "Saving vectors to label -'6':  58%|█████▊    | 15/26 [00:00<00:00, 33.91it/s]"
     ]
    },
    {
     "name": "stdout",
     "output_type": "stream",
     "text": [
      "(20, 11)\n",
      "(20, 11)\n",
      "(20, 11)\n",
      "(20, 11)\n",
      "(20, 11)\n",
      "(20, 11)\n",
      "(20, 11)\n",
      "(20, 11)\n"
     ]
    },
    {
     "name": "stderr",
     "output_type": "stream",
     "text": [
      "Saving vectors to label -'6':  92%|█████████▏| 24/26 [00:00<00:00, 33.67it/s]"
     ]
    },
    {
     "name": "stdout",
     "output_type": "stream",
     "text": [
      "(20, 11)\n",
      "(20, 11)\n",
      "(20, 11)\n",
      "(20, 11)\n",
      "(20, 11)\n",
      "(20, 11)\n",
      "(20, 11)\n"
     ]
    },
    {
     "name": "stderr",
     "output_type": "stream",
     "text": [
      "Saving vectors to label -'6': 100%|██████████| 26/26 [00:00<00:00, 36.72it/s]\n",
      "Saving vectors to label -'7':  12%|█▏        | 3/26 [00:00<00:00, 24.73it/s]"
     ]
    },
    {
     "name": "stdout",
     "output_type": "stream",
     "text": [
      "(20, 11)\n",
      "(20, 11)\n",
      "(20, 11)\n",
      "(20, 11)\n",
      "(20, 11)\n"
     ]
    },
    {
     "name": "stderr",
     "output_type": "stream",
     "text": [
      "\r",
      "Saving vectors to label -'7':  23%|██▎       | 6/26 [00:00<00:00, 24.16it/s]"
     ]
    },
    {
     "name": "stdout",
     "output_type": "stream",
     "text": [
      "(20, 11)\n",
      "(20, 11)\n",
      "(20, 11)\n",
      "(20, 11)\n",
      "(20, 11)\n",
      "(20, 11)\n",
      "(20, 11)\n",
      "(20, 11)\n"
     ]
    },
    {
     "name": "stderr",
     "output_type": "stream",
     "text": [
      "Saving vectors to label -'7':  62%|██████▏   | 16/26 [00:00<00:00, 30.85it/s]"
     ]
    },
    {
     "name": "stdout",
     "output_type": "stream",
     "text": [
      "(20, 11)\n",
      "(20, 11)\n",
      "(20, 11)\n",
      "(20, 11)\n",
      "(20, 11)\n",
      "(20, 11)\n",
      "(20, 11)\n",
      "(20, 11)\n",
      "(20, 11)\n"
     ]
    },
    {
     "name": "stderr",
     "output_type": "stream",
     "text": [
      "Saving vectors to label -'7': 100%|██████████| 26/26 [00:00<00:00, 34.75it/s]\n",
      "Saving vectors to label -'8':   0%|          | 0/26 [00:00<?, ?it/s]"
     ]
    },
    {
     "name": "stdout",
     "output_type": "stream",
     "text": [
      "(20, 11)\n",
      "(20, 11)\n",
      "(20, 11)\n",
      "(20, 11)\n",
      "(20, 11)\n",
      "(20, 11)\n"
     ]
    },
    {
     "name": "stderr",
     "output_type": "stream",
     "text": [
      "Saving vectors to label -'8':  23%|██▎       | 6/26 [00:00<00:00, 21.33it/s]"
     ]
    },
    {
     "name": "stdout",
     "output_type": "stream",
     "text": [
      "(20, 11)\n",
      "(20, 11)\n",
      "(20, 11)\n",
      "(20, 11)\n",
      "(20, 11)\n",
      "(20, 11)\n",
      "(20, 11)\n",
      "(20, 11)\n"
     ]
    },
    {
     "name": "stderr",
     "output_type": "stream",
     "text": [
      "Saving vectors to label -'8':  58%|█████▊    | 15/26 [00:00<00:00, 27.69it/s]"
     ]
    },
    {
     "name": "stdout",
     "output_type": "stream",
     "text": [
      "(20, 11)\n",
      "(20, 11)\n",
      "(20, 11)\n",
      "(20, 11)\n",
      "(20, 11)\n",
      "(20, 11)\n",
      "(20, 11)\n",
      "(20, 11)\n"
     ]
    },
    {
     "name": "stderr",
     "output_type": "stream",
     "text": [
      "Saving vectors to label -'8':  92%|█████████▏| 24/26 [00:00<00:00, 32.39it/s]"
     ]
    },
    {
     "name": "stdout",
     "output_type": "stream",
     "text": [
      "(20, 11)\n",
      "(20, 11)\n",
      "(20, 11)\n",
      "(20, 11)\n",
      "(20, 11)\n",
      "(20, 11)\n",
      "(20, 11)\n",
      "(20, 11)\n"
     ]
    },
    {
     "name": "stderr",
     "output_type": "stream",
     "text": [
      "Saving vectors to label -'8': 100%|██████████| 26/26 [00:00<00:00, 36.31it/s]\n",
      "Saving vectors to label -'9':  12%|█▏        | 3/26 [00:00<00:00, 29.27it/s]"
     ]
    },
    {
     "name": "stdout",
     "output_type": "stream",
     "text": [
      "(20, 11)\n",
      "(20, 11)\n",
      "(20, 11)\n",
      "(20, 11)\n",
      "(20, 11)\n",
      "(20, 11)\n",
      "(20, 11)\n"
     ]
    },
    {
     "name": "stderr",
     "output_type": "stream",
     "text": [
      "Saving vectors to label -'9':  54%|█████▍    | 14/26 [00:00<00:00, 35.75it/s]"
     ]
    },
    {
     "name": "stdout",
     "output_type": "stream",
     "text": [
      "(20, 11)\n",
      "(20, 11)\n",
      "(20, 11)\n",
      "(20, 11)\n",
      "(20, 11)\n",
      "(20, 11)\n",
      "(20, 11)\n",
      "(20, 11)\n",
      "(20, 11)\n",
      "(20, 11)\n",
      "(20, 11)\n"
     ]
    },
    {
     "name": "stderr",
     "output_type": "stream",
     "text": [
      "Saving vectors to label -'9': 100%|██████████| 26/26 [00:00<00:00, 42.93it/s]"
     ]
    },
    {
     "name": "stdout",
     "output_type": "stream",
     "text": [
      "(20, 11)\n",
      "(20, 11)\n",
      "(20, 11)\n",
      "(20, 11)\n",
      "(20, 11)\n",
      "(20, 11)\n",
      "(20, 11)\n",
      "(20, 11)\n",
      "(20, 11)\n",
      "(20, 11)\n"
     ]
    },
    {
     "name": "stderr",
     "output_type": "stream",
     "text": [
      "\n"
     ]
    }
   ],
   "source": [
    "#save_data_to_array()"
   ]
  },
  {
   "cell_type": "code",
   "execution_count": 6,
   "metadata": {
    "scrolled": true
   },
   "outputs": [],
   "source": [
    "X_train, X_test, y_train, y_test=get_train_test()\n",
    "X_train=X_train.reshape(X_train.shape[0],20,11,1)\n",
    "X_test=X_test.reshape(X_test.shape[0],20,11,1)\n",
    "y_train_hot=to_categorical(y_train)\n",
    "y_test_hot=to_categorical(y_test)"
   ]
  },
  {
   "cell_type": "code",
   "execution_count": 13,
   "metadata": {},
   "outputs": [],
   "source": [
    "seed=0"
   ]
  },
  {
   "cell_type": "code",
   "execution_count": 14,
   "metadata": {
    "scrolled": true
   },
   "outputs": [
    {
     "name": "stdout",
     "output_type": "stream",
     "text": [
      "Epoch 1/1\n",
      "208/208 [==============================] - 3s 14ms/step - loss: 3.2605 - acc: 0.0962\n",
      "Epoch 1/2\n",
      "208/208 [==============================] - 2s 9ms/step - loss: 3.2605 - acc: 0.0962\n",
      "Epoch 2/2\n",
      "208/208 [==============================] - 0s 619us/step - loss: 2.3406 - acc: 0.3029\n",
      "Epoch 1/3\n",
      "208/208 [==============================] - 2s 9ms/step - loss: 3.2605 - acc: 0.0962\n",
      "Epoch 2/3\n",
      "208/208 [==============================] - 0s 541us/step - loss: 2.3406 - acc: 0.3029\n",
      "Epoch 3/3\n",
      "208/208 [==============================] - 0s 523us/step - loss: 1.7144 - acc: 0.3942\n",
      "Epoch 1/4\n",
      "208/208 [==============================] - 2s 9ms/step - loss: 3.2605 - acc: 0.0962\n",
      "Epoch 2/4\n",
      "208/208 [==============================] - 0s 563us/step - loss: 2.3406 - acc: 0.3029\n",
      "Epoch 3/4\n",
      "208/208 [==============================] - 0s 593us/step - loss: 1.7144 - acc: 0.3942\n",
      "Epoch 4/4\n",
      "208/208 [==============================] - 0s 539us/step - loss: 1.5453 - acc: 0.4279\n",
      "Epoch 1/5\n",
      "208/208 [==============================] - 2s 9ms/step - loss: 3.2605 - acc: 0.0962\n",
      "Epoch 2/5\n",
      "208/208 [==============================] - 0s 513us/step - loss: 2.3406 - acc: 0.3029\n",
      "Epoch 3/5\n",
      "208/208 [==============================] - 0s 523us/step - loss: 1.7144 - acc: 0.3942\n",
      "Epoch 4/5\n",
      "208/208 [==============================] - 0s 573us/step - loss: 1.5453 - acc: 0.4279\n",
      "Epoch 5/5\n",
      "208/208 [==============================] - 0s 546us/step - loss: 1.5589 - acc: 0.5096\n",
      "Epoch 1/6\n",
      "208/208 [==============================] - 2s 10ms/step - loss: 3.2605 - acc: 0.0962\n",
      "Epoch 2/6\n",
      "208/208 [==============================] - 0s 571us/step - loss: 2.3406 - acc: 0.3029\n",
      "Epoch 3/6\n",
      "208/208 [==============================] - 0s 617us/step - loss: 1.7144 - acc: 0.3942\n",
      "Epoch 4/6\n",
      "208/208 [==============================] - 0s 579us/step - loss: 1.5453 - acc: 0.4279\n",
      "Epoch 5/6\n",
      "208/208 [==============================] - 0s 615us/step - loss: 1.5589 - acc: 0.5096\n",
      "Epoch 6/6\n",
      "208/208 [==============================] - 0s 566us/step - loss: 1.1923 - acc: 0.5817\n",
      "Epoch 1/7\n",
      "208/208 [==============================] - 2s 9ms/step - loss: 3.2605 - acc: 0.0962\n",
      "Epoch 2/7\n",
      "208/208 [==============================] - 0s 497us/step - loss: 2.3406 - acc: 0.3029\n",
      "Epoch 3/7\n",
      "208/208 [==============================] - 0s 595us/step - loss: 1.7144 - acc: 0.3942\n",
      "Epoch 4/7\n",
      "208/208 [==============================] - 0s 566us/step - loss: 1.5453 - acc: 0.4279\n",
      "Epoch 5/7\n",
      "208/208 [==============================] - 0s 596us/step - loss: 1.5589 - acc: 0.5096\n",
      "Epoch 6/7\n",
      "208/208 [==============================] - 0s 535us/step - loss: 1.1926 - acc: 0.5769\n",
      "Epoch 7/7\n",
      "208/208 [==============================] - 0s 513us/step - loss: 1.3129 - acc: 0.5577\n",
      "Epoch 1/8\n",
      "208/208 [==============================] - 2s 9ms/step - loss: 3.2605 - acc: 0.0962\n",
      "Epoch 2/8\n",
      "208/208 [==============================] - 0s 492us/step - loss: 2.3406 - acc: 0.3029\n",
      "Epoch 3/8\n",
      "208/208 [==============================] - 0s 573us/step - loss: 1.7144 - acc: 0.3942\n",
      "Epoch 4/8\n",
      "208/208 [==============================] - 0s 486us/step - loss: 1.5453 - acc: 0.4279\n",
      "Epoch 5/8\n",
      "208/208 [==============================] - 0s 500us/step - loss: 1.5589 - acc: 0.5096\n",
      "Epoch 6/8\n",
      "208/208 [==============================] - 0s 503us/step - loss: 1.1923 - acc: 0.5817\n",
      "Epoch 7/8\n",
      "208/208 [==============================] - 0s 531us/step - loss: 1.3101 - acc: 0.5577\n",
      "Epoch 8/8\n",
      "208/208 [==============================] - 0s 473us/step - loss: 0.9788 - acc: 0.6346\n",
      "Epoch 1/9\n",
      "208/208 [==============================] - 2s 10ms/step - loss: 3.2605 - acc: 0.0962\n",
      "Epoch 2/9\n",
      "208/208 [==============================] - 0s 574us/step - loss: 2.3406 - acc: 0.3029\n",
      "Epoch 3/9\n",
      "208/208 [==============================] - 0s 567us/step - loss: 1.7144 - acc: 0.3942\n",
      "Epoch 4/9\n",
      "208/208 [==============================] - 0s 542us/step - loss: 1.5453 - acc: 0.4279\n",
      "Epoch 5/9\n",
      "208/208 [==============================] - 0s 657us/step - loss: 1.5589 - acc: 0.5096\n",
      "Epoch 6/9\n",
      "208/208 [==============================] - 0s 609us/step - loss: 1.1923 - acc: 0.5817\n",
      "Epoch 7/9\n",
      "208/208 [==============================] - 0s 539us/step - loss: 1.3101 - acc: 0.5577\n",
      "Epoch 8/9\n",
      "208/208 [==============================] - 0s 569us/step - loss: 0.9788 - acc: 0.6346\n",
      "Epoch 9/9\n",
      "208/208 [==============================] - 0s 576us/step - loss: 0.9346 - acc: 0.6875\n",
      "Epoch 1/10\n",
      "208/208 [==============================] - 2s 10ms/step - loss: 3.2605 - acc: 0.0962\n",
      "Epoch 2/10\n",
      "208/208 [==============================] - 0s 611us/step - loss: 2.3406 - acc: 0.3029\n",
      "Epoch 3/10\n",
      "208/208 [==============================] - 0s 618us/step - loss: 1.7144 - acc: 0.3942\n",
      "Epoch 4/10\n",
      "208/208 [==============================] - 0s 469us/step - loss: 1.5453 - acc: 0.4279\n",
      "Epoch 5/10\n",
      "208/208 [==============================] - 0s 493us/step - loss: 1.5589 - acc: 0.5096\n",
      "Epoch 6/10\n",
      "208/208 [==============================] - 0s 542us/step - loss: 1.1923 - acc: 0.5817\n",
      "Epoch 7/10\n",
      "208/208 [==============================] - 0s 564us/step - loss: 1.3101 - acc: 0.5577\n",
      "Epoch 8/10\n",
      "208/208 [==============================] - 0s 517us/step - loss: 0.9788 - acc: 0.6346\n",
      "Epoch 9/10\n",
      "208/208 [==============================] - 0s 574us/step - loss: 0.9346 - acc: 0.6875\n",
      "Epoch 10/10\n",
      "208/208 [==============================] - 0s 530us/step - loss: 0.8212 - acc: 0.7692\n",
      "Epoch 1/11\n",
      "208/208 [==============================] - 2s 10ms/step - loss: 3.2605 - acc: 0.0962\n",
      "Epoch 2/11\n",
      "208/208 [==============================] - 0s 501us/step - loss: 2.3406 - acc: 0.3029\n",
      "Epoch 3/11\n",
      "208/208 [==============================] - 0s 542us/step - loss: 1.7144 - acc: 0.3942\n",
      "Epoch 4/11\n",
      "208/208 [==============================] - 0s 546us/step - loss: 1.5453 - acc: 0.4279\n",
      "Epoch 5/11\n",
      "208/208 [==============================] - 0s 552us/step - loss: 1.5589 - acc: 0.5096\n",
      "Epoch 6/11\n",
      "208/208 [==============================] - 0s 511us/step - loss: 1.1923 - acc: 0.5817\n",
      "Epoch 7/11\n",
      "208/208 [==============================] - 0s 546us/step - loss: 1.3101 - acc: 0.5577\n",
      "Epoch 8/11\n",
      "208/208 [==============================] - 0s 528us/step - loss: 0.9788 - acc: 0.6346\n",
      "Epoch 9/11\n",
      "208/208 [==============================] - 0s 541us/step - loss: 0.9346 - acc: 0.6875\n",
      "Epoch 10/11\n",
      "208/208 [==============================] - 0s 496us/step - loss: 0.8187 - acc: 0.7740\n",
      "Epoch 11/11\n",
      "208/208 [==============================] - 0s 509us/step - loss: 0.7353 - acc: 0.7596\n",
      "Epoch 1/12\n",
      "208/208 [==============================] - 2s 10ms/step - loss: 3.2605 - acc: 0.0962\n",
      "Epoch 2/12\n",
      "208/208 [==============================] - 0s 508us/step - loss: 2.3406 - acc: 0.3029\n",
      "Epoch 3/12\n",
      "208/208 [==============================] - 0s 505us/step - loss: 1.7144 - acc: 0.3942\n",
      "Epoch 4/12\n",
      "208/208 [==============================] - 0s 520us/step - loss: 1.5453 - acc: 0.4279\n",
      "Epoch 5/12\n",
      "208/208 [==============================] - 0s 546us/step - loss: 1.5589 - acc: 0.5096\n",
      "Epoch 6/12\n",
      "208/208 [==============================] - 0s 521us/step - loss: 1.1923 - acc: 0.5817\n",
      "Epoch 7/12\n",
      "208/208 [==============================] - 0s 539us/step - loss: 1.3101 - acc: 0.5577\n",
      "Epoch 8/12\n",
      "208/208 [==============================] - 0s 496us/step - loss: 0.9788 - acc: 0.6346\n",
      "Epoch 9/12\n",
      "208/208 [==============================] - 0s 540us/step - loss: 0.9346 - acc: 0.6875\n",
      "Epoch 10/12\n",
      "208/208 [==============================] - 0s 520us/step - loss: 0.8187 - acc: 0.7740\n",
      "Epoch 11/12\n",
      "208/208 [==============================] - 0s 550us/step - loss: 0.7353 - acc: 0.7596\n",
      "Epoch 12/12\n",
      "208/208 [==============================] - 0s 504us/step - loss: 0.7850 - acc: 0.7356\n",
      "Epoch 1/13\n",
      "208/208 [==============================] - 2s 10ms/step - loss: 3.2605 - acc: 0.0962\n",
      "Epoch 2/13\n",
      "208/208 [==============================] - 0s 500us/step - loss: 2.3406 - acc: 0.3029\n",
      "Epoch 3/13\n",
      "208/208 [==============================] - 0s 562us/step - loss: 1.7144 - acc: 0.3942\n",
      "Epoch 4/13\n",
      "208/208 [==============================] - 0s 514us/step - loss: 1.5453 - acc: 0.4279\n",
      "Epoch 5/13\n",
      "208/208 [==============================] - 0s 561us/step - loss: 1.5589 - acc: 0.5096\n",
      "Epoch 6/13\n",
      "208/208 [==============================] - 0s 517us/step - loss: 1.1923 - acc: 0.5817\n",
      "Epoch 7/13\n",
      "208/208 [==============================] - 0s 534us/step - loss: 1.3101 - acc: 0.5577\n",
      "Epoch 8/13\n"
     ]
    },
    {
     "name": "stdout",
     "output_type": "stream",
     "text": [
      "208/208 [==============================] - 0s 521us/step - loss: 0.9788 - acc: 0.6346\n",
      "Epoch 9/13\n",
      "208/208 [==============================] - 0s 534us/step - loss: 0.9346 - acc: 0.6875\n",
      "Epoch 10/13\n",
      "208/208 [==============================] - 0s 467us/step - loss: 0.8187 - acc: 0.7740\n",
      "Epoch 11/13\n",
      "208/208 [==============================] - 0s 485us/step - loss: 0.7353 - acc: 0.7596\n",
      "Epoch 12/13\n",
      "208/208 [==============================] - 0s 482us/step - loss: 0.7850 - acc: 0.7356\n",
      "Epoch 13/13\n",
      "208/208 [==============================] - 0s 470us/step - loss: 0.5560 - acc: 0.7933\n",
      "Epoch 1/14\n",
      "208/208 [==============================] - 2s 10ms/step - loss: 3.2605 - acc: 0.0962\n",
      "Epoch 2/14\n",
      "208/208 [==============================] - 0s 507us/step - loss: 2.3406 - acc: 0.3029\n",
      "Epoch 3/14\n",
      "208/208 [==============================] - 0s 538us/step - loss: 1.7144 - acc: 0.3942\n",
      "Epoch 4/14\n",
      "208/208 [==============================] - 0s 481us/step - loss: 1.5453 - acc: 0.4279\n",
      "Epoch 5/14\n",
      "208/208 [==============================] - 0s 506us/step - loss: 1.5589 - acc: 0.5096\n",
      "Epoch 6/14\n",
      "208/208 [==============================] - 0s 509us/step - loss: 1.1923 - acc: 0.5817\n",
      "Epoch 7/14\n",
      "208/208 [==============================] - 0s 517us/step - loss: 1.3101 - acc: 0.5577\n",
      "Epoch 8/14\n",
      "208/208 [==============================] - 0s 488us/step - loss: 0.9788 - acc: 0.6346\n",
      "Epoch 9/14\n",
      "208/208 [==============================] - 0s 517us/step - loss: 0.9346 - acc: 0.6875\n",
      "Epoch 10/14\n",
      "208/208 [==============================] - 0s 485us/step - loss: 0.8187 - acc: 0.7740\n",
      "Epoch 11/14\n",
      "208/208 [==============================] - 0s 488us/step - loss: 0.7353 - acc: 0.7596\n",
      "Epoch 12/14\n",
      "208/208 [==============================] - 0s 472us/step - loss: 0.7850 - acc: 0.7356\n",
      "Epoch 13/14\n",
      "208/208 [==============================] - 0s 474us/step - loss: 0.5560 - acc: 0.7933\n",
      "Epoch 14/14\n",
      "208/208 [==============================] - 0s 502us/step - loss: 0.5528 - acc: 0.8269\n",
      "Epoch 1/15\n",
      "208/208 [==============================] - 2s 11ms/step - loss: 3.2605 - acc: 0.0962\n",
      "Epoch 2/15\n",
      "208/208 [==============================] - 0s 494us/step - loss: 2.3406 - acc: 0.3029\n",
      "Epoch 3/15\n",
      "208/208 [==============================] - 0s 493us/step - loss: 1.7144 - acc: 0.3942\n",
      "Epoch 4/15\n",
      "208/208 [==============================] - 0s 476us/step - loss: 1.5453 - acc: 0.4279\n",
      "Epoch 5/15\n",
      "208/208 [==============================] - 0s 503us/step - loss: 1.5589 - acc: 0.5096\n",
      "Epoch 6/15\n",
      "208/208 [==============================] - 0s 476us/step - loss: 1.1923 - acc: 0.5817\n",
      "Epoch 7/15\n",
      "208/208 [==============================] - 0s 526us/step - loss: 1.3101 - acc: 0.5577\n",
      "Epoch 8/15\n",
      "208/208 [==============================] - 0s 479us/step - loss: 0.9788 - acc: 0.6346\n",
      "Epoch 9/15\n",
      "208/208 [==============================] - 0s 519us/step - loss: 0.9346 - acc: 0.6875\n",
      "Epoch 10/15\n",
      "208/208 [==============================] - 0s 478us/step - loss: 0.8187 - acc: 0.7740\n",
      "Epoch 11/15\n",
      "208/208 [==============================] - 0s 479us/step - loss: 0.7353 - acc: 0.7596\n",
      "Epoch 12/15\n",
      "208/208 [==============================] - 0s 493us/step - loss: 0.7850 - acc: 0.7356\n",
      "Epoch 13/15\n",
      "208/208 [==============================] - 0s 483us/step - loss: 0.5560 - acc: 0.7933\n",
      "Epoch 14/15\n",
      "208/208 [==============================] - 0s 538us/step - loss: 0.5528 - acc: 0.8269\n",
      "Epoch 15/15\n",
      "208/208 [==============================] - 0s 520us/step - loss: 0.5593 - acc: 0.7885\n",
      "Epoch 1/16\n",
      "208/208 [==============================] - 2s 11ms/step - loss: 3.2605 - acc: 0.0962\n",
      "Epoch 2/16\n",
      "208/208 [==============================] - 0s 506us/step - loss: 2.3406 - acc: 0.3029\n",
      "Epoch 3/16\n",
      "208/208 [==============================] - 0s 514us/step - loss: 1.7144 - acc: 0.3942\n",
      "Epoch 4/16\n",
      "208/208 [==============================] - 0s 510us/step - loss: 1.5453 - acc: 0.4279\n",
      "Epoch 5/16\n",
      "208/208 [==============================] - 0s 525us/step - loss: 1.5589 - acc: 0.5096\n",
      "Epoch 6/16\n",
      "208/208 [==============================] - 0s 495us/step - loss: 1.1923 - acc: 0.5817\n",
      "Epoch 7/16\n",
      "208/208 [==============================] - 0s 503us/step - loss: 1.3101 - acc: 0.5577\n",
      "Epoch 8/16\n",
      "208/208 [==============================] - 0s 493us/step - loss: 0.9788 - acc: 0.6346\n",
      "Epoch 9/16\n",
      "208/208 [==============================] - 0s 522us/step - loss: 0.9346 - acc: 0.6875\n",
      "Epoch 10/16\n",
      "208/208 [==============================] - 0s 500us/step - loss: 0.8187 - acc: 0.7740\n",
      "Epoch 11/16\n",
      "208/208 [==============================] - 0s 512us/step - loss: 0.7353 - acc: 0.7596\n",
      "Epoch 12/16\n",
      "208/208 [==============================] - 0s 476us/step - loss: 0.7850 - acc: 0.7356\n",
      "Epoch 13/16\n",
      "208/208 [==============================] - 0s 494us/step - loss: 0.5560 - acc: 0.7933\n",
      "Epoch 14/16\n",
      "208/208 [==============================] - 0s 476us/step - loss: 0.5528 - acc: 0.8269\n",
      "Epoch 15/16\n",
      "208/208 [==============================] - 0s 488us/step - loss: 0.5593 - acc: 0.7885\n",
      "Epoch 16/16\n",
      "208/208 [==============================] - 0s 477us/step - loss: 0.5367 - acc: 0.8029\n",
      "Epoch 1/17\n",
      "208/208 [==============================] - 2s 11ms/step - loss: 3.2605 - acc: 0.0962\n",
      "Epoch 2/17\n",
      "208/208 [==============================] - 0s 490us/step - loss: 2.3406 - acc: 0.3029\n",
      "Epoch 3/17\n",
      "208/208 [==============================] - 0s 487us/step - loss: 1.7144 - acc: 0.3942\n",
      "Epoch 4/17\n",
      "208/208 [==============================] - 0s 500us/step - loss: 1.5453 - acc: 0.4279\n",
      "Epoch 5/17\n",
      "208/208 [==============================] - 0s 515us/step - loss: 1.5589 - acc: 0.5096\n",
      "Epoch 6/17\n",
      "208/208 [==============================] - 0s 480us/step - loss: 1.1923 - acc: 0.5817\n",
      "Epoch 7/17\n",
      "208/208 [==============================] - 0s 487us/step - loss: 1.3101 - acc: 0.5577\n",
      "Epoch 8/17\n",
      "208/208 [==============================] - 0s 466us/step - loss: 0.9788 - acc: 0.6346\n",
      "Epoch 9/17\n",
      "208/208 [==============================] - 0s 505us/step - loss: 0.9346 - acc: 0.6875\n",
      "Epoch 10/17\n",
      "208/208 [==============================] - 0s 532us/step - loss: 0.8187 - acc: 0.7740\n",
      "Epoch 11/17\n",
      "208/208 [==============================] - 0s 503us/step - loss: 0.7353 - acc: 0.7596\n",
      "Epoch 12/17\n",
      "208/208 [==============================] - 0s 509us/step - loss: 0.7850 - acc: 0.7356\n",
      "Epoch 13/17\n",
      "208/208 [==============================] - 0s 505us/step - loss: 0.5560 - acc: 0.7933\n",
      "Epoch 14/17\n",
      "208/208 [==============================] - 0s 527us/step - loss: 0.5528 - acc: 0.8269\n",
      "Epoch 15/17\n",
      "208/208 [==============================] - 0s 516us/step - loss: 0.5593 - acc: 0.7885\n",
      "Epoch 16/17\n",
      "208/208 [==============================] - 0s 543us/step - loss: 0.5367 - acc: 0.8029\n",
      "Epoch 17/17\n",
      "208/208 [==============================] - 0s 534us/step - loss: 0.5675 - acc: 0.7885\n",
      "Epoch 1/18\n",
      "208/208 [==============================] - 2s 11ms/step - loss: 3.2605 - acc: 0.0962\n",
      "Epoch 2/18\n",
      "208/208 [==============================] - 0s 469us/step - loss: 2.3406 - acc: 0.3029\n",
      "Epoch 3/18\n",
      "208/208 [==============================] - 0s 476us/step - loss: 1.7144 - acc: 0.3942\n",
      "Epoch 4/18\n",
      "208/208 [==============================] - 0s 467us/step - loss: 1.5453 - acc: 0.4279\n",
      "Epoch 5/18\n",
      "208/208 [==============================] - 0s 470us/step - loss: 1.5589 - acc: 0.5096\n",
      "Epoch 6/18\n",
      "208/208 [==============================] - 0s 492us/step - loss: 1.1923 - acc: 0.5817\n",
      "Epoch 7/18\n",
      "208/208 [==============================] - 0s 499us/step - loss: 1.3219 - acc: 0.5481\n",
      "Epoch 8/18\n",
      "208/208 [==============================] - 0s 495us/step - loss: 0.9722 - acc: 0.6442\n",
      "Epoch 9/18\n",
      "208/208 [==============================] - 0s 504us/step - loss: 0.9624 - acc: 0.6779\n",
      "Epoch 10/18\n",
      "208/208 [==============================] - 0s 522us/step - loss: 0.8374 - acc: 0.7500\n",
      "Epoch 11/18\n",
      "208/208 [==============================] - 0s 592us/step - loss: 0.7549 - acc: 0.7500\n",
      "Epoch 12/18\n",
      "208/208 [==============================] - 0s 607us/step - loss: 0.7804 - acc: 0.7308\n",
      "Epoch 13/18\n",
      "208/208 [==============================] - 0s 560us/step - loss: 0.5599 - acc: 0.8125\n",
      "Epoch 14/18\n",
      "208/208 [==============================] - 0s 565us/step - loss: 0.5661 - acc: 0.8317\n",
      "Epoch 15/18\n",
      "208/208 [==============================] - 0s 570us/step - loss: 0.5660 - acc: 0.7981\n",
      "Epoch 16/18\n",
      "208/208 [==============================] - 0s 548us/step - loss: 0.5392 - acc: 0.8221\n",
      "Epoch 17/18\n"
     ]
    },
    {
     "name": "stdout",
     "output_type": "stream",
     "text": [
      "208/208 [==============================] - 0s 646us/step - loss: 0.5663 - acc: 0.7981\n",
      "Epoch 18/18\n",
      "208/208 [==============================] - 0s 530us/step - loss: 0.4799 - acc: 0.8413\n",
      "Epoch 1/19\n",
      "208/208 [==============================] - 2s 12ms/step - loss: 3.2605 - acc: 0.0962\n",
      "Epoch 2/19\n",
      "208/208 [==============================] - 0s 486us/step - loss: 2.3406 - acc: 0.3029\n",
      "Epoch 3/19\n",
      "208/208 [==============================] - 0s 508us/step - loss: 1.7144 - acc: 0.3942\n",
      "Epoch 4/19\n",
      "208/208 [==============================] - 0s 535us/step - loss: 1.5453 - acc: 0.4279\n",
      "Epoch 5/19\n",
      "208/208 [==============================] - 0s 532us/step - loss: 1.5569 - acc: 0.5096\n",
      "Epoch 6/19\n",
      "208/208 [==============================] - 0s 556us/step - loss: 1.1925 - acc: 0.5721\n",
      "Epoch 7/19\n",
      "208/208 [==============================] - 0s 569us/step - loss: 1.2983 - acc: 0.5625\n",
      "Epoch 8/19\n",
      "208/208 [==============================] - 0s 566us/step - loss: 1.0205 - acc: 0.6346\n",
      "Epoch 9/19\n",
      "208/208 [==============================] - 0s 555us/step - loss: 0.9352 - acc: 0.6875\n",
      "Epoch 10/19\n",
      "208/208 [==============================] - 0s 573us/step - loss: 0.7720 - acc: 0.7788\n",
      "Epoch 11/19\n",
      "208/208 [==============================] - 0s 592us/step - loss: 0.7424 - acc: 0.7596\n",
      "Epoch 12/19\n",
      "208/208 [==============================] - 0s 492us/step - loss: 0.7824 - acc: 0.7163\n",
      "Epoch 13/19\n",
      "208/208 [==============================] - 0s 508us/step - loss: 0.5827 - acc: 0.8125\n",
      "Epoch 14/19\n",
      "208/208 [==============================] - 0s 462us/step - loss: 0.5558 - acc: 0.8269\n",
      "Epoch 15/19\n",
      "208/208 [==============================] - 0s 584us/step - loss: 0.5453 - acc: 0.8029\n",
      "Epoch 16/19\n",
      "208/208 [==============================] - 0s 489us/step - loss: 0.5359 - acc: 0.8077\n",
      "Epoch 17/19\n",
      "208/208 [==============================] - 0s 522us/step - loss: 0.6012 - acc: 0.7837\n",
      "Epoch 18/19\n",
      "208/208 [==============================] - 0s 491us/step - loss: 0.4934 - acc: 0.8269\n",
      "Epoch 19/19\n",
      "208/208 [==============================] - 0s 507us/step - loss: 0.3694 - acc: 0.8846\n",
      "Epoch 1/20\n",
      "208/208 [==============================] - 3s 12ms/step - loss: 3.2605 - acc: 0.0962\n",
      "Epoch 2/20\n",
      "208/208 [==============================] - 0s 601us/step - loss: 2.3406 - acc: 0.3029\n",
      "Epoch 3/20\n",
      "208/208 [==============================] - 0s 593us/step - loss: 1.7144 - acc: 0.3942\n",
      "Epoch 4/20\n",
      "208/208 [==============================] - 0s 481us/step - loss: 1.5453 - acc: 0.4279\n",
      "Epoch 5/20\n",
      "208/208 [==============================] - 0s 502us/step - loss: 1.5589 - acc: 0.5096\n",
      "Epoch 6/20\n",
      "208/208 [==============================] - 0s 456us/step - loss: 1.1923 - acc: 0.5817\n",
      "Epoch 7/20\n",
      "208/208 [==============================] - 0s 511us/step - loss: 1.3101 - acc: 0.5577\n",
      "Epoch 8/20\n",
      "208/208 [==============================] - 0s 528us/step - loss: 0.9788 - acc: 0.6346\n",
      "Epoch 9/20\n",
      "208/208 [==============================] - 0s 521us/step - loss: 0.9350 - acc: 0.6827\n",
      "Epoch 10/20\n",
      "208/208 [==============================] - 0s 432us/step - loss: 0.8181 - acc: 0.7692\n",
      "Epoch 11/20\n",
      "208/208 [==============================] - 0s 495us/step - loss: 0.7389 - acc: 0.7500\n",
      "Epoch 12/20\n",
      "208/208 [==============================] - 0s 487us/step - loss: 0.7782 - acc: 0.7260\n",
      "Epoch 13/20\n",
      "208/208 [==============================] - 0s 503us/step - loss: 0.5528 - acc: 0.8029\n",
      "Epoch 14/20\n",
      "208/208 [==============================] - 0s 521us/step - loss: 0.5491 - acc: 0.8317\n",
      "Epoch 15/20\n",
      "208/208 [==============================] - 0s 550us/step - loss: 0.5703 - acc: 0.7837\n",
      "Epoch 16/20\n",
      "208/208 [==============================] - 0s 505us/step - loss: 0.5296 - acc: 0.8029\n",
      "Epoch 17/20\n",
      "208/208 [==============================] - 0s 569us/step - loss: 0.5629 - acc: 0.7885\n",
      "Epoch 18/20\n",
      "208/208 [==============================] - 0s 666us/step - loss: 0.4787 - acc: 0.8269\n",
      "Epoch 19/20\n",
      "208/208 [==============================] - 0s 548us/step - loss: 0.3702 - acc: 0.8702\n",
      "Epoch 20/20\n",
      "208/208 [==============================] - 0s 530us/step - loss: 0.4154 - acc: 0.8654\n",
      "Epoch 1/21\n",
      "208/208 [==============================] - 3s 13ms/step - loss: 3.2605 - acc: 0.0962\n",
      "Epoch 2/21\n",
      "208/208 [==============================] - 0s 560us/step - loss: 2.3406 - acc: 0.3029\n",
      "Epoch 3/21\n",
      "208/208 [==============================] - 0s 574us/step - loss: 1.7144 - acc: 0.3942\n",
      "Epoch 4/21\n",
      "208/208 [==============================] - 0s 534us/step - loss: 1.5512 - acc: 0.4231\n",
      "Epoch 5/21\n",
      "208/208 [==============================] - 0s 563us/step - loss: 1.5958 - acc: 0.5000\n",
      "Epoch 6/21\n",
      "208/208 [==============================] - 0s 492us/step - loss: 1.1980 - acc: 0.5769\n",
      "Epoch 7/21\n",
      "208/208 [==============================] - 0s 597us/step - loss: 1.3101 - acc: 0.5240\n",
      "Epoch 8/21\n",
      "208/208 [==============================] - 0s 573us/step - loss: 1.0515 - acc: 0.6202\n",
      "Epoch 9/21\n",
      "208/208 [==============================] - 0s 559us/step - loss: 0.9023 - acc: 0.7019\n",
      "Epoch 10/21\n",
      "208/208 [==============================] - 0s 491us/step - loss: 0.7184 - acc: 0.7644\n",
      "Epoch 11/21\n",
      "208/208 [==============================] - 0s 591us/step - loss: 0.7579 - acc: 0.7596\n",
      "Epoch 12/21\n",
      "208/208 [==============================] - 0s 516us/step - loss: 0.7355 - acc: 0.7356\n",
      "Epoch 13/21\n",
      "208/208 [==============================] - 0s 564us/step - loss: 0.5920 - acc: 0.8125\n",
      "Epoch 14/21\n",
      "208/208 [==============================] - 0s 613us/step - loss: 0.5404 - acc: 0.8221\n",
      "Epoch 15/21\n",
      "208/208 [==============================] - 0s 655us/step - loss: 0.5817 - acc: 0.7788\n",
      "Epoch 16/21\n",
      "208/208 [==============================] - 0s 554us/step - loss: 0.5526 - acc: 0.8269\n",
      "Epoch 17/21\n",
      "208/208 [==============================] - 0s 552us/step - loss: 0.5724 - acc: 0.7885\n",
      "Epoch 18/21\n",
      "208/208 [==============================] - 0s 568us/step - loss: 0.4656 - acc: 0.8462\n",
      "Epoch 19/21\n",
      "208/208 [==============================] - 0s 614us/step - loss: 0.3726 - acc: 0.8798\n",
      "Epoch 20/21\n",
      "208/208 [==============================] - 0s 653us/step - loss: 0.4033 - acc: 0.8798\n",
      "Epoch 21/21\n",
      "208/208 [==============================] - 0s 548us/step - loss: 0.3789 - acc: 0.8894\n",
      "Epoch 1/22\n",
      "208/208 [==============================] - 3s 13ms/step - loss: 3.2605 - acc: 0.0962\n",
      "Epoch 2/22\n",
      "208/208 [==============================] - 0s 525us/step - loss: 2.3406 - acc: 0.3029\n",
      "Epoch 3/22\n",
      "208/208 [==============================] - 0s 577us/step - loss: 1.7144 - acc: 0.3942\n",
      "Epoch 4/22\n",
      "208/208 [==============================] - 0s 518us/step - loss: 1.5453 - acc: 0.4279\n",
      "Epoch 5/22\n",
      "208/208 [==============================] - 0s 571us/step - loss: 1.5589 - acc: 0.5096\n",
      "Epoch 6/22\n",
      "208/208 [==============================] - 0s 560us/step - loss: 1.1923 - acc: 0.5817\n",
      "Epoch 7/22\n",
      "208/208 [==============================] - 0s 565us/step - loss: 1.3101 - acc: 0.5577\n",
      "Epoch 8/22\n",
      "208/208 [==============================] - 0s 553us/step - loss: 0.9788 - acc: 0.6346\n",
      "Epoch 9/22\n",
      "208/208 [==============================] - 0s 594us/step - loss: 0.9346 - acc: 0.6875\n",
      "Epoch 10/22\n",
      "208/208 [==============================] - 0s 532us/step - loss: 0.8187 - acc: 0.7740\n",
      "Epoch 11/22\n",
      "208/208 [==============================] - 0s 525us/step - loss: 0.7353 - acc: 0.7596\n",
      "Epoch 12/22\n",
      "208/208 [==============================] - 0s 526us/step - loss: 0.7850 - acc: 0.7356\n",
      "Epoch 13/22\n",
      "208/208 [==============================] - 0s 640us/step - loss: 0.5560 - acc: 0.7933\n",
      "Epoch 14/22\n",
      "208/208 [==============================] - 0s 488us/step - loss: 0.5528 - acc: 0.8269\n",
      "Epoch 15/22\n",
      "208/208 [==============================] - 0s 523us/step - loss: 0.5593 - acc: 0.7885\n",
      "Epoch 16/22\n",
      "208/208 [==============================] - 0s 566us/step - loss: 0.5367 - acc: 0.8029\n",
      "Epoch 17/22\n",
      "208/208 [==============================] - 0s 596us/step - loss: 0.5666 - acc: 0.7885\n",
      "Epoch 18/22\n",
      "208/208 [==============================] - 0s 513us/step - loss: 0.4906 - acc: 0.8317\n",
      "Epoch 19/22\n",
      "208/208 [==============================] - 0s 561us/step - loss: 0.3663 - acc: 0.8846\n",
      "Epoch 20/22\n",
      "208/208 [==============================] - 0s 570us/step - loss: 0.4194 - acc: 0.8558\n",
      "Epoch 21/22\n",
      "208/208 [==============================] - 0s 569us/step - loss: 0.3789 - acc: 0.8846\n",
      "Epoch 22/22\n",
      "208/208 [==============================] - 0s 531us/step - loss: 0.3481 - acc: 0.8846\n",
      "Epoch 1/23\n"
     ]
    },
    {
     "name": "stdout",
     "output_type": "stream",
     "text": [
      "208/208 [==============================] - 3s 13ms/step - loss: 3.2605 - acc: 0.0962\n",
      "Epoch 2/23\n",
      "208/208 [==============================] - 0s 482us/step - loss: 2.3406 - acc: 0.3029\n",
      "Epoch 3/23\n",
      "208/208 [==============================] - 0s 493us/step - loss: 1.7144 - acc: 0.3942\n",
      "Epoch 4/23\n",
      "208/208 [==============================] - 0s 494us/step - loss: 1.5453 - acc: 0.4279\n",
      "Epoch 5/23\n",
      "208/208 [==============================] - 0s 495us/step - loss: 1.5589 - acc: 0.5096\n",
      "Epoch 6/23\n",
      "208/208 [==============================] - 0s 479us/step - loss: 1.1923 - acc: 0.5817\n",
      "Epoch 7/23\n",
      "208/208 [==============================] - 0s 495us/step - loss: 1.3101 - acc: 0.5577\n",
      "Epoch 8/23\n",
      "208/208 [==============================] - 0s 468us/step - loss: 0.9788 - acc: 0.6346\n",
      "Epoch 9/23\n",
      "208/208 [==============================] - 0s 501us/step - loss: 0.9346 - acc: 0.6875\n",
      "Epoch 10/23\n",
      "208/208 [==============================] - 0s 542us/step - loss: 0.8187 - acc: 0.7740\n",
      "Epoch 11/23\n",
      "208/208 [==============================] - 0s 523us/step - loss: 0.7353 - acc: 0.7596\n",
      "Epoch 12/23\n",
      "208/208 [==============================] - 0s 470us/step - loss: 0.7850 - acc: 0.7356\n",
      "Epoch 13/23\n",
      "208/208 [==============================] - 0s 445us/step - loss: 0.5560 - acc: 0.7933\n",
      "Epoch 14/23\n",
      "208/208 [==============================] - 0s 499us/step - loss: 0.5528 - acc: 0.8269\n",
      "Epoch 15/23\n",
      "208/208 [==============================] - 0s 490us/step - loss: 0.5593 - acc: 0.7885\n",
      "Epoch 16/23\n",
      "208/208 [==============================] - 0s 501us/step - loss: 0.5367 - acc: 0.8029\n",
      "Epoch 17/23\n",
      "208/208 [==============================] - 0s 510us/step - loss: 0.5675 - acc: 0.7885\n",
      "Epoch 18/23\n",
      "208/208 [==============================] - 0s 561us/step - loss: 0.4930 - acc: 0.8221\n",
      "Epoch 19/23\n",
      "208/208 [==============================] - 0s 611us/step - loss: 0.3706 - acc: 0.8798\n",
      "Epoch 20/23\n",
      "208/208 [==============================] - 0s 619us/step - loss: 0.4193 - acc: 0.8654\n",
      "Epoch 21/23\n",
      "208/208 [==============================] - 0s 628us/step - loss: 0.3843 - acc: 0.8798\n",
      "Epoch 22/23\n",
      "208/208 [==============================] - 0s 572us/step - loss: 0.3499 - acc: 0.8846\n",
      "Epoch 23/23\n",
      "208/208 [==============================] - 0s 547us/step - loss: 0.3756 - acc: 0.8846\n",
      "Epoch 1/24\n",
      "208/208 [==============================] - 3s 12ms/step - loss: 3.2605 - acc: 0.0962\n",
      "Epoch 2/24\n",
      "208/208 [==============================] - 0s 477us/step - loss: 2.3406 - acc: 0.3029\n",
      "Epoch 3/24\n",
      "208/208 [==============================] - 0s 472us/step - loss: 1.7144 - acc: 0.3942\n",
      "Epoch 4/24\n",
      "208/208 [==============================] - 0s 481us/step - loss: 1.5512 - acc: 0.4231\n",
      "Epoch 5/24\n",
      "208/208 [==============================] - 0s 483us/step - loss: 1.5958 - acc: 0.5000\n",
      "Epoch 6/24\n",
      "208/208 [==============================] - 0s 471us/step - loss: 1.1980 - acc: 0.5769\n",
      "Epoch 7/24\n",
      "208/208 [==============================] - 0s 490us/step - loss: 1.3101 - acc: 0.5240\n",
      "Epoch 8/24\n",
      "208/208 [==============================] - 0s 493us/step - loss: 1.0515 - acc: 0.6202\n",
      "Epoch 9/24\n",
      "208/208 [==============================] - 0s 514us/step - loss: 0.9023 - acc: 0.7019\n",
      "Epoch 10/24\n",
      "208/208 [==============================] - 0s 512us/step - loss: 0.7184 - acc: 0.7644\n",
      "Epoch 11/24\n",
      "208/208 [==============================] - 0s 526us/step - loss: 0.7579 - acc: 0.7596\n",
      "Epoch 12/24\n",
      "208/208 [==============================] - 0s 500us/step - loss: 0.7355 - acc: 0.7356\n",
      "Epoch 13/24\n",
      "208/208 [==============================] - 0s 489us/step - loss: 0.5920 - acc: 0.8125\n",
      "Epoch 14/24\n",
      "208/208 [==============================] - 0s 502us/step - loss: 0.5404 - acc: 0.8221\n",
      "Epoch 15/24\n",
      "208/208 [==============================] - 0s 510us/step - loss: 0.5817 - acc: 0.7788\n",
      "Epoch 16/24\n",
      "208/208 [==============================] - 0s 522us/step - loss: 0.5518 - acc: 0.8269\n",
      "Epoch 17/24\n",
      "208/208 [==============================] - 0s 499us/step - loss: 0.5702 - acc: 0.7788\n",
      "Epoch 18/24\n",
      "208/208 [==============================] - 0s 498us/step - loss: 0.4647 - acc: 0.8510\n",
      "Epoch 19/24\n",
      "208/208 [==============================] - 0s 478us/step - loss: 0.3719 - acc: 0.8846\n",
      "Epoch 20/24\n",
      "208/208 [==============================] - 0s 503us/step - loss: 0.4145 - acc: 0.8606\n",
      "Epoch 21/24\n",
      "208/208 [==============================] - 0s 522us/step - loss: 0.3972 - acc: 0.8846\n",
      "Epoch 22/24\n",
      "208/208 [==============================] - 0s 524us/step - loss: 0.3548 - acc: 0.9087\n",
      "Epoch 23/24\n",
      "208/208 [==============================] - 0s 492us/step - loss: 0.3687 - acc: 0.8702\n",
      "Epoch 24/24\n",
      "208/208 [==============================] - 0s 519us/step - loss: 0.3205 - acc: 0.9038\n",
      "Epoch 1/25\n",
      "208/208 [==============================] - 3s 13ms/step - loss: 3.2605 - acc: 0.0962\n",
      "Epoch 2/25\n",
      "208/208 [==============================] - 0s 460us/step - loss: 2.3406 - acc: 0.3029\n",
      "Epoch 3/25\n",
      "208/208 [==============================] - 0s 477us/step - loss: 1.7144 - acc: 0.3942\n",
      "Epoch 4/25\n",
      "208/208 [==============================] - 0s 469us/step - loss: 1.5453 - acc: 0.4279\n",
      "Epoch 5/25\n",
      "208/208 [==============================] - 0s 472us/step - loss: 1.5589 - acc: 0.5096\n",
      "Epoch 6/25\n",
      "208/208 [==============================] - 0s 484us/step - loss: 1.1923 - acc: 0.5817\n",
      "Epoch 7/25\n",
      "208/208 [==============================] - 0s 485us/step - loss: 1.3101 - acc: 0.5577\n",
      "Epoch 8/25\n",
      "208/208 [==============================] - 0s 465us/step - loss: 0.9788 - acc: 0.6346\n",
      "Epoch 9/25\n",
      "208/208 [==============================] - 0s 495us/step - loss: 0.9346 - acc: 0.6875\n",
      "Epoch 10/25\n",
      "208/208 [==============================] - 0s 487us/step - loss: 0.8187 - acc: 0.7740\n",
      "Epoch 11/25\n",
      "208/208 [==============================] - 0s 499us/step - loss: 0.7353 - acc: 0.7596\n",
      "Epoch 12/25\n",
      "208/208 [==============================] - 0s 488us/step - loss: 0.7850 - acc: 0.7356\n",
      "Epoch 13/25\n",
      "208/208 [==============================] - 0s 472us/step - loss: 0.5560 - acc: 0.7933\n",
      "Epoch 14/25\n",
      "208/208 [==============================] - 0s 468us/step - loss: 0.5528 - acc: 0.8269\n",
      "Epoch 15/25\n",
      "208/208 [==============================] - 0s 480us/step - loss: 0.5593 - acc: 0.7885\n",
      "Epoch 16/25\n",
      "208/208 [==============================] - 0s 475us/step - loss: 0.5367 - acc: 0.8029\n",
      "Epoch 17/25\n",
      "208/208 [==============================] - 0s 500us/step - loss: 0.5675 - acc: 0.7885\n",
      "Epoch 18/25\n",
      "208/208 [==============================] - 0s 484us/step - loss: 0.4930 - acc: 0.8221\n",
      "Epoch 19/25\n",
      "208/208 [==============================] - 0s 493us/step - loss: 0.3706 - acc: 0.8798\n",
      "Epoch 20/25\n",
      "208/208 [==============================] - 0s 488us/step - loss: 0.4193 - acc: 0.8654\n",
      "Epoch 21/25\n",
      "208/208 [==============================] - 0s 486us/step - loss: 0.3843 - acc: 0.8798\n",
      "Epoch 22/25\n",
      "208/208 [==============================] - 0s 475us/step - loss: 0.3499 - acc: 0.8846\n",
      "Epoch 23/25\n",
      "208/208 [==============================] - 0s 483us/step - loss: 0.3756 - acc: 0.8846\n",
      "Epoch 24/25\n",
      "208/208 [==============================] - 0s 479us/step - loss: 0.3208 - acc: 0.9038\n",
      "Epoch 25/25\n",
      "208/208 [==============================] - 0s 502us/step - loss: 0.3328 - acc: 0.9135\n",
      "Epoch 1/26\n",
      "208/208 [==============================] - 3s 13ms/step - loss: 3.2605 - acc: 0.0962\n",
      "Epoch 2/26\n",
      "208/208 [==============================] - 0s 489us/step - loss: 2.3406 - acc: 0.3029\n",
      "Epoch 3/26\n",
      "208/208 [==============================] - 0s 501us/step - loss: 1.7144 - acc: 0.3942\n",
      "Epoch 4/26\n",
      "208/208 [==============================] - 0s 507us/step - loss: 1.5453 - acc: 0.4279\n",
      "Epoch 5/26\n",
      "208/208 [==============================] - 0s 503us/step - loss: 1.5589 - acc: 0.5096\n",
      "Epoch 6/26\n",
      "208/208 [==============================] - 0s 475us/step - loss: 1.1923 - acc: 0.5817\n",
      "Epoch 7/26\n",
      "208/208 [==============================] - 0s 500us/step - loss: 1.3101 - acc: 0.5577\n",
      "Epoch 8/26\n",
      "208/208 [==============================] - 0s 492us/step - loss: 0.9788 - acc: 0.6346\n",
      "Epoch 9/26\n",
      "208/208 [==============================] - 0s 502us/step - loss: 0.9346 - acc: 0.6875\n",
      "Epoch 10/26\n",
      "208/208 [==============================] - 0s 464us/step - loss: 0.8177 - acc: 0.7740\n",
      "Epoch 11/26\n",
      "208/208 [==============================] - 0s 503us/step - loss: 0.7380 - acc: 0.7548\n",
      "Epoch 12/26\n",
      "208/208 [==============================] - 0s 509us/step - loss: 0.7732 - acc: 0.7404\n",
      "Epoch 13/26\n"
     ]
    },
    {
     "name": "stdout",
     "output_type": "stream",
     "text": [
      "208/208 [==============================] - 0s 474us/step - loss: 0.5579 - acc: 0.7981\n",
      "Epoch 14/26\n",
      "208/208 [==============================] - 0s 481us/step - loss: 0.5594 - acc: 0.8269\n",
      "Epoch 15/26\n",
      "208/208 [==============================] - 0s 477us/step - loss: 0.5528 - acc: 0.7981\n",
      "Epoch 16/26\n",
      "208/208 [==============================] - 0s 473us/step - loss: 0.5260 - acc: 0.7981\n",
      "Epoch 17/26\n",
      "208/208 [==============================] - 0s 515us/step - loss: 0.5576 - acc: 0.8173\n",
      "Epoch 18/26\n",
      "208/208 [==============================] - 0s 473us/step - loss: 0.4820 - acc: 0.8462\n",
      "Epoch 19/26\n",
      "208/208 [==============================] - 0s 466us/step - loss: 0.3791 - acc: 0.8750\n",
      "Epoch 20/26\n",
      "208/208 [==============================] - 0s 483us/step - loss: 0.4181 - acc: 0.8606\n",
      "Epoch 21/26\n",
      "208/208 [==============================] - 0s 509us/step - loss: 0.3854 - acc: 0.8846\n",
      "Epoch 22/26\n",
      "208/208 [==============================] - 0s 506us/step - loss: 0.3630 - acc: 0.8894\n",
      "Epoch 23/26\n",
      "208/208 [==============================] - 0s 511us/step - loss: 0.3821 - acc: 0.8798\n",
      "Epoch 24/26\n",
      "208/208 [==============================] - 0s 502us/step - loss: 0.3258 - acc: 0.8942\n",
      "Epoch 25/26\n",
      "208/208 [==============================] - 0s 483us/step - loss: 0.3337 - acc: 0.9038\n",
      "Epoch 26/26\n",
      "208/208 [==============================] - 0s 491us/step - loss: 0.2649 - acc: 0.9087\n",
      "Epoch 1/27\n",
      "208/208 [==============================] - 3s 14ms/step - loss: 3.2605 - acc: 0.0962\n",
      "Epoch 2/27\n",
      "208/208 [==============================] - 0s 541us/step - loss: 2.3441 - acc: 0.2981\n",
      "Epoch 3/27\n",
      "208/208 [==============================] - 0s 596us/step - loss: 1.7272 - acc: 0.3990\n",
      "Epoch 4/27\n",
      "208/208 [==============================] - 0s 507us/step - loss: 1.5589 - acc: 0.4231\n",
      "Epoch 5/27\n",
      "208/208 [==============================] - 0s 571us/step - loss: 1.5899 - acc: 0.4808\n",
      "Epoch 6/27\n",
      "208/208 [==============================] - 0s 539us/step - loss: 1.2972 - acc: 0.5529\n",
      "Epoch 7/27\n",
      "208/208 [==============================] - 0s 524us/step - loss: 1.2514 - acc: 0.5721\n",
      "Epoch 8/27\n",
      "208/208 [==============================] - 0s 466us/step - loss: 1.0726 - acc: 0.6202\n",
      "Epoch 9/27\n",
      "208/208 [==============================] - 0s 581us/step - loss: 0.9344 - acc: 0.6923\n",
      "Epoch 10/27\n",
      "208/208 [==============================] - 0s 565us/step - loss: 0.7463 - acc: 0.7981\n",
      "Epoch 11/27\n",
      "208/208 [==============================] - 0s 524us/step - loss: 0.7461 - acc: 0.7548\n",
      "Epoch 12/27\n",
      "208/208 [==============================] - 0s 486us/step - loss: 0.7766 - acc: 0.7115\n",
      "Epoch 13/27\n",
      "208/208 [==============================] - 0s 509us/step - loss: 0.6038 - acc: 0.7981\n",
      "Epoch 14/27\n",
      "208/208 [==============================] - 0s 500us/step - loss: 0.5544 - acc: 0.8413\n",
      "Epoch 15/27\n",
      "208/208 [==============================] - 0s 633us/step - loss: 0.5596 - acc: 0.7981\n",
      "Epoch 16/27\n",
      "208/208 [==============================] - 0s 518us/step - loss: 0.5452 - acc: 0.7981\n",
      "Epoch 17/27\n",
      "208/208 [==============================] - 0s 515us/step - loss: 0.5312 - acc: 0.8077\n",
      "Epoch 18/27\n",
      "208/208 [==============================] - 0s 513us/step - loss: 0.5000 - acc: 0.8269\n",
      "Epoch 19/27\n",
      "208/208 [==============================] - 0s 667us/step - loss: 0.3676 - acc: 0.8654\n",
      "Epoch 20/27\n",
      "208/208 [==============================] - 0s 508us/step - loss: 0.4054 - acc: 0.8702\n",
      "Epoch 21/27\n",
      "208/208 [==============================] - 0s 512us/step - loss: 0.3814 - acc: 0.8846\n",
      "Epoch 22/27\n",
      "208/208 [==============================] - 0s 551us/step - loss: 0.3569 - acc: 0.8894\n",
      "Epoch 23/27\n",
      "208/208 [==============================] - 0s 601us/step - loss: 0.3792 - acc: 0.8606\n",
      "Epoch 24/27\n",
      "208/208 [==============================] - 0s 510us/step - loss: 0.3337 - acc: 0.8894\n",
      "Epoch 25/27\n",
      "208/208 [==============================] - 0s 512us/step - loss: 0.3397 - acc: 0.9135\n",
      "Epoch 26/27\n",
      "208/208 [==============================] - 0s 505us/step - loss: 0.2676 - acc: 0.8990\n",
      "Epoch 27/27\n",
      "208/208 [==============================] - 0s 525us/step - loss: 0.3150 - acc: 0.8990\n",
      "Epoch 1/28\n",
      "208/208 [==============================] - 3s 15ms/step - loss: 3.2605 - acc: 0.0962\n",
      "Epoch 2/28\n",
      "208/208 [==============================] - 0s 511us/step - loss: 2.3392 - acc: 0.2981\n",
      "Epoch 3/28\n",
      "208/208 [==============================] - 0s 553us/step - loss: 1.7151 - acc: 0.3894\n",
      "Epoch 4/28\n",
      "208/208 [==============================] - 0s 535us/step - loss: 1.5071 - acc: 0.4712\n",
      "Epoch 5/28\n",
      "208/208 [==============================] - 0s 632us/step - loss: 1.5082 - acc: 0.5144\n",
      "Epoch 6/28\n",
      "208/208 [==============================] - 0s 644us/step - loss: 1.2220 - acc: 0.5721\n",
      "Epoch 7/28\n",
      "208/208 [==============================] - 0s 610us/step - loss: 1.2482 - acc: 0.5577\n",
      "Epoch 8/28\n",
      "208/208 [==============================] - 0s 532us/step - loss: 1.1091 - acc: 0.6010\n",
      "Epoch 9/28\n",
      "208/208 [==============================] - 0s 578us/step - loss: 0.9117 - acc: 0.7115\n",
      "Epoch 10/28\n",
      "208/208 [==============================] - 0s 592us/step - loss: 0.8891 - acc: 0.7067\n",
      "Epoch 11/28\n",
      "208/208 [==============================] - 0s 625us/step - loss: 0.7343 - acc: 0.7740\n",
      "Epoch 12/28\n",
      "208/208 [==============================] - 0s 625us/step - loss: 0.7500 - acc: 0.7356\n",
      "Epoch 13/28\n",
      "208/208 [==============================] - 0s 537us/step - loss: 0.5519 - acc: 0.8029\n",
      "Epoch 14/28\n",
      "208/208 [==============================] - 0s 559us/step - loss: 0.5381 - acc: 0.8317\n",
      "Epoch 15/28\n",
      "208/208 [==============================] - 0s 566us/step - loss: 0.5711 - acc: 0.7837\n",
      "Epoch 16/28\n",
      "208/208 [==============================] - 0s 595us/step - loss: 0.5580 - acc: 0.7885\n",
      "Epoch 17/28\n",
      "208/208 [==============================] - 0s 606us/step - loss: 0.5443 - acc: 0.8029\n",
      "Epoch 18/28\n",
      "208/208 [==============================] - 0s 602us/step - loss: 0.4826 - acc: 0.8317\n",
      "Epoch 19/28\n",
      "208/208 [==============================] - 0s 563us/step - loss: 0.3497 - acc: 0.8942\n",
      "Epoch 20/28\n",
      "208/208 [==============================] - 0s 598us/step - loss: 0.4399 - acc: 0.8462\n",
      "Epoch 21/28\n",
      "208/208 [==============================] - 0s 589us/step - loss: 0.4211 - acc: 0.8702\n",
      "Epoch 22/28\n",
      "208/208 [==============================] - 0s 557us/step - loss: 0.3574 - acc: 0.8798\n",
      "Epoch 23/28\n",
      "208/208 [==============================] - 0s 555us/step - loss: 0.3599 - acc: 0.8654\n",
      "Epoch 24/28\n",
      "208/208 [==============================] - 0s 565us/step - loss: 0.3190 - acc: 0.8846\n",
      "Epoch 25/28\n",
      "208/208 [==============================] - 0s 564us/step - loss: 0.3415 - acc: 0.9038\n",
      "Epoch 26/28\n",
      "208/208 [==============================] - 0s 562us/step - loss: 0.2614 - acc: 0.9183\n",
      "Epoch 27/28\n",
      "208/208 [==============================] - 0s 571us/step - loss: 0.3007 - acc: 0.9038\n",
      "Epoch 28/28\n",
      "208/208 [==============================] - 0s 599us/step - loss: 0.2210 - acc: 0.9279\n",
      "Epoch 1/29\n",
      "208/208 [==============================] - 3s 14ms/step - loss: 3.2605 - acc: 0.0962\n",
      "Epoch 2/29\n",
      "208/208 [==============================] - 0s 484us/step - loss: 2.3406 - acc: 0.3029\n",
      "Epoch 3/29\n",
      "208/208 [==============================] - 0s 519us/step - loss: 1.7144 - acc: 0.3942\n",
      "Epoch 4/29\n",
      "208/208 [==============================] - 0s 534us/step - loss: 1.5453 - acc: 0.4279\n",
      "Epoch 5/29\n",
      "208/208 [==============================] - 0s 571us/step - loss: 1.5589 - acc: 0.5096\n",
      "Epoch 6/29\n",
      "208/208 [==============================] - 0s 525us/step - loss: 1.1923 - acc: 0.5817\n",
      "Epoch 7/29\n",
      "208/208 [==============================] - 0s 580us/step - loss: 1.3101 - acc: 0.5577\n",
      "Epoch 8/29\n",
      "208/208 [==============================] - 0s 516us/step - loss: 0.9788 - acc: 0.6346\n",
      "Epoch 9/29\n",
      "208/208 [==============================] - 0s 560us/step - loss: 0.9346 - acc: 0.6875\n",
      "Epoch 10/29\n",
      "208/208 [==============================] - 0s 520us/step - loss: 0.8187 - acc: 0.7740\n",
      "Epoch 11/29\n",
      "208/208 [==============================] - 0s 545us/step - loss: 0.7353 - acc: 0.7596\n",
      "Epoch 12/29\n",
      "208/208 [==============================] - 0s 509us/step - loss: 0.7850 - acc: 0.7356\n",
      "Epoch 13/29\n",
      "208/208 [==============================] - 0s 580us/step - loss: 0.5554 - acc: 0.7933\n",
      "Epoch 14/29\n",
      "208/208 [==============================] - 0s 512us/step - loss: 0.5521 - acc: 0.8317\n",
      "Epoch 15/29\n",
      "208/208 [==============================] - 0s 574us/step - loss: 0.5600 - acc: 0.7885\n",
      "Epoch 16/29\n"
     ]
    },
    {
     "name": "stdout",
     "output_type": "stream",
     "text": [
      "208/208 [==============================] - 0s 504us/step - loss: 0.5311 - acc: 0.8077\n",
      "Epoch 17/29\n",
      "208/208 [==============================] - 0s 541us/step - loss: 0.5611 - acc: 0.8125\n",
      "Epoch 18/29\n",
      "208/208 [==============================] - 0s 467us/step - loss: 0.4712 - acc: 0.8510\n",
      "Epoch 19/29\n",
      "208/208 [==============================] - 0s 456us/step - loss: 0.3754 - acc: 0.8846\n",
      "Epoch 20/29\n",
      "208/208 [==============================] - 0s 521us/step - loss: 0.4221 - acc: 0.8654\n",
      "Epoch 21/29\n",
      "208/208 [==============================] - 0s 469us/step - loss: 0.3913 - acc: 0.8798\n",
      "Epoch 22/29\n",
      "208/208 [==============================] - 0s 514us/step - loss: 0.3571 - acc: 0.8990\n",
      "Epoch 23/29\n",
      "208/208 [==============================] - 0s 477us/step - loss: 0.4115 - acc: 0.8654\n",
      "Epoch 24/29\n",
      "208/208 [==============================] - 0s 487us/step - loss: 0.3291 - acc: 0.9038\n",
      "Epoch 25/29\n",
      "208/208 [==============================] - 0s 501us/step - loss: 0.3330 - acc: 0.9038\n",
      "Epoch 26/29\n",
      "208/208 [==============================] - 0s 524us/step - loss: 0.2723 - acc: 0.8990\n",
      "Epoch 27/29\n",
      "208/208 [==============================] - 0s 484us/step - loss: 0.3179 - acc: 0.8942\n",
      "Epoch 28/29\n",
      "208/208 [==============================] - 0s 508us/step - loss: 0.2328 - acc: 0.9423\n",
      "Epoch 29/29\n",
      "208/208 [==============================] - 0s 502us/step - loss: 0.1992 - acc: 0.9519\n"
     ]
    }
   ],
   "source": [
    "weights_4=[]\n",
    "weights_6=[]   \n",
    "\n",
    "for step in np.arange(1,30,1):\n",
    "    \n",
    "    np.random.seed(seed)\n",
    "    \n",
    "    model=Sequential()\n",
    "    model.add(Conv2D(64,kernel_size=(2,2),activation='tanh',input_shape=(20,11,1)))\n",
    "    model.add(MaxPooling2D(pool_size=(2,2)))\n",
    "    model.add(Dropout(0.4))\n",
    "    model.add(Flatten())\n",
    "    model.add(Dense(128,activation='relu'))\n",
    "    model.add(Dropout(0.4))\n",
    "    model.add(Dense(10,activation='softmax'))\n",
    "    model.compile(loss=keras.losses.categorical_crossentropy,optimizer=keras.optimizers.Adadelta(),metrics=['accuracy'])\n",
    "    model.fit(X_train,y_train_hot,batch_size=128,epochs=step,verbose=1)\n",
    "        \n",
    "    weights_4=np.append(weights_4,model.layers[4].get_weights()[0])\n",
    "    weights_6=np.append(weights_6,model.layers[6].get_weights()[0])\n",
    "    \n",
    "    if step==1:\n",
    "        diff_4=[]\n",
    "        diff_6=[]\n",
    "    else:\n",
    "        diff4=np.absolute(weights_4[step]-weights_4[step-1])\n",
    "        diff6=np.absolute(weights_6[step]-weights_6[step-1])\n",
    "        \n",
    "        diff_4=np.append(diff_4,diff4)\n",
    "        diff_6=np.append(diff_6,diff6)"
   ]
  },
  {
   "cell_type": "code",
   "execution_count": 15,
   "metadata": {},
   "outputs": [],
   "source": [
    "np.save('Average_Diff_mat_4.npy',diff_4)\n",
    "np.save('Average_Diff_mat_6.npy',diff_6)"
   ]
  },
  {
   "cell_type": "code",
   "execution_count": 16,
   "metadata": {},
   "outputs": [],
   "source": [
    "mat_4=np.load('Average_Diff_mat_4.npy')\n",
    "mat_6=np.load('Average_Diff_mat_6.npy')"
   ]
  },
  {
   "cell_type": "code",
   "execution_count": 17,
   "metadata": {},
   "outputs": [
    {
     "data": {
      "image/png": "[encoded data removed]",
      "text/plain": [
       "<Figure size 432x288 with 1 Axes>"
      ]
     },
     "metadata": {
      "needs_background": "light"
     },
     "output_type": "display_data"
    }
   ],
   "source": [
    "epoch_number=np.arange(2,30,1)\n",
    "plt.xlabel('Epoch Number')\n",
    "plt.ylabel('Difference Value')\n",
    "plt.plot(epoch_number,mat_4)\n",
    "plt.title('Dense_53 layer')\n",
    "plt.savefig('./Graphs/weights_variation_53_less_epoch_seed.svg',format='svg',dpi=1200)"
   ]
  },
  {
   "cell_type": "code",
   "execution_count": 18,
   "metadata": {},
   "outputs": [
    {
     "data": {
      "image/png": "[encoded data removed]",
      "text/plain": [
       "<Figure size 432x288 with 1 Axes>"
      ]
     },
     "metadata": {
      "needs_background": "light"
     },
     "output_type": "display_data"
    }
   ],
   "source": [
    "epoch_number=np.arange(2,30,1)\n",
    "plt.xlabel('Epoch Number')\n",
    "plt.ylabel('Difference Value')\n",
    "plt.plot(epoch_number,mat_6)\n",
    "plt.title('Dense_54 layer')\n",
    "plt.savefig('./Graphs/weights_variation_54_less_epoch_seed.svg',format='svg',dpi=1200)"
   ]
  },
  {
   "cell_type": "code",
   "execution_count": null,
   "metadata": {},
   "outputs": [],
   "source": []
  }
 ],
 "metadata": {
  "kernelspec": {
   "display_name": "Python 3",
   "language": "python",
   "name": "python3"
  },
  "language_info": {
   "codemirror_mode": {
    "name": "ipython",
    "version": 3
   },
   "file_extension": ".py",
   "mimetype": "text/x-python",
   "name": "python",
   "nbconvert_exporter": "python",
   "pygments_lexer": "ipython3",
   "version": "3.6.6"
  }
 },
 "nbformat": 4,
 "nbformat_minor": 2
}
