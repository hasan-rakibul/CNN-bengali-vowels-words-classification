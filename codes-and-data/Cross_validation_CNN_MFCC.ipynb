{
 "cells": [
  {
   "cell_type": "code",
   "execution_count": 2,
   "metadata": {},
   "outputs": [
    {
     "name": "stderr",
     "output_type": "stream",
     "text": [
      "Using TensorFlow backend.\n"
     ]
    }
   ],
   "source": [
    "import librosa\n",
    "import os\n",
    "from sklearn.model_selection import train_test_split\n",
    "from keras.utils import to_categorical\n",
    "import numpy as np\n",
    "from tqdm import tqdm\n",
    "import matplotlib.pyplot as plt\n",
    "import keras\n",
    "from keras.models import Sequential\n",
    "from keras.layers import Dense, Dropout, Flatten, Conv2D, MaxPooling2D\n",
    "from sklearn.model_selection import StratifiedKFold"
   ]
  },
  {
   "cell_type": "code",
   "execution_count": 11,
   "metadata": {},
   "outputs": [],
   "source": [
    "DATA_PATH=\"./Vowel_Data/Vowel/\"\n",
    "\n",
    "def get_labels(path=DATA_PATH):\n",
    "    labels=os.listdir(path)\n",
    "    label_indices=np.arange(0,len(labels))\n",
    "    return labels, label_indices, to_categorical(label_indices)"
   ]
  },
  {
   "cell_type": "code",
   "execution_count": 12,
   "metadata": {},
   "outputs": [],
   "source": [
    "def speech2mfcc(file_path,max_len=13):\n",
    "    wave, sr= librosa.load(file_path, mono=True, sr=None)\n",
    "    wave=wave[::2]\n",
    "    mfcc=librosa.feature.mfcc(wave,sr=sr)\n",
    "    if (max_len > mfcc.shape[1]): #.shape[1], 1-->column\n",
    "        pad_width=max_len-mfcc.shape[1]\n",
    "        mfcc=np.pad(mfcc,pad_width=((0,0),(0,pad_width)),mode='constant')\n",
    "    else:\n",
    "        mfcc=mfcc[:,:max_len]\n",
    "    return mfcc"
   ]
  },
  {
   "cell_type": "code",
   "execution_count": 13,
   "metadata": {},
   "outputs": [],
   "source": [
    "def save_data_to_array(path=DATA_PATH, max_len=13):\n",
    "    labels,_,_=get_labels(path)\n",
    "\n",
    "    for label in labels:\n",
    "        mfcc_vectors=[]\n",
    "\n",
    "        speechfiles=[path + label + '/' + speech for speech in os.listdir(path+'/'+label)]\n",
    "        for speech in tqdm(speechfiles,\"Saving vectors to label -'{}'\".format(label)):\n",
    "            mfcc=speech2mfcc(speech,max_len=max_len)\n",
    "            mfcc_vectors.append(mfcc)\n",
    "            \n",
    "        np.save(label+'.npy',mfcc_vectors)"
   ]
  },
  {
   "cell_type": "code",
   "execution_count": 14,
   "metadata": {
    "scrolled": true
   },
   "outputs": [
    {
     "name": "stderr",
     "output_type": "stream",
     "text": [
      "Saving vectors to label -'vowel1': 100%|██████████| 40/40 [00:04<00:00,  9.63it/s]\n",
      "Saving vectors to label -'vowel2': 100%|██████████| 40/40 [00:04<00:00, 10.07it/s]\n",
      "Saving vectors to label -'vowel3': 100%|██████████| 40/40 [00:03<00:00, 10.13it/s]\n",
      "Saving vectors to label -'vowel4': 100%|██████████| 40/40 [00:04<00:00,  9.59it/s]\n",
      "Saving vectors to label -'vowel5': 100%|██████████| 40/40 [00:03<00:00, 10.15it/s]\n",
      "Saving vectors to label -'vowel6': 100%|██████████| 40/40 [00:03<00:00, 10.63it/s]\n",
      "Saving vectors to label -'vowel7': 100%|██████████| 40/40 [00:03<00:00, 10.11it/s]\n"
     ]
    }
   ],
   "source": [
    "save_data_to_array()"
   ]
  },
  {
   "cell_type": "code",
   "execution_count": 15,
   "metadata": {},
   "outputs": [],
   "source": [
    "seed=0\n",
    "np.random.seed(seed)"
   ]
  },
  {
   "cell_type": "code",
   "execution_count": 16,
   "metadata": {},
   "outputs": [],
   "source": [
    "labels,indices,_=get_labels(DATA_PATH)\n",
    "X=np.load(labels[0]+'.npy')\n",
    "y=np.zeros(X.shape[0])\n",
    "\n",
    "for i,label in enumerate(labels[1:]):\n",
    "    x=np.load(label+'.npy')\n",
    "    X=np.vstack((X,x))\n",
    "    y=np.append(y,np.full(x.shape[0],fill_value=(i+1)))\n",
    "assert X.shape[0] == len(y)\n",
    "\n",
    "X=X.reshape(X.shape[0],20,13,1)"
   ]
  },
  {
   "cell_type": "code",
   "execution_count": 17,
   "metadata": {},
   "outputs": [
    {
     "name": "stdout",
     "output_type": "stream",
     "text": [
      "acc: 95.71%\n",
      "acc: 94.29%\n",
      "acc: 92.86%\n",
      "acc: 92.86%\n",
      "93.93% (+/- 1.18%)\n"
     ]
    }
   ],
   "source": [
    "kfold=StratifiedKFold(n_splits=4,shuffle=True,random_state=seed)\n",
    "cv_score=[]\n",
    "\n",
    "for train,test in kfold.split(X,y):\n",
    "    np.random.seed(seed)\n",
    "    Y=to_categorical(y)\n",
    "    \n",
    "    model=Sequential()\n",
    "    model.add(Conv2D(64,kernel_size=(2,2),activation='tanh',input_shape=(20,13,1)))\n",
    "    model.add(MaxPooling2D(pool_size=(2,2)))\n",
    "    model.add(Dropout(0.4))\n",
    "    model.add(Flatten())\n",
    "    model.add(Dense(128,activation='relu'))\n",
    "    model.add(Dropout(0.4))\n",
    "    model.add(Dense(7,activation='softmax'))\n",
    "    \n",
    "    model.compile(loss=keras.losses.categorical_crossentropy,optimizer=keras.optimizers.Adadelta(),metrics=['accuracy'])\n",
    "    model.fit(X[train],Y[train],epochs=20,batch_size=10,verbose=0)\n",
    "    \n",
    "    scores=model.evaluate(X[test],Y[test],verbose=0)\n",
    "    \n",
    "    print(\"%s: %.2f%%\" % (model.metrics_names[1],scores[1]*100))\n",
    "    \n",
    "    cv_score.append(scores[1]*100)\n",
    "    \n",
    "print(\"%.2f%% (+/- %.2f%%)\" % (np.mean(cv_score),np.std(cv_score)))"
   ]
  },
  {
   "cell_type": "code",
   "execution_count": 121,
   "metadata": {},
   "outputs": [],
   "source": [
    "Word:\n",
    "acc: 90.00%\n",
    "acc: 87.14%\n",
    "acc: 90.00%\n",
    "acc: 92.86%\n",
    "90.00% (+/- 2.02%)"
   ]
  },
  {
   "cell_type": "code",
   "execution_count": null,
   "metadata": {
    "scrolled": true
   },
   "outputs": [],
   "source": [
    "Vowel:\n",
    "acc: 95.71%\n",
    "acc: 94.29%\n",
    "acc: 92.86%\n",
    "acc: 92.86%\n",
    "93.93% (+/- 1.18%)"
   ]
  },
  {
   "cell_type": "code",
   "execution_count": 79,
   "metadata": {},
   "outputs": [],
   "source": [
    "history_dict=history.history\n",
    "final_loss=history_dict['loss'][-1]\n",
    "final_acc=history_dict['acc'][-1]"
   ]
  },
  {
   "cell_type": "code",
   "execution_count": 80,
   "metadata": {},
   "outputs": [
    {
     "data": {
      "text/plain": [
       "0.8714285731315613"
      ]
     },
     "execution_count": 80,
     "metadata": {},
     "output_type": "execute_result"
    }
   ],
   "source": [
    "final_acc"
   ]
  },
  {
   "cell_type": "code",
   "execution_count": 81,
   "metadata": {},
   "outputs": [],
   "source": [
    "np.save('./Result/Training_trial7.npy',[final_loss, final_acc])"
   ]
  },
  {
   "cell_type": "code",
   "execution_count": 20,
   "metadata": {},
   "outputs": [],
   "source": [
    "history_dict=history.history\n",
    "loss_values=history_dict['loss']\n",
    "val_loss_values=history_dict['val_loss']\n",
    "epochs=range(1,len(loss_values)+1)"
   ]
  },
  {
   "cell_type": "code",
   "execution_count": 59,
   "metadata": {
    "scrolled": true
   },
   "outputs": [
    {
     "data": {
      "text/plain": [
       "array([0.17341404, 0.93333334])"
      ]
     },
     "execution_count": 59,
     "metadata": {},
     "output_type": "execute_result"
    }
   ],
   "source": [
    "np.load('./Result/Training_trial5.npy')"
   ]
  },
  {
   "cell_type": "code",
   "execution_count": 12,
   "metadata": {},
   "outputs": [
    {
     "data": {
      "image/png": "[encoded data removed]",
      "text/plain": [
       "<Figure size 720x288 with 1 Axes>"
      ]
     },
     "metadata": {
      "needs_background": "light"
     },
     "output_type": "display_data"
    }
   ],
   "source": [
    "plt.figure(figsize=(10,4))\n",
    "plt.plot(epochs,loss_values,'bo',label='Training loss')\n",
    "plt.plot(epochs,val_loss_values,'b',label='Validation loss')\n",
    "plt.title('Training and validation loss')\n",
    "plt.xticks(epochs)\n",
    "plt.xlabel('Epochs')\n",
    "plt.ylabel('Loss')\n",
    "plt.legend()\n",
    "#plt.show()\n",
    "plt.savefig('loss_20_epochs.svg',format='svg', dpi=1200)"
   ]
  },
  {
   "cell_type": "code",
   "execution_count": 13,
   "metadata": {},
   "outputs": [
    {
     "data": {
      "text/plain": [
       "<Figure size 432x288 with 0 Axes>"
      ]
     },
     "metadata": {},
     "output_type": "display_data"
    }
   ],
   "source": [
    "plt.clf()\n",
    "acc_values=history_dict['acc']\n",
    "val_acc_values=history_dict['val_acc']"
   ]
  },
  {
   "cell_type": "code",
   "execution_count": 14,
   "metadata": {},
   "outputs": [
    {
     "data": {
      "image/png": "[encoded data removed]",
      "text/plain": [
       "<Figure size 720x288 with 1 Axes>"
      ]
     },
     "metadata": {
      "needs_background": "light"
     },
     "output_type": "display_data"
    }
   ],
   "source": [
    "plt.figure(figsize=(10,4))\n",
    "plt.plot(epochs,acc_values,'bo',label='Training acc')\n",
    "plt.plot(epochs,val_acc_values,'b',label='Validation acc')\n",
    "plt.title('Training and validation accuracy')\n",
    "plt.xticks(epochs)\n",
    "plt.xlabel('Epochs')\n",
    "plt.ylabel('Accuracy')\n",
    "plt.legend()\n",
    "#plt.show()\n",
    "plt.savefig('accuracy_20_epochs.svg',format='svg', dpi=1200)"
   ]
  },
  {
   "cell_type": "code",
   "execution_count": 205,
   "metadata": {},
   "outputs": [
    {
     "name": "stdout",
     "output_type": "stream",
     "text": [
      "_________________________________________________________________\n",
      "Layer (type)                 Output Shape              Param #   \n",
      "=================================================================\n",
      "conv2d_27 (Conv2D)           (None, 19, 10, 64)        320       \n",
      "_________________________________________________________________\n",
      "max_pooling2d_27 (MaxPooling (None, 9, 5, 64)          0         \n",
      "_________________________________________________________________\n",
      "dropout_53 (Dropout)         (None, 9, 5, 64)          0         \n",
      "_________________________________________________________________\n",
      "flatten_27 (Flatten)         (None, 2880)              0         \n",
      "_________________________________________________________________\n",
      "dense_53 (Dense)             (None, 128)               368768    \n",
      "_________________________________________________________________\n",
      "dropout_54 (Dropout)         (None, 128)               0         \n",
      "_________________________________________________________________\n",
      "dense_54 (Dense)             (None, 10)                1290      \n",
      "=================================================================\n",
      "Total params: 370,378\n",
      "Trainable params: 370,378\n",
      "Non-trainable params: 0\n",
      "_________________________________________________________________\n"
     ]
    }
   ],
   "source": [
    "model.summary()"
   ]
  }
 ],
 "metadata": {
  "kernelspec": {
   "display_name": "Python 3",
   "language": "python",
   "name": "python3"
  },
  "language_info": {
   "codemirror_mode": {
    "name": "ipython",
    "version": 3
   },
   "file_extension": ".py",
   "mimetype": "text/x-python",
   "name": "python",
   "nbconvert_exporter": "python",
   "pygments_lexer": "ipython3",
   "version": "3.8.3"
  }
 },
 "nbformat": 4,
 "nbformat_minor": 2
}
