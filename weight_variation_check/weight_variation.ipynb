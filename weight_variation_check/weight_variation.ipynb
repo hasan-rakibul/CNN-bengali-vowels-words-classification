{
 "cells": [
  {
   "cell_type": "code",
   "execution_count": 9,
   "metadata": {},
   "outputs": [],
   "source": [
    "import librosa\n",
    "import numpy as np\n",
    "import matplotlib.pyplot as plt\n",
    "import os\n",
    "from code import *\n",
    "import keras\n",
    "from keras.models import Sequential\n",
    "from keras.layers import Dense, Dropout, Flatten, Conv2D, MaxPooling2D\n",
    "from keras.utils import to_categorical\n",
    "from sklearn.model_selection import train_test_split\n",
    "from tqdm import tqdm"
   ]
  },
  {
   "cell_type": "code",
   "execution_count": 10,
   "metadata": {},
   "outputs": [],
   "source": [
    "DATA_PATH=\"./data/\"\n",
    "def get_labels(path=DATA_PATH):\n",
    "\tlabels=os.listdir(path)\n",
    "\tlabel_indices=np.arange(0,len(labels))\n",
    "\treturn labels, label_indices, to_categorical(label_indices)"
   ]
  },
  {
   "cell_type": "code",
   "execution_count": 11,
   "metadata": {},
   "outputs": [],
   "source": [
    "def speech2mfcc(file_path,max_len=11):\n",
    "\twave, sr= librosa.load(file_path, mono=True, sr=None)\n",
    "\twave=wave[::5]\n",
    "\tmfcc=librosa.feature.mfcc(wave,sr=sr)\n",
    "#\tprint(mfcc)\n",
    "\tif (max_len > mfcc.shape[1]): #.shape[1], 1-->column\n",
    "\t\tpad_width=max_len-mfcc.shape[1]\n",
    "\t\tmfcc=np.pad(mfcc,pad_width=((0,0),(0,pad_width)),mode='constant')\n",
    "\n",
    "\telse:\n",
    "\t\tmfcc=mfcc[:,:max_len]\n",
    "#\tprint(mfcc.shape)\n",
    "\treturn mfcc"
   ]
  },
  {
   "cell_type": "code",
   "execution_count": 12,
   "metadata": {},
   "outputs": [],
   "source": [
    "def save_data_to_array(path=DATA_PATH, max_len=11):\n",
    "\tlabels,_,_=get_labels(path)\n",
    "\n",
    "\tfor label in labels:\n",
    "\t\tmfcc_vectors=[]\n",
    "\n",
    "\t\tspeechfiles=[path + label + '/' + speech for speech in os.listdir(path+'/'+label)]\n",
    "\t\tfor speech in tqdm(speechfiles,\"Saving vectors to label -'{}'\".format(label)):\n",
    "\t\t\tmfcc=speech2mfcc(speech,max_len=max_len)\n",
    "\t\t\tprint(mfcc.shape)\n",
    "\t\t\tmfcc_vectors.append(mfcc)\n",
    "#\t\tprint(mfcc_vectors)\n",
    "\t\tnp.save(label+'.npy',mfcc_vectors)"
   ]
  },
  {
   "cell_type": "code",
   "execution_count": 13,
   "metadata": {},
   "outputs": [],
   "source": [
    "def get_train_test(split_ratio=0.8,random_state=42):\n",
    "\tlabels,indices,_=get_labels(DATA_PATH)\n",
    "\n",
    "\tX=np.load(labels[0]+'.npy')\n",
    "\ty=np.zeros(X.shape[0])\n",
    "\t\n",
    "\tfor i,label in enumerate(labels[1:]):\n",
    "\t\tx=np.load(label+'.npy')\n",
    "\t\tX=np.vstack((X,x))\n",
    "\t\ty=np.append(y,np.full(x.shape[0],fill_value=(i+1)))\n",
    "\tassert X.shape[0] == len(y)\n",
    "#\tprint(X.shape)\n",
    "#\tprint(y)\n",
    "\treturn train_test_split(X,y,test_size=(1-split_ratio),random_state=random_state,shuffle=True)"
   ]
  },
  {
   "cell_type": "code",
   "execution_count": 57,
   "metadata": {
    "collapsed": true
   },
   "outputs": [
    {
     "name": "stderr",
     "output_type": "stream",
     "text": [
      "Saving vectors to label -'1':  85%|████████▍ | 22/26 [00:00<00:00, 97.05it/s]"
     ]
    },
    {
     "name": "stdout",
     "output_type": "stream",
     "text": [
      "(20, 11)\n",
      "(20, 11)\n",
      "(20, 11)\n",
      "(20, 11)\n",
      "(20, 11)\n",
      "(20, 11)\n",
      "(20, 11)\n",
      "(20, 11)\n",
      "(20, 11)\n",
      "(20, 11)\n",
      "(20, 11)\n",
      "(20, 11)\n",
      "(20, 11)\n",
      "(20, 11)\n",
      "(20, 11)\n",
      "(20, 11)\n",
      "(20, 11)\n",
      "(20, 11)\n",
      "(20, 11)\n",
      "(20, 11)\n",
      "(20, 11)\n",
      "(20, 11)\n"
     ]
    },
    {
     "name": "stderr",
     "output_type": "stream",
     "text": [
      "Saving vectors to label -'1': 100%|██████████| 26/26 [00:00<00:00, 104.98it/s]\n",
      "Saving vectors to label -'10':   8%|▊         | 2/26 [00:00<00:01, 17.46it/s]"
     ]
    },
    {
     "name": "stdout",
     "output_type": "stream",
     "text": [
      "(20, 11)\n",
      "(20, 11)\n",
      "(20, 11)\n",
      "(20, 11)\n",
      "(20, 11)\n",
      "(20, 11)\n"
     ]
    },
    {
     "name": "stderr",
     "output_type": "stream",
     "text": [
      "Saving vectors to label -'10':  35%|███▍      | 9/26 [00:00<00:00, 22.63it/s]"
     ]
    },
    {
     "name": "stdout",
     "output_type": "stream",
     "text": [
      "(20, 11)\n",
      "(20, 11)\n",
      "(20, 11)\n",
      "(20, 11)\n",
      "(20, 11)\n",
      "(20, 11)\n",
      "(20, 11)\n"
     ]
    },
    {
     "name": "stderr",
     "output_type": "stream",
     "text": [
      "Saving vectors to label -'10':  69%|██████▉   | 18/26 [00:00<00:00, 28.94it/s]"
     ]
    },
    {
     "name": "stdout",
     "output_type": "stream",
     "text": [
      "(20, 11)\n",
      "(20, 11)\n",
      "(20, 11)\n",
      "(20, 11)\n",
      "(20, 11)\n",
      "(20, 11)\n",
      "(20, 11)\n",
      "(20, 11)\n",
      "(20, 11)\n"
     ]
    },
    {
     "name": "stderr",
     "output_type": "stream",
     "text": [
      "Saving vectors to label -'10': 100%|██████████| 26/26 [00:00<00:00, 31.14it/s]"
     ]
    },
    {
     "name": "stdout",
     "output_type": "stream",
     "text": [
      "(20, 11)\n",
      "(20, 11)\n",
      "(20, 11)\n",
      "(20, 11)\n",
      "(20, 11)\n",
      "(20, 11)\n",
      "(20, 11)\n",
      "(20, 11)\n"
     ]
    },
    {
     "name": "stderr",
     "output_type": "stream",
     "text": [
      "\n",
      "Saving vectors to label -'2':  31%|███       | 8/26 [00:00<00:00, 31.68it/s]"
     ]
    },
    {
     "name": "stdout",
     "output_type": "stream",
     "text": [
      "(20, 11)\n",
      "(20, 11)\n",
      "(20, 11)\n",
      "(20, 11)\n",
      "(20, 11)\n",
      "(20, 11)\n",
      "(20, 11)\n",
      "(20, 11)\n"
     ]
    },
    {
     "name": "stderr",
     "output_type": "stream",
     "text": [
      "\r",
      "Saving vectors to label -'2':  46%|████▌     | 12/26 [00:00<00:00, 32.69it/s]"
     ]
    },
    {
     "name": "stdout",
     "output_type": "stream",
     "text": [
      "(20, 11)\n",
      "(20, 11)\n",
      "(20, 11)\n",
      "(20, 11)\n",
      "(20, 11)\n",
      "(20, 11)\n",
      "(20, 11)\n"
     ]
    },
    {
     "name": "stderr",
     "output_type": "stream",
     "text": [
      "Saving vectors to label -'2':  85%|████████▍ | 22/26 [00:00<00:00, 36.72it/s]"
     ]
    },
    {
     "name": "stdout",
     "output_type": "stream",
     "text": [
      "(20, 11)\n",
      "(20, 11)\n",
      "(20, 11)\n",
      "(20, 11)\n",
      "(20, 11)\n",
      "(20, 11)\n",
      "(20, 11)\n",
      "(20, 11)\n",
      "(20, 11)\n"
     ]
    },
    {
     "name": "stderr",
     "output_type": "stream",
     "text": [
      "Saving vectors to label -'2': 100%|██████████| 26/26 [00:00<00:00, 30.03it/s]\n",
      "Saving vectors to label -'3':  12%|█▏        | 3/26 [00:00<00:00, 28.26it/s]"
     ]
    },
    {
     "name": "stdout",
     "output_type": "stream",
     "text": [
      "(20, 11)\n",
      "(20, 11)\n",
      "(20, 11)\n",
      "(20, 11)\n",
      "(20, 11)\n"
     ]
    },
    {
     "name": "stderr",
     "output_type": "stream",
     "text": [
      "Saving vectors to label -'3':  38%|███▊      | 10/26 [00:00<00:00, 31.16it/s]"
     ]
    },
    {
     "name": "stdout",
     "output_type": "stream",
     "text": [
      "(20, 11)\n",
      "(20, 11)\n",
      "(20, 11)\n",
      "(20, 11)\n",
      "(20, 11)\n",
      "(20, 11)\n",
      "(20, 11)\n",
      "(20, 11)\n"
     ]
    },
    {
     "name": "stderr",
     "output_type": "stream",
     "text": [
      "Saving vectors to label -'3':  69%|██████▉   | 18/26 [00:00<00:00, 33.59it/s]"
     ]
    },
    {
     "name": "stdout",
     "output_type": "stream",
     "text": [
      "(20, 11)\n",
      "(20, 11)\n",
      "(20, 11)\n",
      "(20, 11)\n",
      "(20, 11)\n",
      "(20, 11)\n",
      "(20, 11)\n"
     ]
    },
    {
     "name": "stderr",
     "output_type": "stream",
     "text": [
      "\r",
      "Saving vectors to label -'3':  81%|████████  | 21/26 [00:00<00:00, 24.87it/s]"
     ]
    },
    {
     "name": "stdout",
     "output_type": "stream",
     "text": [
      "(20, 11)\n",
      "(20, 11)\n",
      "(20, 11)\n"
     ]
    },
    {
     "name": "stderr",
     "output_type": "stream",
     "text": [
      "Saving vectors to label -'3': 100%|██████████| 26/26 [00:00<00:00, 26.35it/s]\n",
      "Saving vectors to label -'4':   0%|          | 0/26 [00:00<?, ?it/s]"
     ]
    },
    {
     "name": "stdout",
     "output_type": "stream",
     "text": [
      "(20, 11)\n",
      "(20, 11)\n",
      "(20, 11)\n",
      "(20, 11)\n",
      "(20, 11)\n"
     ]
    },
    {
     "name": "stderr",
     "output_type": "stream",
     "text": [
      "Saving vectors to label -'4':  23%|██▎       | 6/26 [00:00<00:00, 25.98it/s]"
     ]
    },
    {
     "name": "stdout",
     "output_type": "stream",
     "text": [
      "(20, 11)\n",
      "(20, 11)\n",
      "(20, 11)\n",
      "(20, 11)\n",
      "(20, 11)\n",
      "(20, 11)\n",
      "(20, 11)\n",
      "(20, 11)\n"
     ]
    },
    {
     "name": "stderr",
     "output_type": "stream",
     "text": [
      "Saving vectors to label -'4':  65%|██████▌   | 17/26 [00:00<00:00, 32.80it/s]"
     ]
    },
    {
     "name": "stdout",
     "output_type": "stream",
     "text": [
      "(20, 11)\n",
      "(20, 11)\n",
      "(20, 11)\n",
      "(20, 11)\n",
      "(20, 11)\n",
      "(20, 11)\n",
      "(20, 11)\n",
      "(20, 11)\n",
      "(20, 11)\n"
     ]
    },
    {
     "name": "stderr",
     "output_type": "stream",
     "text": [
      "\r",
      "Saving vectors to label -'4':  81%|████████  | 21/26 [00:00<00:00, 33.80it/s]"
     ]
    },
    {
     "name": "stdout",
     "output_type": "stream",
     "text": [
      "(20, 11)\n",
      "(20, 11)\n",
      "(20, 11)\n",
      "(20, 11)\n",
      "(20, 11)\n",
      "(20, 11)\n",
      "(20, 11)\n",
      "(20, 11)\n"
     ]
    },
    {
     "name": "stderr",
     "output_type": "stream",
     "text": [
      "Saving vectors to label -'4': 100%|██████████| 26/26 [00:00<00:00, 36.31it/s]\n",
      "Saving vectors to label -'5':  12%|█▏        | 3/26 [00:00<00:01, 22.76it/s]"
     ]
    },
    {
     "name": "stdout",
     "output_type": "stream",
     "text": [
      "(20, 11)\n",
      "(20, 11)\n",
      "(20, 11)\n",
      "(20, 11)\n"
     ]
    },
    {
     "name": "stderr",
     "output_type": "stream",
     "text": [
      "Saving vectors to label -'5':  38%|███▊      | 10/26 [00:00<00:00, 26.62it/s]"
     ]
    },
    {
     "name": "stdout",
     "output_type": "stream",
     "text": [
      "(20, 11)\n",
      "(20, 11)\n",
      "(20, 11)\n",
      "(20, 11)\n",
      "(20, 11)\n",
      "(20, 11)\n",
      "(20, 11)\n",
      "(20, 11)\n"
     ]
    },
    {
     "name": "stderr",
     "output_type": "stream",
     "text": [
      "Saving vectors to label -'5':  73%|███████▎  | 19/26 [00:00<00:00, 31.88it/s]"
     ]
    },
    {
     "name": "stdout",
     "output_type": "stream",
     "text": [
      "(20, 11)\n",
      "(20, 11)\n",
      "(20, 11)\n",
      "(20, 11)\n",
      "(20, 11)\n",
      "(20, 11)\n",
      "(20, 11)\n",
      "(20, 11)\n",
      "(20, 11)\n"
     ]
    },
    {
     "name": "stderr",
     "output_type": "stream",
     "text": [
      "Saving vectors to label -'5': 100%|██████████| 26/26 [00:00<00:00, 34.82it/s]\n",
      "Saving vectors to label -'6':   0%|          | 0/26 [00:00<?, ?it/s]"
     ]
    },
    {
     "name": "stdout",
     "output_type": "stream",
     "text": [
      "(20, 11)\n",
      "(20, 11)\n",
      "(20, 11)\n",
      "(20, 11)\n",
      "(20, 11)\n",
      "(20, 11)\n",
      "(20, 11)\n"
     ]
    },
    {
     "name": "stderr",
     "output_type": "stream",
     "text": [
      "Saving vectors to label -'6':  35%|███▍      | 9/26 [00:00<00:00, 31.56it/s]"
     ]
    },
    {
     "name": "stdout",
     "output_type": "stream",
     "text": [
      "(20, 11)\n",
      "(20, 11)\n",
      "(20, 11)\n",
      "(20, 11)\n",
      "(20, 11)\n",
      "(20, 11)\n",
      "(20, 11)\n",
      "(20, 11)\n"
     ]
    },
    {
     "name": "stderr",
     "output_type": "stream",
     "text": [
      "\r",
      "Saving vectors to label -'6':  58%|█████▊    | 15/26 [00:00<00:00, 33.91it/s]"
     ]
    },
    {
     "name": "stdout",
     "output_type": "stream",
     "text": [
      "(20, 11)\n",
      "(20, 11)\n",
      "(20, 11)\n",
      "(20, 11)\n",
      "(20, 11)\n",
      "(20, 11)\n",
      "(20, 11)\n",
      "(20, 11)\n"
     ]
    },
    {
     "name": "stderr",
     "output_type": "stream",
     "text": [
      "Saving vectors to label -'6':  92%|█████████▏| 24/26 [00:00<00:00, 33.67it/s]"
     ]
    },
    {
     "name": "stdout",
     "output_type": "stream",
     "text": [
      "(20, 11)\n",
      "(20, 11)\n",
      "(20, 11)\n",
      "(20, 11)\n",
      "(20, 11)\n",
      "(20, 11)\n",
      "(20, 11)\n"
     ]
    },
    {
     "name": "stderr",
     "output_type": "stream",
     "text": [
      "Saving vectors to label -'6': 100%|██████████| 26/26 [00:00<00:00, 36.72it/s]\n",
      "Saving vectors to label -'7':  12%|█▏        | 3/26 [00:00<00:00, 24.73it/s]"
     ]
    },
    {
     "name": "stdout",
     "output_type": "stream",
     "text": [
      "(20, 11)\n",
      "(20, 11)\n",
      "(20, 11)\n",
      "(20, 11)\n",
      "(20, 11)\n"
     ]
    },
    {
     "name": "stderr",
     "output_type": "stream",
     "text": [
      "\r",
      "Saving vectors to label -'7':  23%|██▎       | 6/26 [00:00<00:00, 24.16it/s]"
     ]
    },
    {
     "name": "stdout",
     "output_type": "stream",
     "text": [
      "(20, 11)\n",
      "(20, 11)\n",
      "(20, 11)\n",
      "(20, 11)\n",
      "(20, 11)\n",
      "(20, 11)\n",
      "(20, 11)\n",
      "(20, 11)\n"
     ]
    },
    {
     "name": "stderr",
     "output_type": "stream",
     "text": [
      "Saving vectors to label -'7':  62%|██████▏   | 16/26 [00:00<00:00, 30.85it/s]"
     ]
    },
    {
     "name": "stdout",
     "output_type": "stream",
     "text": [
      "(20, 11)\n",
      "(20, 11)\n",
      "(20, 11)\n",
      "(20, 11)\n",
      "(20, 11)\n",
      "(20, 11)\n",
      "(20, 11)\n",
      "(20, 11)\n",
      "(20, 11)\n"
     ]
    },
    {
     "name": "stderr",
     "output_type": "stream",
     "text": [
      "Saving vectors to label -'7': 100%|██████████| 26/26 [00:00<00:00, 34.75it/s]\n",
      "Saving vectors to label -'8':   0%|          | 0/26 [00:00<?, ?it/s]"
     ]
    },
    {
     "name": "stdout",
     "output_type": "stream",
     "text": [
      "(20, 11)\n",
      "(20, 11)\n",
      "(20, 11)\n",
      "(20, 11)\n",
      "(20, 11)\n",
      "(20, 11)\n"
     ]
    },
    {
     "name": "stderr",
     "output_type": "stream",
     "text": [
      "Saving vectors to label -'8':  23%|██▎       | 6/26 [00:00<00:00, 21.33it/s]"
     ]
    },
    {
     "name": "stdout",
     "output_type": "stream",
     "text": [
      "(20, 11)\n",
      "(20, 11)\n",
      "(20, 11)\n",
      "(20, 11)\n",
      "(20, 11)\n",
      "(20, 11)\n",
      "(20, 11)\n",
      "(20, 11)\n"
     ]
    },
    {
     "name": "stderr",
     "output_type": "stream",
     "text": [
      "Saving vectors to label -'8':  58%|█████▊    | 15/26 [00:00<00:00, 27.69it/s]"
     ]
    },
    {
     "name": "stdout",
     "output_type": "stream",
     "text": [
      "(20, 11)\n",
      "(20, 11)\n",
      "(20, 11)\n",
      "(20, 11)\n",
      "(20, 11)\n",
      "(20, 11)\n",
      "(20, 11)\n",
      "(20, 11)\n"
     ]
    },
    {
     "name": "stderr",
     "output_type": "stream",
     "text": [
      "Saving vectors to label -'8':  92%|█████████▏| 24/26 [00:00<00:00, 32.39it/s]"
     ]
    },
    {
     "name": "stdout",
     "output_type": "stream",
     "text": [
      "(20, 11)\n",
      "(20, 11)\n",
      "(20, 11)\n",
      "(20, 11)\n",
      "(20, 11)\n",
      "(20, 11)\n",
      "(20, 11)\n",
      "(20, 11)\n"
     ]
    },
    {
     "name": "stderr",
     "output_type": "stream",
     "text": [
      "Saving vectors to label -'8': 100%|██████████| 26/26 [00:00<00:00, 36.31it/s]\n",
      "Saving vectors to label -'9':  12%|█▏        | 3/26 [00:00<00:00, 29.27it/s]"
     ]
    },
    {
     "name": "stdout",
     "output_type": "stream",
     "text": [
      "(20, 11)\n",
      "(20, 11)\n",
      "(20, 11)\n",
      "(20, 11)\n",
      "(20, 11)\n",
      "(20, 11)\n",
      "(20, 11)\n"
     ]
    },
    {
     "name": "stderr",
     "output_type": "stream",
     "text": [
      "Saving vectors to label -'9':  54%|█████▍    | 14/26 [00:00<00:00, 35.75it/s]"
     ]
    },
    {
     "name": "stdout",
     "output_type": "stream",
     "text": [
      "(20, 11)\n",
      "(20, 11)\n",
      "(20, 11)\n",
      "(20, 11)\n",
      "(20, 11)\n",
      "(20, 11)\n",
      "(20, 11)\n",
      "(20, 11)\n",
      "(20, 11)\n",
      "(20, 11)\n",
      "(20, 11)\n"
     ]
    },
    {
     "name": "stderr",
     "output_type": "stream",
     "text": [
      "Saving vectors to label -'9': 100%|██████████| 26/26 [00:00<00:00, 42.93it/s]"
     ]
    },
    {
     "name": "stdout",
     "output_type": "stream",
     "text": [
      "(20, 11)\n",
      "(20, 11)\n",
      "(20, 11)\n",
      "(20, 11)\n",
      "(20, 11)\n",
      "(20, 11)\n",
      "(20, 11)\n",
      "(20, 11)\n",
      "(20, 11)\n",
      "(20, 11)\n"
     ]
    },
    {
     "name": "stderr",
     "output_type": "stream",
     "text": [
      "\n"
     ]
    }
   ],
   "source": [
    "save_data_to_array()"
   ]
  },
  {
   "cell_type": "code",
   "execution_count": 14,
   "metadata": {
    "scrolled": true
   },
   "outputs": [],
   "source": [
    "X_train, X_test, y_train, y_test=get_train_test()\n",
    "X_train=X_train.reshape(X_train.shape[0],20,11,1)\n",
    "X_test=X_test.reshape(X_test.shape[0],20,11,1)\n",
    "y_train_hot=to_categorical(y_train)\n",
    "y_test_hot=to_categorical(y_test)"
   ]
  },
  {
   "cell_type": "code",
   "execution_count": 1,
   "metadata": {},
   "outputs": [
    {
     "ename": "NameError",
     "evalue": "name 'np' is not defined",
     "output_type": "error",
     "traceback": [
      "\u001b[0;31m---------------------------------------------------------------------------\u001b[0m",
      "\u001b[0;31mNameError\u001b[0m                                 Traceback (most recent call last)",
      "\u001b[0;32m<ipython-input-1-cf19b7aedc0d>\u001b[0m in \u001b[0;36m<module>\u001b[0;34m\u001b[0m\n\u001b[0;32m----> 1\u001b[0;31m \u001b[0;32mfor\u001b[0m \u001b[0mstep\u001b[0m \u001b[0;32min\u001b[0m \u001b[0mnp\u001b[0m\u001b[0;34m.\u001b[0m\u001b[0marange\u001b[0m\u001b[0;34m(\u001b[0m\u001b[0;36m1\u001b[0m\u001b[0;34m,\u001b[0m\u001b[0;36m72\u001b[0m\u001b[0;34m,\u001b[0m\u001b[0;36m10\u001b[0m\u001b[0;34m)\u001b[0m\u001b[0;34m[\u001b[0m\u001b[0;36m1\u001b[0m\u001b[0;34m:\u001b[0m\u001b[0;34m]\u001b[0m\u001b[0;34m:\u001b[0m\u001b[0;34m\u001b[0m\u001b[0m\n\u001b[0m\u001b[1;32m      2\u001b[0m     \u001b[0mweights_4\u001b[0m\u001b[0;34m=\u001b[0m\u001b[0;34m[\u001b[0m\u001b[0;34m]\u001b[0m\u001b[0;34m\u001b[0m\u001b[0m\n\u001b[1;32m      3\u001b[0m     \u001b[0mweights_6\u001b[0m\u001b[0;34m=\u001b[0m\u001b[0;34m[\u001b[0m\u001b[0;34m]\u001b[0m\u001b[0;34m\u001b[0m\u001b[0m\n\u001b[1;32m      4\u001b[0m     \u001b[0;32mfor\u001b[0m \u001b[0mi\u001b[0m \u001b[0;32min\u001b[0m \u001b[0mrange\u001b[0m\u001b[0;34m(\u001b[0m\u001b[0mstep\u001b[0m\u001b[0;34m-\u001b[0m\u001b[0;36m10\u001b[0m\u001b[0;34m,\u001b[0m\u001b[0mstep\u001b[0m\u001b[0;34m)\u001b[0m\u001b[0;34m:\u001b[0m\u001b[0;34m\u001b[0m\u001b[0m\n\u001b[1;32m      5\u001b[0m         \u001b[0mmodel\u001b[0m\u001b[0;34m=\u001b[0m\u001b[0mSequential\u001b[0m\u001b[0;34m(\u001b[0m\u001b[0;34m)\u001b[0m\u001b[0;34m\u001b[0m\u001b[0m\n",
      "\u001b[0;31mNameError\u001b[0m: name 'np' is not defined"
     ]
    }
   ],
   "source": [
    "for step in np.arange(1,72,10)[1:]:\n",
    "    weights_4=[]\n",
    "    weights_6=[]\n",
    "    for i in range(step-10,step):\n",
    "        model=Sequential()\n",
    "        model.add(Conv2D(64,kernel_size=(2,2),activation='tanh',input_shape=(20,11,1)))\n",
    "        model.add(MaxPooling2D(pool_size=(2,2)))\n",
    "        model.add(Dropout(0.4))\n",
    "        model.add(Flatten())\n",
    "        model.add(Dense(128,activation='relu'))\n",
    "        model.add(Dropout(0.4))\n",
    "        model.add(Dense(10,activation='softmax'))\n",
    "        model.compile(loss=keras.losses.categorical_crossentropy,optimizer=keras.optimizers.Adadelta(),metrics=['accuracy'])\n",
    "    \n",
    "        model.fit(X_train,y_train_hot,batch_size=128,epochs=i,verbose=1)\n",
    "        \n",
    "        weights_4=np.append(weights_4,model.layers[4].get_weights()[0])\n",
    "        weights_6=np.append(weights_6,model.layers[6].get_weights()[0])\n",
    "    \n",
    "    diff_4=[]\n",
    "    diff_6=[]\n",
    "    for i in range(0,9):\n",
    "        diff4=np.absolute(weights_4[i+1]-weights_4[i])\n",
    "        diff6=np.absolute(weights_6[i+1]-weights_6[i])\n",
    "    \n",
    "        diff_4=np.append(diff_4,diff4)\n",
    "        diff_6=np.append(diff_6,diff6)\n",
    "    if step==11:\n",
    "        diff_mat_4=np.average(diff_4)\n",
    "        diff_mat_6=np.average(diff_6)\n",
    "    else:\n",
    "        diff_mat_4=np.append(diff_mat_4,np.average(diff_4))\n",
    "        diff_mat_6=np.append(diff_mat_6,np.average(diff_6))"
   ]
  },
  {
   "cell_type": "code",
   "execution_count": 16,
   "metadata": {},
   "outputs": [],
   "source": [
    "np.save('Average_Diff_mat_4.npy',diff_mat_4)\n",
    "np.save('Average_Diff_mat_6.npy',diff_mat_6)"
   ]
  },
  {
   "cell_type": "code",
   "execution_count": null,
   "metadata": {},
   "outputs": [],
   "source": [
    "mat_4=np.load('Average_Diff_mat_4.npy')\n",
    "mat_6=np.load('Average_Diff_mat_6.npy')"
   ]
  },
  {
   "cell_type": "code",
   "execution_count": 30,
   "metadata": {},
   "outputs": [
    {
     "name": "stdout",
     "output_type": "stream",
     "text": [
      "_________________________________________________________________\n",
      "Layer (type)                 Output Shape              Param #   \n",
      "=================================================================\n",
      "conv2d_10 (Conv2D)           (None, 19, 10, 32)        160       \n",
      "_________________________________________________________________\n",
      "max_pooling2d_10 (MaxPooling (None, 9, 5, 32)          0         \n",
      "_________________________________________________________________\n",
      "dropout_19 (Dropout)         (None, 9, 5, 32)          0         \n",
      "_________________________________________________________________\n",
      "flatten_10 (Flatten)         (None, 1440)              0         \n",
      "_________________________________________________________________\n",
      "dense_19 (Dense)             (None, 128)               184448    \n",
      "_________________________________________________________________\n",
      "dropout_20 (Dropout)         (None, 128)               0         \n",
      "_________________________________________________________________\n",
      "dense_20 (Dense)             (None, 10)                1290      \n",
      "=================================================================\n",
      "Total params: 185,898\n",
      "Trainable params: 185,898\n",
      "Non-trainable params: 0\n",
      "_________________________________________________________________\n"
     ]
    }
   ],
   "source": [
    "model.summary()"
   ]
  },
  {
   "cell_type": "code",
   "execution_count": 19,
   "metadata": {},
   "outputs": [
    {
     "data": {
      "image/png": "[encoded data removed]",
      "text/plain": [
       "<Figure size 432x288 with 1 Axes>"
      ]
     },
     "metadata": {
      "needs_background": "light"
     },
     "output_type": "display_data"
    }
   ],
   "source": [
    "epoch_number=np.arange(1,71,10)\n",
    "#plt.figure(figsize=(10,4))\n",
    "plt.bar(epoch_number,mat_4,width=8.5)\n",
    "plt.xlabel('Epoch Number')\n",
    "plt.ylabel('Average Value')\n",
    "plt.xticks(epoch_number,('1-10','11-20','21-30','31-40','41-50','51-60','61-70'))\n",
    "plt.title('Dense_19 layer')\n",
    "plt.savefig('weights_variation_4.tiff')"
   ]
  },
  {
   "cell_type": "code",
   "execution_count": 20,
   "metadata": {},
   "outputs": [
    {
     "data": {
      "image/png": "[encoded data removed]",
      "text/plain": [
       "<Figure size 432x288 with 1 Axes>"
      ]
     },
     "metadata": {
      "needs_background": "light"
     },
     "output_type": "display_data"
    }
   ],
   "source": [
    "epoch_number=np.arange(1,71,10)\n",
    "#plt.figure(figsize=(10,4))\n",
    "plt.bar(epoch_number,mat_6,width=8.5)\n",
    "plt.xlabel('Epoch Number')\n",
    "plt.ylabel('Average Value')\n",
    "plt.xticks(epoch_number,('1-10','11-20','21-30','31-40','41-50','51-60','61-70'))\n",
    "plt.title('Dense_20 layer')\n",
    "plt.savefig('weights_variation_6.svg')"
   ]
  },
  {
   "cell_type": "code",
   "execution_count": null,
   "metadata": {},
   "outputs": [],
   "source": []
  }
 ],
 "metadata": {
  "kernelspec": {
   "display_name": "Python 3",
   "language": "python",
   "name": "python3"
  },
  "language_info": {
   "codemirror_mode": {
    "name": "ipython",
    "version": 3
   },
   "file_extension": ".py",
   "mimetype": "text/x-python",
   "name": "python",
   "nbconvert_exporter": "python",
   "pygments_lexer": "ipython3",
   "version": "3.6.6"
  }
 },
 "nbformat": 4,
 "nbformat_minor": 2
}
