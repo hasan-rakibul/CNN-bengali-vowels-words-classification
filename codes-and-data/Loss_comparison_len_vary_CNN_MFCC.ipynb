{
 "cells": [
  {
   "cell_type": "code",
   "execution_count": 1,
   "metadata": {},
   "outputs": [
    {
     "name": "stderr",
     "output_type": "stream",
     "text": [
      "Using TensorFlow backend.\n"
     ]
    }
   ],
   "source": [
    "import librosa\n",
    "import os\n",
    "from sklearn.model_selection import train_test_split\n",
    "from keras.utils import to_categorical\n",
    "import numpy as np\n",
    "from tqdm import tqdm\n",
    "import matplotlib.pyplot as plt\n",
    "\n",
    "import keras\n",
    "from keras.models import Sequential\n",
    "from keras.layers import Dense, Dropout, Flatten, Conv2D, MaxPooling2D"
   ]
  },
  {
   "cell_type": "code",
   "execution_count": 10,
   "metadata": {},
   "outputs": [],
   "source": [
    "DATA_PATH=\"./Word_Data/Word/\""
   ]
  },
  {
   "cell_type": "code",
   "execution_count": 3,
   "metadata": {},
   "outputs": [],
   "source": [
    "DATA_PATH=\"./Vowel_Data/Vowel/\""
   ]
  },
  {
   "cell_type": "code",
   "execution_count": 11,
   "metadata": {},
   "outputs": [],
   "source": [
    "LEN=13\n",
    "num_mfcc=20\n",
    "seed=0"
   ]
  },
  {
   "cell_type": "code",
   "execution_count": 12,
   "metadata": {},
   "outputs": [],
   "source": [
    "def get_labels(path=DATA_PATH):\n",
    "    labels=os.listdir(path)\n",
    "    label_indices=np.arange(0,len(labels))\n",
    "    return labels, label_indices, to_categorical(label_indices)\n",
    "\n",
    "def speech2mfcc(file_path,max_len=LEN):\n",
    "    wave, sr= librosa.load(file_path, mono=True, sr=None)\n",
    "    wave=wave[::2]\n",
    "    mfcc=librosa.feature.mfcc(wave,sr=sr,n_mfcc=num_mfcc)\n",
    "    if (max_len > mfcc.shape[1]): #.shape[1], 1-->column\n",
    "        pad_width=max_len-mfcc.shape[1]\n",
    "        mfcc=np.pad(mfcc,pad_width=((0,0),(0,pad_width)),mode='constant')\n",
    "    else:\n",
    "        mfcc=mfcc[:,:max_len]\n",
    "    return mfcc\n",
    "\n",
    "def save_data_to_array(path=DATA_PATH, max_len=LEN):\n",
    "    labels,_,_=get_labels(path)\n",
    "\n",
    "    for label in labels:\n",
    "        mfcc_vectors=[]\n",
    "\n",
    "        speechfiles=[path + label + '/' + speech for speech in os.listdir(path+'/'+label)]\n",
    "        for speech in tqdm(speechfiles,\"Saving vectors to label -'{}'\".format(label)):\n",
    "            mfcc=speech2mfcc(speech,max_len=max_len)\n",
    "            mfcc_vectors.append(mfcc)\n",
    "            \n",
    "        np.save(label+'.npy',mfcc_vectors)\n",
    "        \n",
    "def get_train_test(split_ratio=1,random_state=42):\n",
    "    labels,indices,_=get_labels(DATA_PATH)\n",
    "\n",
    "    X=np.load(labels[0]+'.npy')\n",
    "    y=np.zeros(X.shape[0])\n",
    "\n",
    "    for i,label in enumerate(labels[1:]):\n",
    "        x=np.load(label+'.npy')\n",
    "        X=np.vstack((X,x))\n",
    "        y=np.append(y,np.full(x.shape[0],fill_value=(i+1)))\n",
    "    assert X.shape[0] == len(y)\n",
    "    return train_test_split(X,y,test_size=(1-split_ratio),random_state=random_state,shuffle=True)"
   ]
  },
  {
   "cell_type": "code",
   "execution_count": 13,
   "metadata": {},
   "outputs": [
    {
     "name": "stderr",
     "output_type": "stream",
     "text": [
      "Saving vectors to label -'Word1': 100%|██████████| 40/40 [00:08<00:00,  4.88it/s]\n",
      "Saving vectors to label -'Word2': 100%|██████████| 40/40 [00:09<00:00,  4.36it/s]\n",
      "Saving vectors to label -'Word3': 100%|██████████| 40/40 [00:09<00:00,  4.47it/s]\n",
      "Saving vectors to label -'Word4': 100%|██████████| 40/40 [00:09<00:00,  3.97it/s]\n",
      "Saving vectors to label -'Word5': 100%|██████████| 40/40 [00:08<00:00,  4.23it/s]\n",
      "Saving vectors to label -'Word6': 100%|██████████| 40/40 [00:07<00:00,  6.82it/s]\n",
      "Saving vectors to label -'Word7': 100%|██████████| 40/40 [00:06<00:00,  6.03it/s]\n"
     ]
    }
   ],
   "source": [
    "save_data_to_array()"
   ]
  },
  {
   "cell_type": "code",
   "execution_count": 14,
   "metadata": {},
   "outputs": [
    {
     "name": "stdout",
     "output_type": "stream",
     "text": [
      "Epoch 1/20\n",
      "280/280 [==============================] - 1s 3ms/step - loss: 3.6561 - acc: 0.1929\n",
      "Epoch 2/20\n",
      "280/280 [==============================] - 0s 633us/step - loss: 2.8161 - acc: 0.2500\n",
      "Epoch 3/20\n",
      "280/280 [==============================] - 0s 623us/step - loss: 1.3772 - acc: 0.4786\n",
      "Epoch 4/20\n",
      "280/280 [==============================] - 0s 651us/step - loss: 1.3913 - acc: 0.4929\n",
      "Epoch 5/20\n",
      "280/280 [==============================] - 0s 877us/step - loss: 1.1939 - acc: 0.5536\n",
      "Epoch 6/20\n",
      "280/280 [==============================] - 0s 874us/step - loss: 0.8026 - acc: 0.7357\n",
      "Epoch 7/20\n",
      "280/280 [==============================] - 0s 646us/step - loss: 0.8217 - acc: 0.7179\n",
      "Epoch 8/20\n",
      "280/280 [==============================] - 0s 640us/step - loss: 0.7507 - acc: 0.6821\n",
      "Epoch 9/20\n",
      "280/280 [==============================] - 0s 672us/step - loss: 0.5889 - acc: 0.7929\n",
      "Epoch 10/20\n",
      "280/280 [==============================] - 0s 636us/step - loss: 0.5809 - acc: 0.8000\n",
      "Epoch 11/20\n",
      "280/280 [==============================] - 0s 660us/step - loss: 0.3930 - acc: 0.8679\n",
      "Epoch 12/20\n",
      "280/280 [==============================] - 0s 886us/step - loss: 0.4032 - acc: 0.8500\n",
      "Epoch 13/20\n",
      "280/280 [==============================] - 0s 860us/step - loss: 0.3617 - acc: 0.8821\n",
      "Epoch 14/20\n",
      "280/280 [==============================] - 0s 749us/step - loss: 0.3107 - acc: 0.8964\n",
      "Epoch 15/20\n",
      "280/280 [==============================] - 0s 653us/step - loss: 0.3614 - acc: 0.8786\n",
      "Epoch 16/20\n",
      "280/280 [==============================] - 0s 674us/step - loss: 0.2897 - acc: 0.8964\n",
      "Epoch 17/20\n",
      "280/280 [==============================] - 0s 648us/step - loss: 0.4101 - acc: 0.8750\n",
      "Epoch 18/20\n",
      "280/280 [==============================] - 0s 661us/step - loss: 0.2488 - acc: 0.9179\n",
      "Epoch 19/20\n",
      "280/280 [==============================] - 0s 668us/step - loss: 0.2669 - acc: 0.9214\n",
      "Epoch 20/20\n",
      "280/280 [==============================] - 0s 886us/step - loss: 0.1939 - acc: 0.9393\n"
     ]
    }
   ],
   "source": [
    "np.random.seed(seed)\n",
    "\n",
    "X_train, X_test, y_train, y_test=get_train_test()\n",
    "X_train=X_train.reshape(X_train.shape[0],num_mfcc,LEN,1)\n",
    "y_train_hot=to_categorical(y_train)\n",
    "\n",
    "\n",
    "model=Sequential()\n",
    "model.add(Conv2D(64,kernel_size=(2,2),activation='tanh',input_shape=(num_mfcc,LEN,1)))\n",
    "model.add(MaxPooling2D(pool_size=(2,2)))\n",
    "model.add(Dropout(0.4))\n",
    "model.add(Flatten())\n",
    "model.add(Dense(128,activation='relu'))\n",
    "model.add(Dropout(0.4))\n",
    "model.add(Dense(7,activation='softmax'))\n",
    "\n",
    "model.compile(loss=keras.losses.categorical_crossentropy,optimizer=keras.optimizers.Adadelta(),metrics=['accuracy'])\n",
    "history=model.fit(X_train,y_train_hot,batch_size=128,epochs=20,verbose=1)"
   ]
  },
  {
   "cell_type": "code",
   "execution_count": 15,
   "metadata": {},
   "outputs": [],
   "source": [
    "history_dict=history.history"
   ]
  },
  {
   "cell_type": "code",
   "execution_count": 16,
   "metadata": {},
   "outputs": [],
   "source": [
    "#word\n",
    "\n",
    "loss_word=history_dict['loss']\n",
    "acc_word=history_dict['acc']"
   ]
  },
  {
   "cell_type": "code",
   "execution_count": 9,
   "metadata": {},
   "outputs": [],
   "source": [
    "#Vowel\n",
    "\n",
    "loss_vowel=history_dict['loss']\n",
    "acc_vowel=history_dict['acc']"
   ]
  },
  {
   "cell_type": "code",
   "execution_count": 17,
   "metadata": {},
   "outputs": [],
   "source": [
    "epochs=range(1,len(loss_word)+1)"
   ]
  },
  {
   "cell_type": "code",
   "execution_count": 18,
   "metadata": {},
   "outputs": [
    {
     "data": {
      "image/png": "[encoded data removed]",
      "text/plain": [
       "<Figure size 432x288 with 1 Axes>"
      ]
     },
     "metadata": {
      "needs_background": "light"
     },
     "output_type": "display_data"
    }
   ],
   "source": [
    "#plt.figure(figsize=(10,4))\n",
    "plt.plot(epochs,loss_word,'b',label='Word')\n",
    "plt.plot(epochs,loss_vowel,'r',label='Vowel')\n",
    "plt.title('Loss comparison')\n",
    "plt.xticks(epochs)\n",
    "plt.xlabel('Epochs')\n",
    "plt.ylabel('Loss')\n",
    "plt.legend()\n",
    "plt.tight_layout()\n",
    "plt.savefig('./Result/Meet_the_Reviewer_Comments/Final_loss_compare_LEN_'+str(LEN)+'.svg',format='svg',dpi=600)"
   ]
  },
  {
   "cell_type": "code",
   "execution_count": 19,
   "metadata": {},
   "outputs": [
    {
     "data": {
      "image/png": "[encoded data removed]",
      "text/plain": [
       "<Figure size 432x288 with 1 Axes>"
      ]
     },
     "metadata": {
      "needs_background": "light"
     },
     "output_type": "display_data"
    }
   ],
   "source": [
    "#plt.figure(figsize=(10,4))\n",
    "plt.plot(epochs,acc_word,'b',label='Word')\n",
    "plt.plot(epochs,acc_vowel,'r',label='Vowel')\n",
    "plt.title('Accuracy comparison')\n",
    "plt.xticks(epochs)\n",
    "plt.xlabel('Epochs')\n",
    "plt.ylabel('Accuracy')\n",
    "plt.legend()\n",
    "plt.tight_layout()\n",
    "plt.savefig('./Result/Meet_the_Reviewer_Comments/Final_accuracy_compare_LEN_'+str(LEN)+'.svg',format='svg',dpi=600)"
   ]
  }
 ],
 "metadata": {
  "kernelspec": {
   "display_name": "Python 3",
   "language": "python",
   "name": "python3"
  },
  "language_info": {
   "codemirror_mode": {
    "name": "ipython",
    "version": 3
   },
   "file_extension": ".py",
   "mimetype": "text/x-python",
   "name": "python",
   "nbconvert_exporter": "python",
   "pygments_lexer": "ipython3",
   "version": "3.8.3"
  }
 },
 "nbformat": 4,
 "nbformat_minor": 2
}
