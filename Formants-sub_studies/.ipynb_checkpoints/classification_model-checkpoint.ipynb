{
 "cells": [
  {
   "cell_type": "code",
   "execution_count": 16,
   "metadata": {},
   "outputs": [],
   "source": [
    "import librosa\n",
    "import os\n",
    "from sklearn.model_selection import train_test_split\n",
    "from keras.utils import to_categorical\n",
    "import numpy as np\n",
    "from tqdm import tqdm\n",
    "import matplotlib.pyplot as plt"
   ]
  },
  {
   "cell_type": "code",
   "execution_count": 17,
   "metadata": {},
   "outputs": [],
   "source": [
    "DATA_PATH=\"./Audio_Data/Vowel/\"\n",
    "\n",
    "def get_labels(path=DATA_PATH):\n",
    "    labels=os.listdir(path)\n",
    "    label_indices=np.arange(0,len(labels))\n",
    "    return labels, label_indices, to_categorical(label_indices)"
   ]
  },
  {
   "cell_type": "code",
   "execution_count": 18,
   "metadata": {},
   "outputs": [],
   "source": [
    "def speech2mfcc(file_path,max_len=11):\n",
    "    wave, sr= librosa.load(file_path, mono=True, sr=None)\n",
    "    wave=wave[::5]\n",
    "    mfcc=librosa.feature.mfcc(wave,sr=sr)\n",
    "    if (max_len > mfcc.shape[1]): #.shape[1], 1-->column\n",
    "        pad_width=max_len-mfcc.shape[1]\n",
    "        mfcc=np.pad(mfcc,pad_width=((0,0),(0,pad_width)),mode='constant')\n",
    "    else:\n",
    "        mfcc=mfcc[:,:max_len]\n",
    "    return mfcc"
   ]
  },
  {
   "cell_type": "code",
   "execution_count": 19,
   "metadata": {},
   "outputs": [],
   "source": [
    "def save_data_to_array(path=DATA_PATH, max_len=11):\n",
    "    labels,_,_=get_labels(path)\n",
    "\n",
    "    for label in labels:\n",
    "        mfcc_vectors=[]\n",
    "\n",
    "        speechfiles=[path + label + '/' + speech for speech in os.listdir(path+'/'+label)]\n",
    "        for speech in tqdm(speechfiles,\"Saving vectors to label -'{}'\".format(label)):\n",
    "            mfcc=speech2mfcc(speech,max_len=max_len)\n",
    "            mfcc_vectors.append(mfcc)\n",
    "            \n",
    "        np.save(label+'.npy',mfcc_vectors)"
   ]
  },
  {
   "cell_type": "code",
   "execution_count": 21,
   "metadata": {},
   "outputs": [
    {
     "name": "stderr",
     "output_type": "stream",
     "text": [
      "Saving vectors to label -'vowel1': 100%|██████████| 40/40 [00:03<00:00, 11.31it/s]\n",
      "Saving vectors to label -'vowel2': 100%|██████████| 40/40 [00:03<00:00, 11.16it/s]\n",
      "Saving vectors to label -'vowel3': 100%|██████████| 40/40 [00:03<00:00, 11.34it/s]\n",
      "Saving vectors to label -'vowel4': 100%|██████████| 40/40 [00:03<00:00, 11.15it/s]\n",
      "Saving vectors to label -'vowel5': 100%|██████████| 40/40 [00:04<00:00,  9.08it/s]\n",
      "Saving vectors to label -'vowel6': 100%|██████████| 40/40 [00:04<00:00,  8.88it/s]\n",
      "Saving vectors to label -'vowel7': 100%|██████████| 40/40 [00:03<00:00, 10.29it/s]\n"
     ]
    }
   ],
   "source": [
    "save_data_to_array()"
   ]
  },
  {
   "cell_type": "code",
   "execution_count": 22,
   "metadata": {},
   "outputs": [],
   "source": [
    "def get_train_test(split_ratio=0.8,random_state=42):\n",
    "    labels,indices,_=get_labels(DATA_PATH)\n",
    "\n",
    "    X=np.load(labels[0]+'.npy')\n",
    "    y=np.zeros(X.shape[0])\n",
    "\n",
    "    for i,label in enumerate(labels[1:]):\n",
    "        x=np.load(label+'.npy')\n",
    "        X=np.vstack((X,x))\n",
    "        y=np.append(y,np.full(x.shape[0],fill_value=(i+1)))\n",
    "    assert X.shape[0] == len(y)\n",
    "    return train_test_split(X,y,test_size=(1-split_ratio),random_state=random_state,shuffle=True)"
   ]
  },
  {
   "cell_type": "code",
   "execution_count": 23,
   "metadata": {},
   "outputs": [],
   "source": [
    "import keras\n",
    "from keras.models import Sequential\n",
    "from keras.layers import Dense, Dropout, Flatten, Conv2D, MaxPooling2D"
   ]
  },
  {
   "cell_type": "code",
   "execution_count": 24,
   "metadata": {},
   "outputs": [],
   "source": [
    "X_train, X_test, y_train, y_test=get_train_test()\n",
    "#print(X_train.shape)\n",
    "X_train=X_train.reshape(X_train.shape[0],20,11,1)\n",
    "X_test=X_test.reshape(X_test.shape[0],20,11,1)\n",
    "y_train_hot=to_categorical(y_train)\n",
    "y_test_hot=to_categorical(y_test)"
   ]
  },
  {
   "cell_type": "code",
   "execution_count": 25,
   "metadata": {},
   "outputs": [],
   "source": [
    "model=Sequential()\n",
    "model.add(Conv2D(64,kernel_size=(2,2),activation='tanh',input_shape=(20,11,1)))\n",
    "model.add(MaxPooling2D(pool_size=(2,2)))\n",
    "model.add(Dropout(0.4))\n",
    "model.add(Flatten())\n",
    "model.add(Dense(128,activation='relu'))\n",
    "model.add(Dropout(0.4))\n",
    "model.add(Dense(7,activation='softmax'))"
   ]
  },
  {
   "cell_type": "code",
   "execution_count": 10,
   "metadata": {
    "scrolled": true
   },
   "outputs": [
    {
     "name": "stdout",
     "output_type": "stream",
     "text": [
      "Train on 224 samples, validate on 56 samples\n",
      "Epoch 1/20\n",
      "224/224 [==============================] - 0s 2ms/step - loss: 3.3867 - acc: 0.1518 - val_loss: 3.2976 - val_acc: 0.1607\n",
      "Epoch 2/20\n",
      "224/224 [==============================] - 0s 688us/step - loss: 3.0682 - acc: 0.2545 - val_loss: 2.5140 - val_acc: 0.2321\n",
      "Epoch 3/20\n",
      "224/224 [==============================] - 0s 860us/step - loss: 2.4877 - acc: 0.2902 - val_loss: 1.6592 - val_acc: 0.3750\n",
      "Epoch 4/20\n",
      "224/224 [==============================] - 0s 838us/step - loss: 1.3017 - acc: 0.5312 - val_loss: 1.1801 - val_acc: 0.6607\n",
      "Epoch 5/20\n",
      "224/224 [==============================] - 0s 787us/step - loss: 1.1076 - acc: 0.6071 - val_loss: 0.9860 - val_acc: 0.6964\n",
      "Epoch 6/20\n",
      "224/224 [==============================] - 0s 837us/step - loss: 0.8151 - acc: 0.7321 - val_loss: 0.8711 - val_acc: 0.7321\n",
      "Epoch 7/20\n",
      "224/224 [==============================] - 0s 863us/step - loss: 0.7463 - acc: 0.7143 - val_loss: 0.7979 - val_acc: 0.7679\n",
      "Epoch 8/20\n",
      "224/224 [==============================] - 0s 638us/step - loss: 0.6651 - acc: 0.7500 - val_loss: 0.7129 - val_acc: 0.7321\n",
      "Epoch 9/20\n",
      "224/224 [==============================] - 0s 599us/step - loss: 0.4697 - acc: 0.8393 - val_loss: 0.5688 - val_acc: 0.7679\n",
      "Epoch 10/20\n",
      "224/224 [==============================] - 0s 615us/step - loss: 0.4645 - acc: 0.8571 - val_loss: 0.5055 - val_acc: 0.8214\n",
      "Epoch 11/20\n",
      "224/224 [==============================] - 0s 892us/step - loss: 0.4448 - acc: 0.8705 - val_loss: 0.5509 - val_acc: 0.8214\n",
      "Epoch 12/20\n",
      "224/224 [==============================] - 0s 723us/step - loss: 0.4082 - acc: 0.8616 - val_loss: 0.5982 - val_acc: 0.7679\n",
      "Epoch 13/20\n",
      "224/224 [==============================] - 0s 619us/step - loss: 0.4160 - acc: 0.8571 - val_loss: 0.6629 - val_acc: 0.7679\n",
      "Epoch 14/20\n",
      "224/224 [==============================] - 0s 581us/step - loss: 0.2652 - acc: 0.9241 - val_loss: 0.4092 - val_acc: 0.8214\n",
      "Epoch 15/20\n",
      "224/224 [==============================] - 0s 632us/step - loss: 0.3190 - acc: 0.9241 - val_loss: 0.4269 - val_acc: 0.8214\n",
      "Epoch 16/20\n",
      "224/224 [==============================] - 0s 585us/step - loss: 0.2710 - acc: 0.9018 - val_loss: 0.3699 - val_acc: 0.8750\n",
      "Epoch 17/20\n",
      "224/224 [==============================] - 0s 658us/step - loss: 0.2428 - acc: 0.9107 - val_loss: 0.4603 - val_acc: 0.8214\n",
      "Epoch 18/20\n",
      "224/224 [==============================] - 0s 658us/step - loss: 0.2288 - acc: 0.9107 - val_loss: 0.4724 - val_acc: 0.8571\n",
      "Epoch 19/20\n",
      "224/224 [==============================] - 0s 626us/step - loss: 0.2631 - acc: 0.9107 - val_loss: 0.4052 - val_acc: 0.8214\n",
      "Epoch 20/20\n",
      "224/224 [==============================] - 0s 626us/step - loss: 0.1667 - acc: 0.9509 - val_loss: 0.3797 - val_acc: 0.8393\n"
     ]
    }
   ],
   "source": [
    "model.compile(loss=keras.losses.categorical_crossentropy,optimizer=keras.optimizers.adadelta(),metrics=['accuracy'])\n",
    "history=model.fit(X_train,y_train_hot,batch_size=128,epochs=20,verbose=1,validation_data=(X_test,y_test_hot))\n",
    "#history=model.fit(X_train,y_train_hot,batch_size=128,epochs=20,verbose=1)"
   ]
  },
  {
   "cell_type": "code",
   "execution_count": 79,
   "metadata": {},
   "outputs": [],
   "source": [
    "#history_dict=history.history\n",
    "#final_loss=history_dict['loss'][-1]\n",
    "#final_acc=history_dict['acc'][-1]"
   ]
  },
  {
   "cell_type": "code",
   "execution_count": 80,
   "metadata": {},
   "outputs": [
    {
     "data": {
      "text/plain": [
       "0.8714285731315613"
      ]
     },
     "execution_count": 80,
     "metadata": {},
     "output_type": "execute_result"
    }
   ],
   "source": [
    "final_acc"
   ]
  },
  {
   "cell_type": "code",
   "execution_count": 81,
   "metadata": {},
   "outputs": [],
   "source": [
    "#np.save('./Result/Training_trial7.npy',[final_loss, final_acc])"
   ]
  },
  {
   "cell_type": "code",
   "execution_count": 11,
   "metadata": {},
   "outputs": [],
   "source": [
    "history_dict=history.history\n",
    "loss_values=history_dict['loss']\n",
    "val_loss_values=history_dict['val_loss']\n",
    "epochs=range(1,len(loss_values)+1)"
   ]
  },
  {
   "cell_type": "code",
   "execution_count": 59,
   "metadata": {
    "scrolled": true
   },
   "outputs": [
    {
     "data": {
      "text/plain": [
       "array([0.17341404, 0.93333334])"
      ]
     },
     "execution_count": 59,
     "metadata": {},
     "output_type": "execute_result"
    }
   ],
   "source": [
    "#np.load('./Result/Training_trial5.npy')"
   ]
  },
  {
   "cell_type": "code",
   "execution_count": 12,
   "metadata": {},
   "outputs": [
    {
     "data": {
      "image/png": "[encoded data removed]",
      "text/plain": [
       "<Figure size 720x288 with 1 Axes>"
      ]
     },
     "metadata": {
      "needs_background": "light"
     },
     "output_type": "display_data"
    }
   ],
   "source": [
    "plt.figure(figsize=(10,4))\n",
    "plt.plot(epochs,loss_values,'bo',label='Training loss')\n",
    "plt.plot(epochs,val_loss_values,'b',label='Validation loss')\n",
    "plt.title('Training and validation loss for vowel')\n",
    "plt.xticks(epochs)\n",
    "plt.xlabel('Epochs')\n",
    "plt.ylabel('Loss')\n",
    "plt.legend()\n",
    "#plt.show()\n",
    "plt.savefig('loss_vowel.png',format='png', dpi=1200)"
   ]
  },
  {
   "cell_type": "code",
   "execution_count": 13,
   "metadata": {},
   "outputs": [
    {
     "data": {
      "text/plain": [
       "<Figure size 432x288 with 0 Axes>"
      ]
     },
     "metadata": {},
     "output_type": "display_data"
    }
   ],
   "source": [
    "plt.clf()\n",
    "acc_values=history_dict['acc']\n",
    "val_acc_values=history_dict['val_acc']"
   ]
  },
  {
   "cell_type": "code",
   "execution_count": 15,
   "metadata": {},
   "outputs": [
    {
     "data": {
      "image/png": "[encoded data removed]",
      "text/plain": [
       "<Figure size 720x288 with 1 Axes>"
      ]
     },
     "metadata": {
      "needs_background": "light"
     },
     "output_type": "display_data"
    }
   ],
   "source": [
    "plt.figure(figsize=(10,4))\n",
    "plt.plot(epochs,acc_values,'bo',label='Training acc')\n",
    "plt.plot(epochs,val_acc_values,'b',label='Validation acc')\n",
    "plt.title('Training and validation accuracy for vowel')\n",
    "plt.xticks(epochs)\n",
    "plt.xlabel('Epochs')\n",
    "plt.ylabel('Accuracy')\n",
    "plt.legend()\n",
    "#plt.show()\n",
    "plt.savefig('accuracy_vowel.png',format='png', dpi=1200)"
   ]
  },
  {
   "cell_type": "code",
   "execution_count": 205,
   "metadata": {},
   "outputs": [
    {
     "name": "stdout",
     "output_type": "stream",
     "text": [
      "_________________________________________________________________\n",
      "Layer (type)                 Output Shape              Param #   \n",
      "=================================================================\n",
      "conv2d_27 (Conv2D)           (None, 19, 10, 64)        320       \n",
      "_________________________________________________________________\n",
      "max_pooling2d_27 (MaxPooling (None, 9, 5, 64)          0         \n",
      "_________________________________________________________________\n",
      "dropout_53 (Dropout)         (None, 9, 5, 64)          0         \n",
      "_________________________________________________________________\n",
      "flatten_27 (Flatten)         (None, 2880)              0         \n",
      "_________________________________________________________________\n",
      "dense_53 (Dense)             (None, 128)               368768    \n",
      "_________________________________________________________________\n",
      "dropout_54 (Dropout)         (None, 128)               0         \n",
      "_________________________________________________________________\n",
      "dense_54 (Dense)             (None, 10)                1290      \n",
      "=================================================================\n",
      "Total params: 370,378\n",
      "Trainable params: 370,378\n",
      "Non-trainable params: 0\n",
      "_________________________________________________________________\n"
     ]
    }
   ],
   "source": [
    "model.summary()"
   ]
  },
  {
   "cell_type": "code",
   "execution_count": null,
   "metadata": {},
   "outputs": [],
   "source": []
  }
 ],
 "metadata": {
  "kernelspec": {
   "display_name": "Python 3",
   "language": "python",
   "name": "python3"
  },
  "language_info": {
   "codemirror_mode": {
    "name": "ipython",
    "version": 3
   },
   "file_extension": ".py",
   "mimetype": "text/x-python",
   "name": "python",
   "nbconvert_exporter": "python",
   "pygments_lexer": "ipython3",
   "version": "3.8.3"
  }
 },
 "nbformat": 4,
 "nbformat_minor": 2
}
