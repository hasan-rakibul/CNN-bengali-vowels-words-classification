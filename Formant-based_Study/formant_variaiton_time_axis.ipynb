{
 "cells": [
  {
   "cell_type": "code",
   "execution_count": 2,
   "metadata": {},
   "outputs": [],
   "source": [
    "import pandas as pd\n",
    "import numpy as np\n",
    "import os\n",
    "from scipy.stats import variation"
   ]
  },
  {
   "cell_type": "code",
   "execution_count": 41,
   "metadata": {},
   "outputs": [],
   "source": [
    "for k in range(1,2):   #number of variation or trial....WData_v1, v2\n",
    "    for j in range(1,8):  #number of word in each variation\n",
    "        DATA_PATH=\"./Audio_Data/Formant/Formant\"+str(j)+\"/\"\n",
    "        i=0\n",
    "        for speechfile in os.listdir(DATA_PATH):  #accessing each formant file\n",
    "            data = pd.read_csv(DATA_PATH+speechfile, delim_whitespace=True,header=None,names=[\"time\",\"F1\",\"F2\",\"F3\",\"F4\",\"F5\"],dtype=np.float64,na_values=\"--undefined--\")\n",
    "            if i==0:\n",
    "                cov=variation(data,axis=0)  #row to row variation\n",
    "                i=1;\n",
    "            else:\n",
    "                cov=np.vstack((cov,variation(data,axis=0)))\n",
    "    \n",
    "        mean_variation=cov.mean(axis=0)  #row to row mean...mean for all F1, mean for all F2...\n",
    "    \n",
    "        #np.save('./Result/COV/COV_trial'+str(k)+'_vowel_'+str(j)+'.npy',mean_variation) #file saved as ....<trial_number>...<word_number>\n",
    "        np.save('./Result/COV/COV_all_vowel_'+str(j)+'.npy',mean_variation)\n"
   ]
  },
  {
   "cell_type": "code",
   "execution_count": 29,
   "metadata": {
    "collapsed": true
   },
   "outputs": [
    {
     "data": {
      "text/plain": [
       "array([0.49097272,        nan, 0.22496724, 0.16174178, 0.06974741,\n",
       "       0.07286879])"
      ]
     },
     "execution_count": 29,
     "metadata": {},
     "output_type": "execute_result"
    }
   ],
   "source": [
    "mean_variation"
   ]
  },
  {
   "cell_type": "code",
   "execution_count": 49,
   "metadata": {
    "scrolled": true
   },
   "outputs": [
    {
     "data": {
      "text/plain": [
       "array([0.50647537, 0.39146175, 0.4938618 , 0.13122308, 0.06216533,\n",
       "       0.07009489])"
      ]
     },
     "execution_count": 49,
     "metadata": {},
     "output_type": "execute_result"
    }
   ],
   "source": [
    "np.load('./Result/COV/COV_all_vowel_7.npy')"
   ]
  }
 ],
 "metadata": {
  "kernelspec": {
   "display_name": "Python 3",
   "language": "python",
   "name": "python3"
  },
  "language_info": {
   "codemirror_mode": {
    "name": "ipython",
    "version": 3
   },
   "file_extension": ".py",
   "mimetype": "text/x-python",
   "name": "python",
   "nbconvert_exporter": "python",
   "pygments_lexer": "ipython3",
   "version": "3.8.3"
  }
 },
 "nbformat": 4,
 "nbformat_minor": 2
}
